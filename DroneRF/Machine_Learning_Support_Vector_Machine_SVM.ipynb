{
 "cells": [
  {
   "cell_type": "code",
   "execution_count": 1,
   "metadata": {},
   "outputs": [],
   "source": [
    "import numpy as np\n",
    "import matplotlib.pyplot as plt\n",
    "from sklearn.preprocessing import StandardScaler, OneHotEncoder\n",
    "from sklearn import preprocessing\n",
    "\n",
    "from sklearn import svm\n",
    "\n",
    "\n",
    "\n",
    "directory = 'data/DroneRF/RF_Data_FFT/' "
   ]
  },
  {
   "cell_type": "code",
   "execution_count": 2,
   "metadata": {},
   "outputs": [
    {
     "name": "stdout",
     "output_type": "stream",
     "text": [
      "00000_FFT_.csv\t     10010_FFT_power.csv  10110_FFT_.csv\r\n",
      "00000_FFT_power.csv  10011_FFT_.csv\t  10110_FFT_power.csv\r\n",
      "10000_FFT_.csv\t     10011_FFT_power.csv  10111_FFT_.csv\r\n",
      "10000_FFT_power.csv  10100_FFT_.csv\t  10111_FFT_power.csv\r\n",
      "10001_FFT_.csv\t     10100_FFT_power.csv  11000_FFT_.csv\r\n",
      "10001_FFT_power.csv  10101_FFT_.csv\t  11000_FFT_power.csv\r\n",
      "10010_FFT_.csv\t     10101_FFT_power.csv\r\n"
     ]
    }
   ],
   "source": [
    "!cd data/DroneRF/RF_Data_FFT && ls\n"
   ]
  },
  {
   "cell_type": "code",
   "execution_count": 3,
   "metadata": {},
   "outputs": [],
   "source": [
    "bepob_Mode_1 = np.loadtxt(directory+'10000_FFT_power.csv', delimiter=\",\")\n",
    "bepob_Mode_3 = np.loadtxt(directory+'10010_FFT_power.csv', delimiter=\",\")\n",
    "bepob_Mode_4 = np.loadtxt(directory+'10011_FFT_power.csv', delimiter=\",\")\n",
    "\n",
    "ardrone_Mode_1 = np.loadtxt(directory+'10100_FFT_power.csv', delimiter=\",\")\n",
    "ardrone_Mode_2 = np.loadtxt(directory+'10101_FFT_power.csv', delimiter=\",\")\n",
    "ardrone_Mode_3 = np.loadtxt(directory+'10110_FFT_power.csv', delimiter=\",\")\n",
    "\n",
    "\n",
    "phantomDrone1 = np.loadtxt(directory+'11000_FFT_power.csv',delimiter=\",\")\n",
    "\n",
    "backgroundRFnoise = np.loadtxt(directory+'00000_FFT_power.csv',delimiter = \",\")"
   ]
  },
  {
   "cell_type": "markdown",
   "metadata": {},
   "source": [
    "(x,xi) = exp(-gamma * sum((x – xi^2)) \n",
    "clf = svm.SVC(kernel='linear')"
   ]
  },
  {
   "cell_type": "code",
   "execution_count": 4,
   "metadata": {},
   "outputs": [],
   "source": [
    "bepop_Mode_1_transposed = np.transpose(bepob_Mode_1) # (2100,2048)\n",
    "normalised_bepopDrone_Mode_1 = preprocessing.StandardScaler().fit_transform(bepop_Mode_1_transposed)\n",
    "\n",
    "bepop_Mode_3_transposed = np.transpose(bepob_Mode_3) # (2100,2048)\n",
    "normalised_bepopDrone_Mode_3 = preprocessing.StandardScaler().fit_transform(bepop_Mode_3_transposed)\n",
    "\n",
    "bepop_Mode_4_transposed = np.transpose(bepob_Mode_4) # (2100,2048)\n",
    "normalised_bepopDrone_Mode_4 = preprocessing.StandardScaler().fit_transform(bepop_Mode_4_transposed)\n",
    "\n",
    "ardrone_Mode_1_transposed = np.transpose(ardrone_Mode_1) # (2100,2048)\n",
    "normalised_ardrone_Mode_1 = preprocessing.StandardScaler().fit_transform(ardrone_Mode_1_transposed)\n",
    "\n",
    "ardrone_Mode_2_transposed = np.transpose(ardrone_Mode_2) # (2100,2048)\n",
    "normalised_ardrone_Mode_2 = preprocessing.StandardScaler().fit_transform(ardrone_Mode_2_transposed)\n",
    "\n",
    "ardrone_Mode_3_transposed = np.transpose(ardrone_Mode_3) # (2100,2048)\n",
    "normalised_ardrone_Mode_3 = preprocessing.StandardScaler().fit_transform(ardrone_Mode_3_transposed)\n",
    "\n",
    "\n",
    "phantom_Mode_1_transposed = np.transpose(phantomDrone1) # (2100,2048)\n",
    "normalised_phantom_Mode_1 = preprocessing.StandardScaler().fit_transform(phantom_Mode_1_transposed)\n",
    "\n",
    "\n",
    "backgroundRFnoise_transposed = np.transpose(backgroundRFnoise) #(4100,2048)\n",
    "normalised_backgroundRFnoise = preprocessing.StandardScaler().fit_transform(backgroundRFnoise_transposed)"
   ]
  },
  {
   "cell_type": "code",
   "execution_count": 5,
   "metadata": {},
   "outputs": [],
   "source": [
    "import tensorflow as tf\n",
    "indices = [0, 1, 2,3,4,5,6,7]\n",
    "depth = 8\n",
    "x = tf.one_hot(indices, depth)\n",
    "\n",
    "Label_bepopDrone_mode_1 = np.array([0])\n",
    "bepopDrone_Mode_1_concatenate = np.tile(Label_bepopDrone_mode_1[np.newaxis,:],(normalised_bepopDrone_Mode_1.shape[0],1))\n",
    "bepopDrone_Mode_1_dataset=np.concatenate((normalised_bepopDrone_Mode_1,bepopDrone_Mode_1_concatenate),axis=1)\n",
    "\n",
    "Label_bepopDrone_mode_3 = np.array([1])\n",
    "bepopDrone_Mode_3_concatenate = np.tile(Label_bepopDrone_mode_3[np.newaxis,:],(normalised_bepopDrone_Mode_3.shape[0],1))\n",
    "bepopDrone_Mode_3_dataset=np.concatenate((normalised_bepopDrone_Mode_3,bepopDrone_Mode_3_concatenate),axis=1)\n",
    "\n",
    "Label_bepopDrone_mode_4 = np.array([2])\n",
    "bepopDrone_Mode_4_concatenate = np.tile(Label_bepopDrone_mode_4[np.newaxis,:],(normalised_bepopDrone_Mode_4.shape[0],1))\n",
    "bepopDrone_Mode_4_dataset=np.concatenate((normalised_bepopDrone_Mode_4,bepopDrone_Mode_4_concatenate),axis=1)\n",
    "\n",
    "Label_arDrone_mode_1 = np.array([3])\n",
    "arDrone_Mode_1_concatenate = np.tile(Label_arDrone_mode_1[np.newaxis,:],(normalised_ardrone_Mode_1.shape[0],1))\n",
    "arDrone_Mode_1_dataset=np.concatenate((normalised_ardrone_Mode_1,arDrone_Mode_1_concatenate),axis=1)\n",
    "\n",
    "Label_arDrone_mode_2 = np.array([4])\n",
    "arDrone_Mode_2_concatenate = np.tile(Label_arDrone_mode_2[np.newaxis,:],(normalised_ardrone_Mode_2.shape[0],1))\n",
    "arDrone_Mode_2_dataset=np.concatenate((normalised_ardrone_Mode_2,arDrone_Mode_2_concatenate),axis=1)\n",
    "\n",
    "\n",
    "Label_arDrone_mode_3 = np.array([5])\n",
    "arDrone_Mode_3_concatenate = np.tile(Label_arDrone_mode_3[np.newaxis,:],(normalised_ardrone_Mode_3.shape[0],1))\n",
    "arDrone_Mode_3_dataset=np.concatenate((normalised_ardrone_Mode_3,arDrone_Mode_3_concatenate),axis=1)\n",
    "\n",
    "\n",
    "Label_phantomDrone_mode_1 = np.array([6])\n",
    "phantomDrone_Mode_1_concatenate = np.tile(Label_phantomDrone_mode_1[np.newaxis,:],(normalised_phantom_Mode_1.shape[0],1))\n",
    "phantomDrone_Mode_1_dataset=np.concatenate((normalised_phantom_Mode_1,phantomDrone_Mode_1_concatenate),axis=1)\n",
    "\n",
    "\n",
    "Label_backgroundRFactivities = np.array([7])\n",
    "backgroundRFactivities_concatenate = np.tile(Label_backgroundRFactivities[np.newaxis,:],(normalised_backgroundRFnoise.shape[0],1))\n",
    "backgroundRFactivities_dataset=np.concatenate((normalised_backgroundRFnoise,backgroundRFactivities_concatenate),axis=1)\n",
    "\n"
   ]
  },
  {
   "cell_type": "code",
   "execution_count": 6,
   "metadata": {},
   "outputs": [
    {
     "data": {
      "text/plain": [
       "array([[-0.04746385, -0.04425344, -0.04377549, ..., -0.07347383,\n",
       "        -0.05273732,  0.        ],\n",
       "       [-0.04811591, -0.04433672, -0.04432907, ..., -0.07339473,\n",
       "        -0.05257146,  0.        ],\n",
       "       [-0.04810812, -0.04423158, -0.04435525, ..., -0.07328635,\n",
       "        -0.05303774,  0.        ],\n",
       "       ...,\n",
       "       [-0.04809801, -0.04421796, -0.04438945, ..., -0.07338544,\n",
       "        -0.05298346,  0.        ],\n",
       "       [-0.04811767, -0.04429427, -0.04449655, ..., -0.07304479,\n",
       "        -0.05286248,  0.        ],\n",
       "       [-0.04816103, -0.04430308, -0.04433287, ..., -0.073384  ,\n",
       "        -0.0528925 ,  0.        ]])"
      ]
     },
     "execution_count": 6,
     "metadata": {},
     "output_type": "execute_result"
    }
   ],
   "source": [
    "bepopDrone_Mode_1_dataset"
   ]
  },
  {
   "cell_type": "code",
   "execution_count": 7,
   "metadata": {},
   "outputs": [],
   "source": [
    "np.random.shuffle(bepopDrone_Mode_1_dataset) #shuffle to retrieve Test Data\n",
    "bepopDrone_Mode_1_index_Test = int(0.1*bepopDrone_Mode_1_dataset.shape[0])\n",
    "bepopDrone_Mode_1_index_Validate = int(0.2*bepopDrone_Mode_1_dataset.shape[0])+bepopDrone_Mode_1_index_Test\n",
    "\n",
    "Test_bepopDrone_mode_1 = bepopDrone_Mode_1_dataset[0:bepopDrone_Mode_1_index_Test,0:2048]\n",
    "y_Test_bepopDrone_mode_1 = bepopDrone_Mode_1_dataset[0:bepopDrone_Mode_1_index_Test,2048:]\n",
    "\n",
    "bepopDRone_mode_1_R = bepopDrone_Mode_1_dataset[bepopDrone_Mode_1_index_Test:,:]\n",
    "\n",
    "Validate_bepopDrone_mode_1 = bepopDrone_Mode_1_dataset[bepopDrone_Mode_1_index_Test:bepopDrone_Mode_1_index_Validate,:]\n",
    "Training_bepopDrone_mode_1 = bepopDrone_Mode_1_dataset[bepopDrone_Mode_1_index_Validate:,:]\n",
    "\n",
    "##===========================================================================================\n",
    "\n",
    "np.random.shuffle(bepopDrone_Mode_3_dataset)\n",
    "bepopDrone_Mode_3_index_Test = int(0.1*bepopDrone_Mode_3_dataset.shape[0])\n",
    "bepopDrone_Mode_3_index_Validate = int(0.2*bepopDrone_Mode_3_dataset.shape[0])+bepopDrone_Mode_3_index_Test\n",
    "\n",
    "Test_bepopDrone_mode_3 = bepopDrone_Mode_3_dataset[0:bepopDrone_Mode_3_index_Test,0:2048]\n",
    "y_Test_bepopDrone_mode_3 = bepopDrone_Mode_3_dataset[0:bepopDrone_Mode_3_index_Test,2048:]\n",
    "\n",
    "bepopDrone_mode_3_R = bepopDrone_Mode_3_dataset[bepopDrone_Mode_3_index_Test:,:]\n",
    "\n",
    "Validate_bepopDrone_mode_3 = bepopDrone_Mode_3_dataset[bepopDrone_Mode_3_index_Test:bepopDrone_Mode_3_index_Validate,:]\n",
    "Training_bepopDrone_mode_3 = bepopDrone_Mode_3_dataset[bepopDrone_Mode_3_index_Validate:,:]\n",
    "\n",
    "\n",
    "##=============================================================================================\n",
    "\n",
    "\n",
    "np.random.shuffle(bepopDrone_Mode_4_dataset)\n",
    "bepopDrone_Mode_4_index_Test = int(0.1*bepopDrone_Mode_4_dataset.shape[0])\n",
    "bepopDrone_Mode_4_index_Validate = int(0.2*bepopDrone_Mode_4_dataset.shape[0])+bepopDrone_Mode_4_index_Test\n",
    "\n",
    "Test_bepopDrone_mode_4 = bepopDrone_Mode_4_dataset[0:bepopDrone_Mode_4_index_Test,0:2048]\n",
    "y_Test_bepopDrone_mode_4 = bepopDrone_Mode_4_dataset[0:bepopDrone_Mode_4_index_Test,2048:]\n",
    "\n",
    "bepopDrone_mode_4_R = bepopDrone_Mode_4_dataset[bepopDrone_Mode_4_index_Test:,:]\n",
    "\n",
    "Validate_bepopDrone_mode_4 = bepopDrone_Mode_4_dataset[bepopDrone_Mode_4_index_Test:bepopDrone_Mode_4_index_Validate,:]\n",
    "Training_bepopDrone_mode_4 = bepopDrone_Mode_4_dataset[bepopDrone_Mode_4_index_Validate:,:]\n",
    "\n",
    "##===============================================================================================\n",
    "\n",
    "np.random.shuffle(arDrone_Mode_1_dataset)\n",
    "arDrone_Mode_1_index_Test = int(0.1*arDrone_Mode_1_dataset.shape[0])\n",
    "arDrone_Mode_1_index_Validate = int(0.2*arDrone_Mode_1_dataset.shape[0])+arDrone_Mode_1_index_Test\n",
    "\n",
    "Test_arDrone_mode_1 = arDrone_Mode_1_dataset[0:arDrone_Mode_1_index_Test,0:2048]\n",
    "y_Test_arDrone_mode_1 = arDrone_Mode_1_dataset[0:arDrone_Mode_1_index_Test,2048:]\n",
    "\n",
    "arDrone_mode_1_R = arDrone_Mode_1_dataset[arDrone_Mode_1_index_Test:,:]\n",
    "\n",
    "Validate_arDrone_mode_1 = arDrone_Mode_1_dataset[arDrone_Mode_1_index_Test:arDrone_Mode_1_index_Validate,:]\n",
    "Training_arDrone_mode_1 = arDrone_Mode_1_dataset[arDrone_Mode_1_index_Validate:,:]\n",
    "\n",
    "\n",
    "##==============================================================================================================================\n",
    "np.random.shuffle(arDrone_Mode_2_dataset)\n",
    "arDrone_Mode_2_index_Test = int(0.1*arDrone_Mode_2_dataset.shape[0])\n",
    "arDrone_Mode_2_index_Validate = int(0.2*arDrone_Mode_2_dataset.shape[0])+arDrone_Mode_2_index_Test\n",
    "\n",
    "Test_arDrone_mode_2 = arDrone_Mode_2_dataset[0:arDrone_Mode_2_index_Test,0:2048]\n",
    "y_Test_arDrone_mode_2 = arDrone_Mode_2_dataset[0:arDrone_Mode_2_index_Test,2048:]\n",
    "\n",
    "arDrone_mode_2_R = arDrone_Mode_2_dataset[arDrone_Mode_2_index_Test:,:]\n",
    "\n",
    "Validate_arDrone_mode_2 = arDrone_Mode_2_dataset[arDrone_Mode_2_index_Test:arDrone_Mode_2_index_Validate,:]\n",
    "Training_arDrone_mode_2 = arDrone_Mode_2_dataset[arDrone_Mode_2_index_Validate:,:]\n",
    "\n",
    "\n",
    "##================================================================================================================\n",
    "\n",
    "np.random.shuffle(arDrone_Mode_3_dataset)\n",
    "arDrone_Mode_3_index_Test = int(0.1*arDrone_Mode_3_dataset.shape[0])\n",
    "arDrone_Mode_3_index_Validate = int(0.2*arDrone_Mode_3_dataset.shape[0])+arDrone_Mode_3_index_Test\n",
    "\n",
    "Test_arDrone_mode_3 = arDrone_Mode_3_dataset[0:arDrone_Mode_3_index_Test,0:2048]\n",
    "y_Test_arDrone_mode_3 = arDrone_Mode_3_dataset[0:arDrone_Mode_3_index_Test,2048:]\n",
    "\n",
    "Validate_arDrone_mode_3 = arDrone_Mode_3_dataset[arDrone_Mode_3_index_Test:arDrone_Mode_3_index_Validate,:]\n",
    "Training_arDrone_mode_3 = arDrone_Mode_3_dataset[arDrone_Mode_3_index_Validate:,:]\n",
    "\n",
    "##+==================================================================================================\n",
    "\n",
    "np.random.shuffle(phantomDrone_Mode_1_dataset)\n",
    "phantomDrone_Mode_1_index_Test = int(0.1*phantomDrone_Mode_1_dataset.shape[0])\n",
    "phantomDrone_Mode_1_index_Validate = int(0.2*phantomDrone_Mode_1_dataset.shape[0])+phantomDrone_Mode_1_index_Test\n",
    "\n",
    "Test_phantomDrone_mode_1 = phantomDrone_Mode_1_dataset[0:phantomDrone_Mode_1_index_Test,0:2048]\n",
    "y_Test_phantomDrone_mode_1 = phantomDrone_Mode_1_dataset[0:phantomDrone_Mode_1_index_Test,2048:]\n",
    "\n",
    "Validate_phantomDrone_mode_1 = phantomDrone_Mode_1_dataset[phantomDrone_Mode_1_index_Test:phantomDrone_Mode_1_index_Validate,:]\n",
    "Training_phantomDrone_mode_1 = phantomDrone_Mode_1_dataset[phantomDrone_Mode_1_index_Validate:,:]\n",
    "\n",
    "\n",
    "##======================================================================================================\n",
    "\n",
    "np.random.shuffle(backgroundRFactivities_dataset)\n",
    "backgroundRFactivities_index_Test = int(0.1*backgroundRFactivities_dataset.shape[0])\n",
    "backgroundRFactivities_index_Validate = int(0.2*backgroundRFactivities_dataset.shape[0])+backgroundRFactivities_index_Test\n",
    "\n",
    "Test_backgroundRFactivities = backgroundRFactivities_dataset[0:backgroundRFactivities_index_Test,0:2048]\n",
    "y_Test_backgroundRFactivities = backgroundRFactivities_dataset[0:backgroundRFactivities_index_Test,2048:]\n",
    "\n",
    "Validate_backgroundRFactivities = backgroundRFactivities_dataset[backgroundRFactivities_index_Test:backgroundRFactivities_index_Validate,:]\n",
    "\n",
    "#2870\n",
    "Training_backgroundRFactivities = backgroundRFactivities_dataset[backgroundRFactivities_index_Validate:,:]\n"
   ]
  },
  {
   "cell_type": "code",
   "execution_count": 8,
   "metadata": {},
   "outputs": [],
   "source": [
    "stacked_Validation = np.vstack((Validate_backgroundRFactivities,Validate_phantomDrone_mode_1,Validate_arDrone_mode_3,\n",
    "                               Validate_arDrone_mode_2,Validate_arDrone_mode_1,Validate_bepopDrone_mode_4,Validate_bepopDrone_mode_3,\n",
    "                               Validate_bepopDrone_mode_1))\n",
    "\n",
    "np.random.shuffle(stacked_Validation)\n",
    "validation_Stacked_Dataset = stacked_Validation[:,0:2048]\n",
    "Y_validation_Stacked_Dataset = stacked_Validation[:,2048:]"
   ]
  },
  {
   "cell_type": "code",
   "execution_count": 9,
   "metadata": {},
   "outputs": [
    {
     "data": {
      "text/plain": [
       "(3760, 1)"
      ]
     },
     "execution_count": 9,
     "metadata": {},
     "output_type": "execute_result"
    }
   ],
   "source": [
    "Y_validation_Stacked_Dataset.shape"
   ]
  },
  {
   "cell_type": "code",
   "execution_count": 10,
   "metadata": {},
   "outputs": [],
   "source": [
    "stacked_Training = np.vstack((Training_backgroundRFactivities,Training_phantomDrone_mode_1,Training_arDrone_mode_3,\n",
    "                             Training_arDrone_mode_2,Training_arDrone_mode_1,Training_bepopDrone_mode_4,Training_bepopDrone_mode_3,\n",
    "                              Training_bepopDrone_mode_1))\n",
    "np.random.shuffle(stacked_Training)\n",
    "Training_Stacked_Dataset = stacked_Training[:,0:2048]\n",
    "Y_training_Stacked_Dataset = stacked_Training[:,2048:]"
   ]
  },
  {
   "cell_type": "code",
   "execution_count": 11,
   "metadata": {},
   "outputs": [
    {
     "data": {
      "text/plain": [
       "array([[7.],\n",
       "       [3.],\n",
       "       [6.],\n",
       "       ...,\n",
       "       [2.],\n",
       "       [7.],\n",
       "       [3.]])"
      ]
     },
     "execution_count": 11,
     "metadata": {},
     "output_type": "execute_result"
    }
   ],
   "source": [
    "Y_training_Stacked_Dataset\n"
   ]
  },
  {
   "cell_type": "code",
   "execution_count": 12,
   "metadata": {},
   "outputs": [],
   "source": [
    "oneDimension_Y_training_Stacked_Dataset=np.ravel(Y_training_Stacked_Dataset, order='C')"
   ]
  },
  {
   "cell_type": "code",
   "execution_count": null,
   "metadata": {},
   "outputs": [],
   "source": []
  },
  {
   "cell_type": "code",
   "execution_count": 13,
   "metadata": {},
   "outputs": [
    {
     "data": {
      "text/plain": [
       "array([7., 3., 6., ..., 2., 7., 3.])"
      ]
     },
     "execution_count": 13,
     "metadata": {},
     "output_type": "execute_result"
    }
   ],
   "source": [
    "oneDimension_Y_training_Stacked_Dataset"
   ]
  },
  {
   "cell_type": "markdown",
   "metadata": {},
   "source": [
    "## Support Vector Machine "
   ]
  },
  {
   "cell_type": "code",
   "execution_count": 23,
   "metadata": {},
   "outputs": [],
   "source": [
    "#Changing dimension size for the SVM prediction[ True Y values of respective modes ]\n",
    "oneDimension_y_Test_bepopDrone_mode_1=np.ravel(y_Test_bepopDrone_mode_1, order='C')\n",
    "oneDimension_y_Test_bepopDrone_mode_3=np.ravel(y_Test_bepopDrone_mode_3, order='C')\n",
    "oneDimension_y_Test_bepopDrone_mode_4=np.ravel(y_Test_bepopDrone_mode_4, order='C')\n",
    "oneDimension_y_Test_arDrone_mode_1=np.ravel(y_Test_arDrone_mode_1, order='C')\n",
    "oneDimension_y_Test_arDrone_mode_2=np.ravel(y_Test_arDrone_mode_2, order='C')\n",
    "oneDimension_y_Test_arDrone_mode_3=np.ravel(y_Test_arDrone_mode_3, order='C')\n",
    "oneDimension_y_Test_phantomDrone_mode_1=np.ravel(y_Test_phantomDrone_mode_1, order='C')\n",
    "oneDimension_y_Test_backgroundRFactivities=np.ravel(y_Test_backgroundRFactivities, order='C')\n",
    "\n",
    "'''\n",
    "oneDimension_y_Test_all = np.vstack((oneDimension_y_Test_bepopDrone_mode_1,oneDimension_y_Test_bepopDrone_mode_3,\n",
    "                                    oneDimension_y_Test_bepopDrone_mode_4,oneDimension_y_Test_arDrone_mode_1,\n",
    "                                    oneDimension_y_Test_arDrone_mode_2,oneDimension_y_Test_arDrone_mode_3,\n",
    "                                    oneDimension_y_Test_phantomDrone_mode_1,oneDimension_y_Test_backgroundRFactivities))\n",
    "'''\n",
    "\n",
    "oneDImension_x_Test_all =np.vstack((Test_bepopDrone_mode_1,Test_bepopDrone_mode_3,Test_bepopDrone_mode_4,Test_arDrone_mode_1\n",
    "                       ,Test_arDrone_mode_2,Test_arDrone_mode_3,Test_phantomDrone_mode_1,Test_backgroundRFactivities))\n"
   ]
  },
  {
   "cell_type": "code",
   "execution_count": 27,
   "metadata": {},
   "outputs": [
    {
     "data": {
      "text/plain": [
       "SVC()"
      ]
     },
     "execution_count": 27,
     "metadata": {},
     "output_type": "execute_result"
    }
   ],
   "source": [
    "from sklearn import svm\n",
    "# Creating a SVM Classifier \n",
    "svm_classifier_rbf = svm.SVC(kernel='rbf')\n",
    "svm_classifier_rbf.fit(Training_Stacked_Dataset,oneDimension_Y_training_Stacked_Dataset)"
   ]
  },
  {
   "cell_type": "code",
   "execution_count": 30,
   "metadata": {},
   "outputs": [
    {
     "data": {
      "text/plain": [
       "SVC(kernel='linear')"
      ]
     },
     "execution_count": 30,
     "metadata": {},
     "output_type": "execute_result"
    }
   ],
   "source": [
    "from sklearn import svm\n",
    "# Creating a SVM Classifier \n",
    "svm_classifier_linear = svm.SVC(kernel='linear')\n",
    "svm_classifier_linear.fit(Training_Stacked_Dataset,oneDimension_Y_training_Stacked_Dataset)"
   ]
  },
  {
   "cell_type": "code",
   "execution_count": 40,
   "metadata": {},
   "outputs": [
    {
     "data": {
      "text/plain": [
       "array([7., 0., 0., 0., 0., 0., 0., 0., 0., 0., 0., 0., 0., 0., 0., 0., 3.,\n",
       "       0., 0., 0., 0., 0., 0., 0., 3., 0., 0., 0., 0., 0., 0., 0., 0., 0.,\n",
       "       3., 0., 0., 0., 0., 0., 3., 0., 7., 0., 0., 0., 0., 3., 0., 0., 0.,\n",
       "       0., 0., 0., 0., 0., 0., 0., 0., 0., 0., 0., 0., 0., 0., 0., 0., 0.,\n",
       "       0., 0., 0., 0., 0., 0., 0., 0., 0., 0., 0., 7., 0., 0., 0., 0., 0.,\n",
       "       0., 3., 0., 0., 0., 0., 0., 0., 0., 0., 0., 0., 0., 0., 0., 0., 0.,\n",
       "       0., 0., 0., 0., 7., 0., 0., 0., 0., 0., 0., 0., 0., 3., 0., 0., 7.,\n",
       "       0., 0., 0., 0., 0., 0., 0., 0., 0., 0., 0., 0., 0., 0., 0., 0., 0.,\n",
       "       0., 7., 0., 7., 7., 0., 0., 0., 0., 7., 0., 0., 0., 0., 3., 0., 0.,\n",
       "       0., 0., 0., 0., 0., 0., 0., 0., 0., 1., 0., 0., 0., 0., 0., 0., 0.,\n",
       "       0., 0., 0., 0., 0., 0., 0., 0., 7., 0., 0., 0., 0., 0., 0., 0., 0.,\n",
       "       0., 0., 0., 0., 0., 7., 7., 0., 0., 0., 0., 0., 0., 0., 0., 7., 0.,\n",
       "       0., 0., 0., 0., 0., 7.])"
      ]
     },
     "execution_count": 40,
     "metadata": {},
     "output_type": "execute_result"
    }
   ],
   "source": [
    "y_pred_rbf=svm_classifier_rbf.predict(Test_bepopDrone_mode_1)#using Radial Base Function Kernal\n",
    "y_pred_rbf"
   ]
  },
  {
   "cell_type": "code",
   "execution_count": 41,
   "metadata": {},
   "outputs": [
    {
     "name": "stdout",
     "output_type": "stream",
     "text": [
      "Accuracy: 0.8904761904761904\n"
     ]
    }
   ],
   "source": [
    "from sklearn import metrics\n",
    "print(\"Accuracy:\",metrics.accuracy_score(oneDimension_y_Test_bepopDrone_mode_1, y_pred_rbf))"
   ]
  },
  {
   "cell_type": "code",
   "execution_count": 32,
   "metadata": {},
   "outputs": [
    {
     "data": {
      "text/plain": [
       "array([3., 1., 0., 0., 0., 0., 0., 0., 0., 0., 0., 0., 0., 0., 0., 0., 5.,\n",
       "       0., 0., 0., 0., 0., 0., 0., 7., 0., 0., 0., 0., 0., 0., 0., 0., 0.,\n",
       "       0., 0., 0., 0., 0., 0., 1., 0., 1., 0., 0., 0., 0., 7., 0., 0., 6.,\n",
       "       0., 0., 0., 0., 0., 0., 0., 0., 0., 0., 7., 0., 0., 0., 0., 0., 0.,\n",
       "       0., 0., 0., 0., 3., 0., 0., 0., 0., 0., 0., 3., 0., 0., 0., 0., 0.,\n",
       "       0., 7., 0., 0., 0., 0., 0., 0., 0., 2., 0., 0., 0., 0., 0., 7., 0.,\n",
       "       0., 0., 0., 0., 7., 0., 0., 0., 1., 0., 0., 0., 0., 3., 0., 0., 5.,\n",
       "       0., 0., 0., 0., 0., 0., 0., 0., 0., 0., 3., 0., 0., 0., 0., 0., 0.,\n",
       "       0., 3., 0., 6., 1., 0., 0., 0., 0., 1., 0., 0., 0., 0., 1., 0., 0.,\n",
       "       0., 0., 0., 0., 0., 0., 0., 0., 0., 0., 0., 0., 0., 0., 0., 0., 0.,\n",
       "       0., 0., 0., 0., 0., 0., 0., 0., 1., 2., 0., 0., 0., 0., 0., 0., 0.,\n",
       "       0., 0., 0., 0., 0., 1., 1., 0., 5., 0., 0., 0., 0., 0., 0., 2., 0.,\n",
       "       3., 0., 0., 0., 0., 4.])"
      ]
     },
     "execution_count": 32,
     "metadata": {},
     "output_type": "execute_result"
    }
   ],
   "source": [
    "y_pred_linear=svm_classifier_linear.predict(Test_bepopDrone_mode_1)#using Linear Kernal\n",
    "y_pred_linear"
   ]
  },
  {
   "cell_type": "code",
   "execution_count": 34,
   "metadata": {},
   "outputs": [
    {
     "name": "stdout",
     "output_type": "stream",
     "text": [
      "Accuracy: 0.8476190476190476\n"
     ]
    }
   ],
   "source": [
    "from sklearn import metrics\n",
    "print(\"Accuracy:\",metrics.accuracy_score(oneDimension_y_Test_bepopDrone_mode_1, y_pred_linear))"
   ]
  },
  {
   "cell_type": "code",
   "execution_count": null,
   "metadata": {},
   "outputs": [],
   "source": [
    "from sklearn.metrics import confusion_matrix\n",
    "y_confusion_Test = np.argmax(y_Test_all,axis=1)\n",
    "y_confusion_pred = np.argmax(y_pred, axis=1)\n",
    "confusion_matrix_DroneRF  = confusion_matrix(y_confusion_Test, y_confusion_pred, labels=None, sample_weight=None, normalize=None)"
   ]
  }
 ],
 "metadata": {
  "kernelspec": {
   "display_name": "Python 3",
   "language": "python",
   "name": "python3"
  },
  "language_info": {
   "codemirror_mode": {
    "name": "ipython",
    "version": 3
   },
   "file_extension": ".py",
   "mimetype": "text/x-python",
   "name": "python",
   "nbconvert_exporter": "python",
   "pygments_lexer": "ipython3",
   "version": "3.7.2"
  }
 },
 "nbformat": 4,
 "nbformat_minor": 4
}

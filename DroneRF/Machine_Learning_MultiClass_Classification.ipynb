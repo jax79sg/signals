{
 "cells": [
  {
   "cell_type": "code",
   "execution_count": 22,
   "metadata": {},
   "outputs": [],
   "source": [
    "from tensorflow import keras\n",
    "from tensorflow.keras import layers\n",
    "from keras.models import Sequential\n",
    "from keras.layers import Dense\n",
    "import tensorflow as tf\n",
    "\n",
    "import numpy as np\n",
    "import matplotlib.pyplot as plt\n",
    "\n",
    "\n",
    "from sklearn.preprocessing import StandardScaler, OneHotEncoder\n",
    "from sklearn.compose import ColumnTransformer, make_column_transformer\n",
    "from sklearn import preprocessing\n",
    "\n",
    "import random\n",
    "\n",
    "directory = 'data/DroneRF/RF_Data_FFT/'"
   ]
  },
  {
   "cell_type": "code",
   "execution_count": 23,
   "metadata": {},
   "outputs": [
    {
     "name": "stdout",
     "output_type": "stream",
     "text": [
      "00000_FFT_.csv\t     10010_FFT_power.csv  10110_FFT_.csv\r\n",
      "00000_FFT_power.csv  10011_FFT_.csv\t  10110_FFT_power.csv\r\n",
      "10000_FFT_.csv\t     10011_FFT_power.csv  10111_FFT_.csv\r\n",
      "10000_FFT_power.csv  10100_FFT_.csv\t  10111_FFT_power.csv\r\n",
      "10001_FFT_.csv\t     10100_FFT_power.csv  11000_FFT_.csv\r\n",
      "10001_FFT_power.csv  10101_FFT_.csv\t  11000_FFT_power.csv\r\n",
      "10010_FFT_.csv\t     10101_FFT_power.csv\r\n"
     ]
    }
   ],
   "source": [
    "!cd data/DroneRF/RF_Data_FFT && ls"
   ]
  },
  {
   "cell_type": "code",
   "execution_count": 24,
   "metadata": {},
   "outputs": [],
   "source": [
    "bepob_Mode_1 = np.loadtxt(directory+'10000_FFT_power.csv', delimiter=\",\")\n",
    "bepob_Mode_3 = np.loadtxt(directory+'10010_FFT_power.csv', delimiter=\",\")\n",
    "bepob_Mode_4 = np.loadtxt(directory+'10011_FFT_power.csv', delimiter=\",\")\n",
    "\n",
    "ardrone_Mode_1 = np.loadtxt(directory+'10100_FFT_power.csv', delimiter=\",\")\n",
    "ardrone_Mode_2 = np.loadtxt(directory+'10101_FFT_power.csv', delimiter=\",\")\n",
    "ardrone_Mode_3 = np.loadtxt(directory+'10110_FFT_power.csv', delimiter=\",\")\n",
    "\n",
    "\n",
    "phantomDrone1 = np.loadtxt(directory+'11000_FFT_power.csv',delimiter=\",\")\n",
    "\n",
    "backgroundRFnoise = np.loadtxt(directory+'00000_FFT_power.csv',delimiter = \",\")\n",
    "\n",
    "#Different number of class : 8"
   ]
  },
  {
   "cell_type": "code",
   "execution_count": 25,
   "metadata": {},
   "outputs": [],
   "source": [
    "bepop_Mode_1_transposed = np.transpose(bepob_Mode_1) # (2100,2048)\n",
    "normalised_bepopDrone_Mode_1 = preprocessing.StandardScaler().fit_transform(bepop_Mode_1_transposed)\n",
    "\n",
    "bepop_Mode_3_transposed = np.transpose(bepob_Mode_3) # (2100,2048)\n",
    "normalised_bepopDrone_Mode_3 = preprocessing.StandardScaler().fit_transform(bepop_Mode_3_transposed)\n",
    "\n",
    "bepop_Mode_4_transposed = np.transpose(bepob_Mode_4) # (2100,2048)\n",
    "normalised_bepopDrone_Mode_4 = preprocessing.StandardScaler().fit_transform(bepop_Mode_4_transposed)\n",
    "\n",
    "ardrone_Mode_1_transposed = np.transpose(ardrone_Mode_1) # (2100,2048)\n",
    "normalised_ardrone_Mode_1 = preprocessing.StandardScaler().fit_transform(ardrone_Mode_1_transposed)\n",
    "\n",
    "ardrone_Mode_2_transposed = np.transpose(ardrone_Mode_2) # (2100,2048)\n",
    "normalised_ardrone_Mode_2 = preprocessing.StandardScaler().fit_transform(ardrone_Mode_2_transposed)\n",
    "\n",
    "ardrone_Mode_3_transposed = np.transpose(ardrone_Mode_3) # (2100,2048)\n",
    "normalised_ardrone_Mode_3 = preprocessing.StandardScaler().fit_transform(ardrone_Mode_3_transposed)\n",
    "\n",
    "\n",
    "phantom_Mode_1_transposed = np.transpose(phantomDrone1) # (2100,2048)\n",
    "normalised_phantom_Mode_1 = preprocessing.StandardScaler().fit_transform(phantom_Mode_1_transposed)\n",
    "\n",
    "\n",
    "backgroundRFnoise_transposed = np.transpose(backgroundRFnoise) #(4100,2048)\n",
    "normalised_backgroundRFnoise = preprocessing.StandardScaler().fit_transform(backgroundRFnoise_transposed)"
   ]
  },
  {
   "cell_type": "code",
   "execution_count": 5,
   "metadata": {},
   "outputs": [
    {
     "data": {
      "text/plain": [
       "(2100, 2048)"
      ]
     },
     "execution_count": 5,
     "metadata": {},
     "output_type": "execute_result"
    }
   ],
   "source": [
    "normalised_bepopDrone_Mode_1.shape"
   ]
  },
  {
   "cell_type": "code",
   "execution_count": null,
   "metadata": {},
   "outputs": [],
   "source": []
  },
  {
   "cell_type": "code",
   "execution_count": 26,
   "metadata": {},
   "outputs": [],
   "source": [
    "'''\n",
    "X = [['bepop_Mode_1', 1], ['bepop_Mode_3', 2], ['bepop_Mode_4', 3],['ardrone_Mode_1',4],\n",
    "     ['ardrone_Mode_2',5],['ardrone_Mode_3',6], ['phantom_Mode_1',7],['backgroundRFnoise',8]]\n",
    "enc = OneHotEncoder(drop='first').fit(X)\n",
    "array_enc = enc.transform(X).toarray()\n",
    "enc.inverse_transform([array_enc[0]])\n",
    "'''\n",
    "import tensorflow as tf\n",
    "indices = [0, 1, 2,3,4,5,6,7]\n",
    "depth = 8\n",
    "x = tf.one_hot(indices, depth)\n",
    "\n",
    "Label_bepopDrone_mode_1 = x.numpy()[0]\n",
    "bepopDrone_Mode_1_concatenate = np.tile(Label_bepopDrone_mode_1[np.newaxis,:],(normalised_bepopDrone_Mode_1.shape[0],1))\n",
    "bepopDrone_Mode_1_dataset=np.concatenate((normalised_bepopDrone_Mode_1,bepopDrone_Mode_1_concatenate),axis=1)\n",
    "\n",
    "Label_bepopDrone_mode_3 = x.numpy()[1]\n",
    "bepopDrone_Mode_3_concatenate = np.tile(Label_bepopDrone_mode_3[np.newaxis,:],(normalised_bepopDrone_Mode_3.shape[0],1))\n",
    "bepopDrone_Mode_3_dataset=np.concatenate((normalised_bepopDrone_Mode_3,bepopDrone_Mode_3_concatenate),axis=1)\n",
    "\n",
    "Label_bepopDrone_mode_4 = x.numpy()[2]\n",
    "bepopDrone_Mode_4_concatenate = np.tile(Label_bepopDrone_mode_4[np.newaxis,:],(normalised_bepopDrone_Mode_4.shape[0],1))\n",
    "bepopDrone_Mode_4_dataset=np.concatenate((normalised_bepopDrone_Mode_4,bepopDrone_Mode_4_concatenate),axis=1)\n",
    "\n",
    "Label_arDrone_mode_1 = x.numpy()[3]\n",
    "arDrone_Mode_1_concatenate = np.tile(Label_arDrone_mode_1[np.newaxis,:],(normalised_ardrone_Mode_1.shape[0],1))\n",
    "arDrone_Mode_1_dataset=np.concatenate((normalised_ardrone_Mode_1,arDrone_Mode_1_concatenate),axis=1)\n",
    "\n",
    "Label_arDrone_mode_2 = x.numpy()[4]\n",
    "arDrone_Mode_2_concatenate = np.tile(Label_arDrone_mode_2[np.newaxis,:],(normalised_ardrone_Mode_2.shape[0],1))\n",
    "arDrone_Mode_2_dataset=np.concatenate((normalised_ardrone_Mode_2,arDrone_Mode_2_concatenate),axis=1)\n",
    "\n",
    "\n",
    "Label_arDrone_mode_3 = x.numpy()[5]\n",
    "arDrone_Mode_3_concatenate = np.tile(Label_arDrone_mode_3[np.newaxis,:],(normalised_ardrone_Mode_3.shape[0],1))\n",
    "arDrone_Mode_3_dataset=np.concatenate((normalised_ardrone_Mode_3,arDrone_Mode_3_concatenate),axis=1)\n",
    "\n",
    "\n",
    "Label_phantomDrone_mode_1 = x.numpy()[6]\n",
    "phantomDrone_Mode_1_concatenate = np.tile(Label_phantomDrone_mode_1[np.newaxis,:],(normalised_phantom_Mode_1.shape[0],1))\n",
    "phantomDrone_Mode_1_dataset=np.concatenate((normalised_phantom_Mode_1,phantomDrone_Mode_1_concatenate),axis=1)\n",
    "\n",
    "\n",
    "Label_backgroundRFactivities = x.numpy()[7]\n",
    "backgroundRFactivities_concatenate = np.tile(Label_backgroundRFactivities[np.newaxis,:],(normalised_backgroundRFnoise.shape[0],1))\n",
    "backgroundRFactivities_dataset=np.concatenate((normalised_backgroundRFnoise,backgroundRFactivities_concatenate),axis=1)\n",
    "\n",
    "\n"
   ]
  },
  {
   "cell_type": "code",
   "execution_count": 27,
   "metadata": {},
   "outputs": [
    {
     "data": {
      "text/plain": [
       "array([[0., 0., 0., ..., 0., 0., 1.],\n",
       "       [0., 0., 0., ..., 0., 0., 1.],\n",
       "       [0., 0., 0., ..., 0., 0., 1.],\n",
       "       ...,\n",
       "       [0., 0., 0., ..., 0., 0., 1.],\n",
       "       [0., 0., 0., ..., 0., 0., 1.],\n",
       "       [0., 0., 0., ..., 0., 0., 1.]])"
      ]
     },
     "execution_count": 27,
     "metadata": {},
     "output_type": "execute_result"
    }
   ],
   "source": [
    "backgroundRFactivities_dataset[:,2048:]"
   ]
  },
  {
   "cell_type": "code",
   "execution_count": null,
   "metadata": {},
   "outputs": [],
   "source": []
  },
  {
   "cell_type": "code",
   "execution_count": 28,
   "metadata": {},
   "outputs": [
    {
     "data": {
      "text/plain": [
       "array([1., 0., 0., 0., 0., 0., 0., 0.])"
      ]
     },
     "execution_count": 28,
     "metadata": {},
     "output_type": "execute_result"
    }
   ],
   "source": [
    "bepopDrone_Mode_1_dataset[0,2048:]"
   ]
  },
  {
   "cell_type": "code",
   "execution_count": 29,
   "metadata": {},
   "outputs": [],
   "source": [
    "np.random.shuffle(bepopDrone_Mode_1_dataset) #shuffle to retrieve Test Data\n",
    "bepopDrone_Mode_1_index_Test = int(0.1*bepopDrone_Mode_1_dataset.shape[0])\n",
    "bepopDrone_Mode_1_index_Validate = int(0.2*bepopDrone_Mode_1_dataset.shape[0])+bepopDrone_Mode_1_index_Test\n",
    "\n",
    "Test_bepopDrone_mode_1 = bepopDrone_Mode_1_dataset[0:bepopDrone_Mode_1_index_Test,0:2048]\n",
    "y_Test_bepopDrone_mode_1 = bepopDrone_Mode_1_dataset[0:bepopDrone_Mode_1_index_Test,2048:]\n",
    "\n",
    "bepopDRone_mode_1_R = bepopDrone_Mode_1_dataset[bepopDrone_Mode_1_index_Test:,:]\n",
    "\n",
    "Validate_bepopDrone_mode_1 = bepopDrone_Mode_1_dataset[bepopDrone_Mode_1_index_Test:bepopDrone_Mode_1_index_Validate,:]\n",
    "Training_bepopDrone_mode_1 = bepopDrone_Mode_1_dataset[bepopDrone_Mode_1_index_Validate:,:]\n",
    "\n",
    "##===========================================================================================\n",
    "\n",
    "np.random.shuffle(bepopDrone_Mode_3_dataset)\n",
    "bepopDrone_Mode_3_index_Test = int(0.1*bepopDrone_Mode_3_dataset.shape[0])\n",
    "bepopDrone_Mode_3_index_Validate = int(0.2*bepopDrone_Mode_3_dataset.shape[0])+bepopDrone_Mode_3_index_Test\n",
    "\n",
    "Test_bepopDrone_mode_3 = bepopDrone_Mode_3_dataset[0:bepopDrone_Mode_3_index_Test,0:2048]\n",
    "y_Test_bepopDrone_mode_3 = bepopDrone_Mode_3_dataset[0:bepopDrone_Mode_3_index_Test,2048:]\n",
    "\n",
    "bepopDrone_mode_3_R = bepopDrone_Mode_3_dataset[bepopDrone_Mode_3_index_Test:,:]\n",
    "\n",
    "Validate_bepopDrone_mode_3 = bepopDrone_Mode_3_dataset[bepopDrone_Mode_3_index_Test:bepopDrone_Mode_3_index_Validate,:]\n",
    "Training_bepopDrone_mode_3 = bepopDrone_Mode_3_dataset[bepopDrone_Mode_3_index_Validate:,:]\n",
    "\n",
    "\n",
    "##=============================================================================================\n",
    "\n",
    "\n",
    "np.random.shuffle(bepopDrone_Mode_4_dataset)\n",
    "bepopDrone_Mode_4_index_Test = int(0.1*bepopDrone_Mode_4_dataset.shape[0])\n",
    "bepopDrone_Mode_4_index_Validate = int(0.2*bepopDrone_Mode_4_dataset.shape[0])+bepopDrone_Mode_4_index_Test\n",
    "\n",
    "Test_bepopDrone_mode_4 = bepopDrone_Mode_4_dataset[0:bepopDrone_Mode_4_index_Test,0:2048]\n",
    "y_Test_bepopDrone_mode_4 = bepopDrone_Mode_4_dataset[0:bepopDrone_Mode_4_index_Test,2048:]\n",
    "\n",
    "bepopDrone_mode_4_R = bepopDrone_Mode_4_dataset[bepopDrone_Mode_4_index_Test:,:]\n",
    "\n",
    "Validate_bepopDrone_mode_4 = bepopDrone_Mode_4_dataset[bepopDrone_Mode_4_index_Test:bepopDrone_Mode_4_index_Validate,:]\n",
    "Training_bepopDrone_mode_4 = bepopDrone_Mode_4_dataset[bepopDrone_Mode_4_index_Validate:,:]\n",
    "\n",
    "##===============================================================================================\n",
    "\n",
    "np.random.shuffle(arDrone_Mode_1_dataset)\n",
    "arDrone_Mode_1_index_Test = int(0.1*arDrone_Mode_1_dataset.shape[0])\n",
    "arDrone_Mode_1_index_Validate = int(0.2*arDrone_Mode_1_dataset.shape[0])+arDrone_Mode_1_index_Test\n",
    "\n",
    "Test_arDrone_mode_1 = arDrone_Mode_1_dataset[0:arDrone_Mode_1_index_Test,0:2048]\n",
    "y_Test_arDrone_mode_1 = arDrone_Mode_1_dataset[0:arDrone_Mode_1_index_Test,2048:]\n",
    "\n",
    "arDrone_mode_1_R = arDrone_Mode_1_dataset[arDrone_Mode_1_index_Test:,:]\n",
    "\n",
    "Validate_arDrone_mode_1 = arDrone_Mode_1_dataset[arDrone_Mode_1_index_Test:arDrone_Mode_1_index_Validate,:]\n",
    "Training_arDrone_mode_1 = arDrone_Mode_1_dataset[arDrone_Mode_1_index_Validate:,:]\n",
    "\n",
    "\n",
    "##==============================================================================================================================\n",
    "np.random.shuffle(arDrone_Mode_2_dataset)\n",
    "arDrone_Mode_2_index_Test = int(0.1*arDrone_Mode_2_dataset.shape[0])\n",
    "arDrone_Mode_2_index_Validate = int(0.2*arDrone_Mode_2_dataset.shape[0])+arDrone_Mode_2_index_Test\n",
    "\n",
    "Test_arDrone_mode_2 = arDrone_Mode_2_dataset[0:arDrone_Mode_2_index_Test,0:2048]\n",
    "y_Test_arDrone_mode_2 = arDrone_Mode_2_dataset[0:arDrone_Mode_2_index_Test,2048:]\n",
    "\n",
    "arDrone_mode_2_R = arDrone_Mode_2_dataset[arDrone_Mode_2_index_Test:,:]\n",
    "\n",
    "Validate_arDrone_mode_2 = arDrone_Mode_2_dataset[arDrone_Mode_2_index_Test:arDrone_Mode_2_index_Validate,:]\n",
    "Training_arDrone_mode_2 = arDrone_Mode_2_dataset[arDrone_Mode_2_index_Validate:,:]\n",
    "\n",
    "\n",
    "##================================================================================================================\n",
    "\n",
    "np.random.shuffle(arDrone_Mode_3_dataset)\n",
    "arDrone_Mode_3_index_Test = int(0.1*arDrone_Mode_3_dataset.shape[0])\n",
    "arDrone_Mode_3_index_Validate = int(0.2*arDrone_Mode_3_dataset.shape[0])+arDrone_Mode_3_index_Test\n",
    "\n",
    "Test_arDrone_mode_3 = arDrone_Mode_3_dataset[0:arDrone_Mode_3_index_Test,0:2048]\n",
    "y_Test_arDrone_mode_3 = arDrone_Mode_3_dataset[0:arDrone_Mode_3_index_Test,2048:]\n",
    "\n",
    "Validate_arDrone_mode_3 = arDrone_Mode_3_dataset[arDrone_Mode_3_index_Test:arDrone_Mode_3_index_Validate,:]\n",
    "Training_arDrone_mode_3 = arDrone_Mode_3_dataset[arDrone_Mode_3_index_Validate:,:]\n",
    "\n",
    "##+==================================================================================================\n",
    "\n",
    "np.random.shuffle(phantomDrone_Mode_1_dataset)\n",
    "phantomDrone_Mode_1_index_Test = int(0.1*phantomDrone_Mode_1_dataset.shape[0])\n",
    "phantomDrone_Mode_1_index_Validate = int(0.2*phantomDrone_Mode_1_dataset.shape[0])+phantomDrone_Mode_1_index_Test\n",
    "\n",
    "Test_phantomDrone_mode_1 = phantomDrone_Mode_1_dataset[0:phantomDrone_Mode_1_index_Test,0:2048]\n",
    "y_Test_phantomDrone_mode_1 = phantomDrone_Mode_1_dataset[0:phantomDrone_Mode_1_index_Test,2048:]\n",
    "\n",
    "Validate_phantomDrone_mode_1 = phantomDrone_Mode_1_dataset[phantomDrone_Mode_1_index_Test:phantomDrone_Mode_1_index_Validate,:]\n",
    "Training_phantomDrone_mode_1 = phantomDrone_Mode_1_dataset[phantomDrone_Mode_1_index_Validate:,:]\n",
    "\n",
    "\n",
    "##======================================================================================================\n",
    "\n",
    "np.random.shuffle(backgroundRFactivities_dataset)\n",
    "backgroundRFactivities_index_Test = int(0.1*backgroundRFactivities_dataset.shape[0])\n",
    "backgroundRFactivities_index_Validate = int(0.2*backgroundRFactivities_dataset.shape[0])+backgroundRFactivities_index_Test\n",
    "\n",
    "Test_backgroundRFactivities = backgroundRFactivities_dataset[0:backgroundRFactivities_index_Test,0:2048]\n",
    "y_Test_backgroundRFactivities = backgroundRFactivities_dataset[0:backgroundRFactivities_index_Test,2048:]\n",
    "\n",
    "Validate_backgroundRFactivities = backgroundRFactivities_dataset[backgroundRFactivities_index_Test:backgroundRFactivities_index_Validate,:]\n",
    "\n",
    "#2870\n",
    "Training_backgroundRFactivities = backgroundRFactivities_dataset[backgroundRFactivities_index_Validate:,:]\n"
   ]
  },
  {
   "cell_type": "code",
   "execution_count": 84,
   "metadata": {},
   "outputs": [
    {
     "data": {
      "text/plain": [
       "(410, 8)"
      ]
     },
     "execution_count": 84,
     "metadata": {},
     "output_type": "execute_result"
    }
   ],
   "source": [
    "y_Test_backgroundRFactivities.shape"
   ]
  },
  {
   "cell_type": "code",
   "execution_count": 31,
   "metadata": {},
   "outputs": [],
   "source": [
    "stacked_Validation = np.vstack((Validate_backgroundRFactivities,Validate_phantomDrone_mode_1,Validate_arDrone_mode_3,\n",
    "                               Validate_arDrone_mode_2,Validate_arDrone_mode_1,Validate_bepopDrone_mode_4,Validate_bepopDrone_mode_3,\n",
    "                               Validate_bepopDrone_mode_1))"
   ]
  },
  {
   "cell_type": "code",
   "execution_count": 32,
   "metadata": {},
   "outputs": [],
   "source": [
    "np.random.shuffle(stacked_Validation)"
   ]
  },
  {
   "cell_type": "code",
   "execution_count": 33,
   "metadata": {},
   "outputs": [
    {
     "data": {
      "text/plain": [
       "(3760, 8)"
      ]
     },
     "execution_count": 33,
     "metadata": {},
     "output_type": "execute_result"
    }
   ],
   "source": [
    "validation_Stacked_Dataset = stacked_Validation[:,0:2048]\n",
    "Y_validation_Stacked_Dataset = stacked_Validation[:,2048:]\n",
    "\n",
    "Y_validation_Stacked_Dataset.shape\n"
   ]
  },
  {
   "cell_type": "code",
   "execution_count": 34,
   "metadata": {},
   "outputs": [
    {
     "data": {
      "text/plain": [
       "(3760, 2048)"
      ]
     },
     "execution_count": 34,
     "metadata": {},
     "output_type": "execute_result"
    }
   ],
   "source": [
    "validation_Stacked_Dataset.shape"
   ]
  },
  {
   "cell_type": "code",
   "execution_count": 35,
   "metadata": {},
   "outputs": [],
   "source": [
    "stacked_Training = np.vstack((Training_backgroundRFactivities,Training_phantomDrone_mode_1,Training_arDrone_mode_3,\n",
    "                             Training_arDrone_mode_2,Training_arDrone_mode_1,Training_bepopDrone_mode_4,Training_bepopDrone_mode_3,\n",
    "                              Training_bepopDrone_mode_1))"
   ]
  },
  {
   "cell_type": "code",
   "execution_count": 36,
   "metadata": {},
   "outputs": [],
   "source": [
    "np.random.shuffle(stacked_Training)"
   ]
  },
  {
   "cell_type": "code",
   "execution_count": 37,
   "metadata": {},
   "outputs": [],
   "source": [
    "Training_Stacked_Dataset = stacked_Training[:,0:2048]\n",
    "Y_training_Stacked_Dataset = stacked_Training[:,2048:]"
   ]
  },
  {
   "cell_type": "code",
   "execution_count": 38,
   "metadata": {},
   "outputs": [
    {
     "data": {
      "text/plain": [
       "(13160, 2048)"
      ]
     },
     "execution_count": 38,
     "metadata": {},
     "output_type": "execute_result"
    }
   ],
   "source": [
    "Training_Stacked_Dataset.shape"
   ]
  },
  {
   "cell_type": "code",
   "execution_count": 39,
   "metadata": {},
   "outputs": [],
   "source": [
    "model = Sequential()\n",
    "model.add(Dense(2048, input_dim=2048, activation='relu'))\n",
    "model.add(Dense(1024, activation='relu'))\n",
    "model.add(Dense(8, activation='softmax'))\n"
   ]
  },
  {
   "cell_type": "code",
   "execution_count": 40,
   "metadata": {},
   "outputs": [],
   "source": [
    " model.compile(optimizer='rmsprop',loss='categorical_crossentropy',metrics=['accuracy'])"
   ]
  },
  {
   "cell_type": "code",
   "execution_count": 41,
   "metadata": {},
   "outputs": [
    {
     "name": "stdout",
     "output_type": "stream",
     "text": [
      "Epoch 1/150\n",
      "   1/1316 [..............................] - ETA: 2s - loss: 1.8681 - accuracy: 0.2000WARNING:tensorflow:Callbacks method `on_train_batch_end` is slow compared to the batch time (batch time: 0.0013s vs `on_train_batch_end` time: 0.0027s). Check your callbacks.\n",
      "1316/1316 [==============================] - 4s 3ms/step - loss: 1.5108 - accuracy: 0.8337\n",
      "Epoch 2/150\n",
      "1316/1316 [==============================] - 4s 3ms/step - loss: 1.0429 - accuracy: 0.9407\n",
      "Epoch 3/150\n",
      "1316/1316 [==============================] - 4s 3ms/step - loss: 1.1327 - accuracy: 0.9618\n",
      "Epoch 4/150\n",
      "1316/1316 [==============================] - 4s 3ms/step - loss: 0.9951 - accuracy: 0.9686\n",
      "Epoch 5/150\n",
      "1316/1316 [==============================] - 4s 3ms/step - loss: 1.5384 - accuracy: 0.9759\n",
      "Epoch 6/150\n",
      "1316/1316 [==============================] - 4s 3ms/step - loss: 1.2788 - accuracy: 0.9798\n",
      "Epoch 7/150\n",
      "1316/1316 [==============================] - 4s 3ms/step - loss: 1.3916 - accuracy: 0.9797\n",
      "Epoch 8/150\n",
      "1316/1316 [==============================] - 4s 3ms/step - loss: 0.9919 - accuracy: 0.9850\n",
      "Epoch 9/150\n",
      "1316/1316 [==============================] - 4s 3ms/step - loss: 1.4118 - accuracy: 0.9873\n",
      "Epoch 10/150\n",
      "1316/1316 [==============================] - 4s 3ms/step - loss: 0.9589 - accuracy: 0.9890\n",
      "Epoch 11/150\n",
      "1316/1316 [==============================] - 4s 3ms/step - loss: 1.1503 - accuracy: 0.9916\n",
      "Epoch 12/150\n",
      "1316/1316 [==============================] - 4s 3ms/step - loss: 0.9645 - accuracy: 0.9907\n",
      "Epoch 13/150\n",
      "1316/1316 [==============================] - 4s 3ms/step - loss: 1.0287 - accuracy: 0.9919\n",
      "Epoch 14/150\n",
      "1316/1316 [==============================] - 4s 3ms/step - loss: 1.1967 - accuracy: 0.9921\n",
      "Epoch 15/150\n",
      "1316/1316 [==============================] - 4s 3ms/step - loss: 0.8837 - accuracy: 0.9929\n",
      "Epoch 16/150\n",
      "1316/1316 [==============================] - 4s 3ms/step - loss: 1.0153 - accuracy: 0.9935\n",
      "Epoch 17/150\n",
      "1316/1316 [==============================] - 4s 3ms/step - loss: 0.7003 - accuracy: 0.9929\n",
      "Epoch 18/150\n",
      "1316/1316 [==============================] - 4s 3ms/step - loss: 0.8461 - accuracy: 0.9936\n",
      "Epoch 19/150\n",
      "1316/1316 [==============================] - 4s 3ms/step - loss: 0.8355 - accuracy: 0.9950\n",
      "Epoch 20/150\n",
      "1316/1316 [==============================] - 4s 3ms/step - loss: 0.6038 - accuracy: 0.9946\n",
      "Epoch 21/150\n",
      "1316/1316 [==============================] - 4s 3ms/step - loss: 0.6808 - accuracy: 0.9937\n",
      "Epoch 22/150\n",
      "1316/1316 [==============================] - 4s 3ms/step - loss: 0.8225 - accuracy: 0.9935\n",
      "Epoch 23/150\n",
      "1316/1316 [==============================] - 4s 3ms/step - loss: 0.5266 - accuracy: 0.9967\n",
      "Epoch 24/150\n",
      "1316/1316 [==============================] - 4s 3ms/step - loss: 0.5140 - accuracy: 0.9955\n",
      "Epoch 25/150\n",
      "1316/1316 [==============================] - 4s 3ms/step - loss: 0.6077 - accuracy: 0.9955\n",
      "Epoch 26/150\n",
      "1316/1316 [==============================] - 4s 3ms/step - loss: 0.6098 - accuracy: 0.9948\n",
      "Epoch 27/150\n",
      "1316/1316 [==============================] - 4s 3ms/step - loss: 0.5474 - accuracy: 0.9967\n",
      "Epoch 28/150\n",
      "1316/1316 [==============================] - 4s 3ms/step - loss: 0.4037 - accuracy: 0.9973\n",
      "Epoch 29/150\n",
      "1316/1316 [==============================] - 4s 3ms/step - loss: 0.4314 - accuracy: 0.9971\n",
      "Epoch 30/150\n",
      "1316/1316 [==============================] - 4s 3ms/step - loss: 0.4245 - accuracy: 0.9968\n",
      "Epoch 31/150\n",
      "1316/1316 [==============================] - 4s 3ms/step - loss: 0.1990 - accuracy: 0.9976\n",
      "Epoch 32/150\n",
      "1316/1316 [==============================] - 4s 3ms/step - loss: 0.2830 - accuracy: 0.9980\n",
      "Epoch 33/150\n",
      "1316/1316 [==============================] - 4s 3ms/step - loss: 0.0805 - accuracy: 0.9983\n",
      "Epoch 34/150\n",
      "1316/1316 [==============================] - 4s 3ms/step - loss: 0.2027 - accuracy: 0.9986\n",
      "Epoch 35/150\n",
      "1316/1316 [==============================] - 4s 3ms/step - loss: 0.4024 - accuracy: 0.9970\n",
      "Epoch 36/150\n",
      "1316/1316 [==============================] - 4s 3ms/step - loss: 0.5868 - accuracy: 0.9964\n",
      "Epoch 37/150\n",
      "1316/1316 [==============================] - 4s 3ms/step - loss: 0.4836 - accuracy: 0.9975\n",
      "Epoch 38/150\n",
      "1316/1316 [==============================] - 4s 3ms/step - loss: 0.7606 - accuracy: 0.9974\n",
      "Epoch 39/150\n",
      "1316/1316 [==============================] - 5s 3ms/step - loss: 0.4793 - accuracy: 0.9973\n",
      "Epoch 40/150\n",
      "1316/1316 [==============================] - 5s 3ms/step - loss: 0.3329 - accuracy: 0.9978\n",
      "Epoch 41/150\n",
      "1316/1316 [==============================] - 5s 3ms/step - loss: 0.1320 - accuracy: 0.9990\n",
      "Epoch 42/150\n",
      "1316/1316 [==============================] - 5s 3ms/step - loss: 0.2420 - accuracy: 0.9983\n",
      "Epoch 43/150\n",
      "1316/1316 [==============================] - 4s 3ms/step - loss: 0.3556 - accuracy: 0.9984\n",
      "Epoch 44/150\n",
      "1316/1316 [==============================] - 4s 3ms/step - loss: 0.0590 - accuracy: 0.9993\n",
      "Epoch 45/150\n",
      "1316/1316 [==============================] - 4s 3ms/step - loss: 0.3709 - accuracy: 0.9969\n",
      "Epoch 46/150\n",
      "1316/1316 [==============================] - 4s 3ms/step - loss: 0.3799 - accuracy: 0.9986\n",
      "Epoch 47/150\n",
      "1316/1316 [==============================] - 5s 3ms/step - loss: 0.0704 - accuracy: 0.9997\n",
      "Epoch 48/150\n",
      "1316/1316 [==============================] - 4s 3ms/step - loss: 0.0179 - accuracy: 0.9997\n",
      "Epoch 49/150\n",
      "1316/1316 [==============================] - 4s 3ms/step - loss: 0.0000e+00 - accuracy: 1.0000\n",
      "Epoch 50/150\n",
      "1316/1316 [==============================] - 4s 3ms/step - loss: 0.0000e+00 - accuracy: 1.0000\n",
      "Epoch 51/150\n",
      "1316/1316 [==============================] - 4s 3ms/step - loss: 0.0000e+00 - accuracy: 1.0000\n",
      "Epoch 52/150\n",
      "1316/1316 [==============================] - 4s 3ms/step - loss: 0.0000e+00 - accuracy: 1.0000\n",
      "Epoch 53/150\n",
      "1316/1316 [==============================] - 4s 3ms/step - loss: 0.0000e+00 - accuracy: 1.0000\n",
      "Epoch 54/150\n",
      "1316/1316 [==============================] - 5s 3ms/step - loss: 0.0000e+00 - accuracy: 1.0000\n",
      "Epoch 55/150\n",
      "1316/1316 [==============================] - 5s 3ms/step - loss: 0.0000e+00 - accuracy: 1.0000\n",
      "Epoch 56/150\n",
      "1316/1316 [==============================] - 5s 3ms/step - loss: 0.0000e+00 - accuracy: 1.0000\n",
      "Epoch 57/150\n",
      "1316/1316 [==============================] - 4s 3ms/step - loss: 0.0000e+00 - accuracy: 1.0000\n",
      "Epoch 58/150\n",
      "1316/1316 [==============================] - 4s 3ms/step - loss: 0.0000e+00 - accuracy: 1.0000\n",
      "Epoch 59/150\n",
      "1316/1316 [==============================] - 4s 3ms/step - loss: 0.0000e+00 - accuracy: 1.0000\n",
      "Epoch 60/150\n",
      "1316/1316 [==============================] - 5s 3ms/step - loss: 0.0000e+00 - accuracy: 1.0000\n",
      "Epoch 61/150\n",
      "1316/1316 [==============================] - 5s 3ms/step - loss: 0.0000e+00 - accuracy: 1.0000\n",
      "Epoch 62/150\n",
      "1316/1316 [==============================] - 5s 3ms/step - loss: 0.0000e+00 - accuracy: 1.0000\n",
      "Epoch 63/150\n",
      "1316/1316 [==============================] - 5s 3ms/step - loss: 0.0000e+00 - accuracy: 1.0000\n",
      "Epoch 64/150\n",
      "1316/1316 [==============================] - 5s 3ms/step - loss: 0.0000e+00 - accuracy: 1.0000\n",
      "Epoch 65/150\n",
      "1316/1316 [==============================] - 5s 3ms/step - loss: 0.0000e+00 - accuracy: 1.0000\n",
      "Epoch 66/150\n",
      "1316/1316 [==============================] - 5s 3ms/step - loss: 0.0000e+00 - accuracy: 1.0000\n",
      "Epoch 67/150\n",
      "1316/1316 [==============================] - 5s 3ms/step - loss: 0.0000e+00 - accuracy: 1.0000\n",
      "Epoch 68/150\n",
      "1316/1316 [==============================] - 5s 3ms/step - loss: 0.0000e+00 - accuracy: 1.0000\n",
      "Epoch 69/150\n",
      "1316/1316 [==============================] - 5s 3ms/step - loss: 0.0000e+00 - accuracy: 1.0000\n",
      "Epoch 70/150\n",
      "1316/1316 [==============================] - 5s 3ms/step - loss: 0.0000e+00 - accuracy: 1.0000\n",
      "Epoch 71/150\n",
      "1316/1316 [==============================] - 5s 3ms/step - loss: 0.0000e+00 - accuracy: 1.0000\n",
      "Epoch 72/150\n",
      "1316/1316 [==============================] - 5s 3ms/step - loss: 0.0000e+00 - accuracy: 1.0000\n",
      "Epoch 73/150\n",
      "1316/1316 [==============================] - 4s 3ms/step - loss: 0.0000e+00 - accuracy: 1.0000\n",
      "Epoch 74/150\n",
      "1316/1316 [==============================] - 5s 3ms/step - loss: 0.0000e+00 - accuracy: 1.0000\n",
      "Epoch 75/150\n",
      "1316/1316 [==============================] - 5s 3ms/step - loss: 0.0000e+00 - accuracy: 1.0000\n",
      "Epoch 76/150\n",
      "1316/1316 [==============================] - 5s 3ms/step - loss: 0.0000e+00 - accuracy: 1.0000\n",
      "Epoch 77/150\n",
      "1316/1316 [==============================] - 5s 3ms/step - loss: 0.0000e+00 - accuracy: 1.0000\n",
      "Epoch 78/150\n",
      "1316/1316 [==============================] - 5s 3ms/step - loss: 0.0000e+00 - accuracy: 1.0000\n",
      "Epoch 79/150\n",
      "1316/1316 [==============================] - 5s 3ms/step - loss: 0.0000e+00 - accuracy: 1.0000\n",
      "Epoch 80/150\n",
      "1316/1316 [==============================] - 5s 3ms/step - loss: 0.0000e+00 - accuracy: 1.0000\n",
      "Epoch 81/150\n",
      "1316/1316 [==============================] - 5s 3ms/step - loss: 0.0000e+00 - accuracy: 1.0000\n",
      "Epoch 82/150\n",
      "1316/1316 [==============================] - 5s 3ms/step - loss: 0.0000e+00 - accuracy: 1.0000\n",
      "Epoch 83/150\n",
      "1316/1316 [==============================] - 5s 3ms/step - loss: 0.0000e+00 - accuracy: 1.0000\n",
      "Epoch 84/150\n",
      "1316/1316 [==============================] - 5s 3ms/step - loss: 0.0000e+00 - accuracy: 1.0000\n",
      "Epoch 85/150\n",
      "1316/1316 [==============================] - 5s 3ms/step - loss: 0.0000e+00 - accuracy: 1.0000\n",
      "Epoch 86/150\n",
      "1316/1316 [==============================] - 5s 3ms/step - loss: 0.0000e+00 - accuracy: 1.0000\n",
      "Epoch 87/150\n",
      "1316/1316 [==============================] - 5s 3ms/step - loss: 0.0000e+00 - accuracy: 1.0000\n",
      "Epoch 88/150\n",
      "1316/1316 [==============================] - 5s 4ms/step - loss: 0.0000e+00 - accuracy: 1.0000\n",
      "Epoch 89/150\n",
      "1316/1316 [==============================] - 5s 3ms/step - loss: 0.0000e+00 - accuracy: 1.0000\n",
      "Epoch 90/150\n",
      "1316/1316 [==============================] - 5s 3ms/step - loss: 0.0000e+00 - accuracy: 1.0000\n",
      "Epoch 91/150\n",
      "1316/1316 [==============================] - 5s 3ms/step - loss: 0.0000e+00 - accuracy: 1.0000\n",
      "Epoch 92/150\n",
      "1316/1316 [==============================] - 5s 3ms/step - loss: 0.0000e+00 - accuracy: 1.0000\n",
      "Epoch 93/150\n",
      "1316/1316 [==============================] - 5s 3ms/step - loss: 0.0000e+00 - accuracy: 1.0000\n",
      "Epoch 94/150\n",
      "1316/1316 [==============================] - 5s 4ms/step - loss: 0.0000e+00 - accuracy: 1.0000\n",
      "Epoch 95/150\n",
      "1316/1316 [==============================] - 5s 3ms/step - loss: 0.0000e+00 - accuracy: 1.0000\n",
      "Epoch 96/150\n",
      "1316/1316 [==============================] - 5s 3ms/step - loss: 0.0000e+00 - accuracy: 1.0000\n",
      "Epoch 97/150\n",
      "1316/1316 [==============================] - 5s 3ms/step - loss: 0.0000e+00 - accuracy: 1.0000\n",
      "Epoch 98/150\n",
      "1316/1316 [==============================] - 5s 3ms/step - loss: 0.0000e+00 - accuracy: 1.0000\n",
      "Epoch 99/150\n",
      "1316/1316 [==============================] - 5s 3ms/step - loss: 0.0000e+00 - accuracy: 1.0000\n",
      "Epoch 100/150\n",
      "1316/1316 [==============================] - 5s 4ms/step - loss: 0.0000e+00 - accuracy: 1.0000\n",
      "Epoch 101/150\n",
      "1316/1316 [==============================] - 5s 3ms/step - loss: 0.0000e+00 - accuracy: 1.0000\n",
      "Epoch 102/150\n",
      "1316/1316 [==============================] - 5s 3ms/step - loss: 0.0000e+00 - accuracy: 1.0000\n",
      "Epoch 103/150\n",
      "1316/1316 [==============================] - 5s 3ms/step - loss: 0.0000e+00 - accuracy: 1.0000\n",
      "Epoch 104/150\n",
      "1316/1316 [==============================] - 5s 3ms/step - loss: 0.0000e+00 - accuracy: 1.0000\n",
      "Epoch 105/150\n",
      "1316/1316 [==============================] - 5s 3ms/step - loss: 0.0000e+00 - accuracy: 1.0000\n",
      "Epoch 106/150\n",
      "1316/1316 [==============================] - 5s 3ms/step - loss: 0.0000e+00 - accuracy: 1.0000\n",
      "Epoch 107/150\n",
      "1316/1316 [==============================] - 5s 4ms/step - loss: 0.0000e+00 - accuracy: 1.0000\n",
      "Epoch 108/150\n",
      "1316/1316 [==============================] - 5s 3ms/step - loss: 0.0000e+00 - accuracy: 1.0000\n",
      "Epoch 109/150\n",
      "1316/1316 [==============================] - 5s 3ms/step - loss: 0.0000e+00 - accuracy: 1.0000\n",
      "Epoch 110/150\n",
      "1316/1316 [==============================] - 5s 3ms/step - loss: 0.0000e+00 - accuracy: 1.0000\n",
      "Epoch 111/150\n",
      "1316/1316 [==============================] - 5s 3ms/step - loss: 0.0000e+00 - accuracy: 1.0000\n",
      "Epoch 112/150\n",
      "1316/1316 [==============================] - 5s 3ms/step - loss: 0.0000e+00 - accuracy: 1.0000\n",
      "Epoch 113/150\n",
      "1316/1316 [==============================] - 5s 3ms/step - loss: 0.0000e+00 - accuracy: 1.0000\n",
      "Epoch 114/150\n",
      "1316/1316 [==============================] - 5s 3ms/step - loss: 0.0000e+00 - accuracy: 1.0000\n",
      "Epoch 115/150\n",
      "1316/1316 [==============================] - 5s 3ms/step - loss: 0.0000e+00 - accuracy: 1.0000\n",
      "Epoch 116/150\n",
      "1316/1316 [==============================] - 5s 3ms/step - loss: 0.0000e+00 - accuracy: 1.0000\n",
      "Epoch 117/150\n",
      "1316/1316 [==============================] - 5s 3ms/step - loss: 0.0000e+00 - accuracy: 1.0000\n",
      "Epoch 118/150\n",
      "1316/1316 [==============================] - 5s 4ms/step - loss: 0.0000e+00 - accuracy: 1.0000\n",
      "Epoch 119/150\n",
      "1316/1316 [==============================] - 5s 3ms/step - loss: 0.0000e+00 - accuracy: 1.0000\n",
      "Epoch 120/150\n",
      "1316/1316 [==============================] - 5s 3ms/step - loss: 0.0000e+00 - accuracy: 1.0000\n",
      "Epoch 121/150\n",
      "1316/1316 [==============================] - 5s 3ms/step - loss: 0.0000e+00 - accuracy: 1.0000\n",
      "Epoch 122/150\n",
      "1316/1316 [==============================] - 5s 4ms/step - loss: 0.0000e+00 - accuracy: 1.0000\n",
      "Epoch 123/150\n",
      "1316/1316 [==============================] - 5s 3ms/step - loss: 0.0000e+00 - accuracy: 1.0000\n",
      "Epoch 124/150\n",
      "1316/1316 [==============================] - 5s 3ms/step - loss: 0.0000e+00 - accuracy: 1.0000\n",
      "Epoch 125/150\n",
      "1316/1316 [==============================] - 5s 3ms/step - loss: 0.0000e+00 - accuracy: 1.0000\n",
      "Epoch 126/150\n",
      "1316/1316 [==============================] - 5s 4ms/step - loss: 0.0000e+00 - accuracy: 1.0000\n",
      "Epoch 127/150\n",
      "1316/1316 [==============================] - 5s 3ms/step - loss: 0.0000e+00 - accuracy: 1.0000\n",
      "Epoch 128/150\n",
      "1316/1316 [==============================] - 5s 4ms/step - loss: 0.0000e+00 - accuracy: 1.0000\n",
      "Epoch 129/150\n",
      "1316/1316 [==============================] - 5s 3ms/step - loss: 0.0000e+00 - accuracy: 1.0000\n",
      "Epoch 130/150\n",
      "1316/1316 [==============================] - 5s 4ms/step - loss: 0.0000e+00 - accuracy: 1.0000\n",
      "Epoch 131/150\n",
      "1316/1316 [==============================] - 5s 3ms/step - loss: 0.0000e+00 - accuracy: 1.0000\n",
      "Epoch 132/150\n",
      "1316/1316 [==============================] - 5s 3ms/step - loss: 0.0000e+00 - accuracy: 1.0000\n",
      "Epoch 133/150\n",
      "1316/1316 [==============================] - 5s 4ms/step - loss: 0.0000e+00 - accuracy: 1.0000\n",
      "Epoch 134/150\n",
      "1316/1316 [==============================] - 5s 3ms/step - loss: 0.0000e+00 - accuracy: 1.0000\n",
      "Epoch 135/150\n",
      "1316/1316 [==============================] - 5s 3ms/step - loss: 0.0000e+00 - accuracy: 1.0000\n",
      "Epoch 136/150\n",
      "1316/1316 [==============================] - 5s 4ms/step - loss: 0.0000e+00 - accuracy: 1.0000\n",
      "Epoch 137/150\n",
      "1316/1316 [==============================] - 5s 3ms/step - loss: 0.0000e+00 - accuracy: 1.0000\n",
      "Epoch 138/150\n",
      "1316/1316 [==============================] - 5s 3ms/step - loss: 0.0000e+00 - accuracy: 1.0000\n",
      "Epoch 139/150\n",
      "1316/1316 [==============================] - 5s 3ms/step - loss: 0.0000e+00 - accuracy: 1.0000\n",
      "Epoch 140/150\n",
      "1316/1316 [==============================] - 5s 4ms/step - loss: 0.0000e+00 - accuracy: 1.0000\n",
      "Epoch 141/150\n",
      "1316/1316 [==============================] - 5s 3ms/step - loss: 0.0000e+00 - accuracy: 1.0000\n",
      "Epoch 142/150\n",
      "1316/1316 [==============================] - 5s 3ms/step - loss: 0.0000e+00 - accuracy: 1.0000\n",
      "Epoch 143/150\n",
      "1316/1316 [==============================] - 5s 3ms/step - loss: 0.0000e+00 - accuracy: 1.0000\n",
      "Epoch 144/150\n",
      "1316/1316 [==============================] - 5s 3ms/step - loss: 0.0000e+00 - accuracy: 1.0000\n",
      "Epoch 145/150\n",
      "1316/1316 [==============================] - 5s 3ms/step - loss: 0.0000e+00 - accuracy: 1.0000\n",
      "Epoch 146/150\n",
      "1316/1316 [==============================] - 5s 3ms/step - loss: 0.0000e+00 - accuracy: 1.0000\n",
      "Epoch 147/150\n",
      "1316/1316 [==============================] - 5s 3ms/step - loss: 0.0000e+00 - accuracy: 1.0000\n",
      "Epoch 148/150\n",
      "1316/1316 [==============================] - 5s 3ms/step - loss: 0.0000e+00 - accuracy: 1.0000\n",
      "Epoch 149/150\n",
      "1316/1316 [==============================] - 5s 4ms/step - loss: 0.0000e+00 - accuracy: 1.0000\n",
      "Epoch 150/150\n",
      "1316/1316 [==============================] - 5s 3ms/step - loss: 0.0000e+00 - accuracy: 1.0000\n"
     ]
    },
    {
     "data": {
      "text/plain": [
       "<tensorflow.python.keras.callbacks.History at 0x7f0dcfd14f98>"
      ]
     },
     "execution_count": 41,
     "metadata": {},
     "output_type": "execute_result"
    }
   ],
   "source": [
    "model.fit(Training_Stacked_Dataset, Y_training_Stacked_Dataset, epochs=150, batch_size=10)"
   ]
  },
  {
   "cell_type": "code",
   "execution_count": 67,
   "metadata": {},
   "outputs": [
    {
     "name": "stdout",
     "output_type": "stream",
     "text": [
      "118/118 [==============================] - 0s 2ms/step - loss: 3.5438 - accuracy: 0.9822\n",
      "Accuracy: 98.22\n"
     ]
    }
   ],
   "source": [
    "_, accuracy = model.evaluate(validation_Stacked_Dataset, Y_validation_Stacked_Dataset)\n",
    "print('Accuracy: %.2f' % (accuracy*100))"
   ]
  },
  {
   "cell_type": "code",
   "execution_count": 68,
   "metadata": {},
   "outputs": [
    {
     "data": {
      "text/plain": [
       "array([[-0.39745886,  0.38189514, -0.24219779, ..., -0.14679081,\n",
       "        -0.1185178 , -0.09494049],\n",
       "       [-0.31233211, -0.29726074, -0.28640941, ..., -0.14672822,\n",
       "        -0.16797461, -0.09309325],\n",
       "       [-0.09173763, -0.10175724, -0.04904305, ..., -0.0608949 ,\n",
       "        -0.07012594, -0.08241675],\n",
       "       ...,\n",
       "       [-0.82246871, -0.49815625, -0.9995821 , ..., -0.12158074,\n",
       "        -0.65537708, -0.5256909 ],\n",
       "       [-0.0893022 , -0.10090957, -0.10402408, ..., -0.0945942 ,\n",
       "        -0.04834708, -0.07607585],\n",
       "       [ 0.09359376, -0.28360943, -0.11881204, ..., -0.21283547,\n",
       "        -0.12558664, -0.14964331]])"
      ]
     },
     "execution_count": 68,
     "metadata": {},
     "output_type": "execute_result"
    }
   ],
   "source": [
    "validation_Stacked_Dataset"
   ]
  },
  {
   "cell_type": "code",
   "execution_count": 69,
   "metadata": {},
   "outputs": [
    {
     "data": {
      "text/plain": [
       "array([[0., 0., 0., ..., 1., 0., 0.],\n",
       "       [0., 0., 0., ..., 1., 0., 0.],\n",
       "       [0., 0., 0., ..., 0., 0., 0.],\n",
       "       ...,\n",
       "       [0., 0., 0., ..., 0., 0., 1.],\n",
       "       [0., 1., 0., ..., 0., 0., 0.],\n",
       "       [0., 0., 0., ..., 0., 0., 0.]])"
      ]
     },
     "execution_count": 69,
     "metadata": {},
     "output_type": "execute_result"
    }
   ],
   "source": [
    "Y_validation_Stacked_Dataset"
   ]
  },
  {
   "cell_type": "markdown",
   "metadata": {},
   "source": [
    "\n",
    "\n",
    "\n"
   ]
  },
  {
   "cell_type": "code",
   "execution_count": 61,
   "metadata": {},
   "outputs": [],
   "source": [
    "y_Test_all = np.vstack((y_Test_bepopDrone_mode_1,y_Test_bepopDrone_mode_3,y_Test_bepopDrone_mode_4,\n",
    "                       y_Test_arDrone_mode_1,y_Test_arDrone_mode_2,y_Test_arDrone_mode_3,y_Test_phantomDrone_mode_1,\n",
    "                       y_Test_backgroundRFactivities))\n",
    "\n",
    "x_Test_all = np.vstack((Test_bepopDrone_mode_1,Test_bepopDrone_mode_3,Test_bepopDrone_mode_4,Test_arDrone_mode_1\n",
    "                       ,Test_arDrone_mode_2,Test_arDrone_mode_3,Test_phantomDrone_mode_1,Test_backgroundRFactivities))"
   ]
  },
  {
   "cell_type": "code",
   "execution_count": null,
   "metadata": {},
   "outputs": [],
   "source": []
  },
  {
   "cell_type": "code",
   "execution_count": null,
   "metadata": {},
   "outputs": [],
   "source": []
  },
  {
   "cell_type": "code",
   "execution_count": 76,
   "metadata": {},
   "outputs": [
    {
     "data": {
      "text/plain": [
       "array([[1.0000000e+00, 0.0000000e+00, 0.0000000e+00, ..., 0.0000000e+00,\n",
       "        0.0000000e+00, 0.0000000e+00],\n",
       "       [1.0000000e+00, 0.0000000e+00, 0.0000000e+00, ..., 0.0000000e+00,\n",
       "        0.0000000e+00, 0.0000000e+00],\n",
       "       [1.0000000e+00, 0.0000000e+00, 0.0000000e+00, ..., 0.0000000e+00,\n",
       "        0.0000000e+00, 0.0000000e+00],\n",
       "       ...,\n",
       "       [0.0000000e+00, 0.0000000e+00, 0.0000000e+00, ..., 0.0000000e+00,\n",
       "        0.0000000e+00, 1.0000000e+00],\n",
       "       [0.0000000e+00, 0.0000000e+00, 0.0000000e+00, ..., 0.0000000e+00,\n",
       "        0.0000000e+00, 1.0000000e+00],\n",
       "       [9.9449678e-28, 0.0000000e+00, 0.0000000e+00, ..., 6.3792286e-36,\n",
       "        0.0000000e+00, 1.0000000e+00]], dtype=float32)"
      ]
     },
     "execution_count": 76,
     "metadata": {},
     "output_type": "execute_result"
    }
   ],
   "source": [
    "y_pred = model.predict(x_Test_all)\n",
    "y_pred"
   ]
  },
  {
   "cell_type": "code",
   "execution_count": null,
   "metadata": {},
   "outputs": [],
   "source": []
  },
  {
   "cell_type": "code",
   "execution_count": 211,
   "metadata": {},
   "outputs": [
    {
     "data": {
      "text/plain": [
       "array([[0., 0., 0., ..., 0., 0., 1.],\n",
       "       [0., 0., 0., ..., 0., 0., 1.],\n",
       "       [0., 0., 0., ..., 0., 0., 1.],\n",
       "       ...,\n",
       "       [0., 0., 0., ..., 0., 0., 1.],\n",
       "       [0., 0., 0., ..., 0., 0., 1.],\n",
       "       [0., 0., 0., ..., 0., 0., 1.]], dtype=float32)"
      ]
     },
     "execution_count": 211,
     "metadata": {},
     "output_type": "execute_result"
    }
   ],
   "source": [
    "model.predict(Test_backgroundRFactivities)"
   ]
  },
  {
   "cell_type": "code",
   "execution_count": 212,
   "metadata": {},
   "outputs": [
    {
     "data": {
      "text/plain": [
       "array([[0., 0., 0., ..., 0., 1., 0.],\n",
       "       [0., 0., 0., ..., 0., 1., 0.],\n",
       "       [0., 0., 0., ..., 0., 1., 0.],\n",
       "       ...,\n",
       "       [0., 0., 0., ..., 0., 1., 0.],\n",
       "       [0., 0., 0., ..., 0., 1., 0.],\n",
       "       [0., 0., 0., ..., 0., 1., 0.]], dtype=float32)"
      ]
     },
     "execution_count": 212,
     "metadata": {},
     "output_type": "execute_result"
    }
   ],
   "source": [
    "model.predict(Test_phantomDrone_mode_1)"
   ]
  },
  {
   "cell_type": "code",
   "execution_count": null,
   "metadata": {},
   "outputs": [],
   "source": [
    "#y_pred = [\"ant\", \"ant\", \"cat\", \"cat\", \"ant\", \"cat\"]\n",
    "#confusion_matrix(y_true, y_pred, labels=[\"ant\", \"bird\", \"cat\"])\n",
    "#array([[2, 0, 0],\n",
    "       #[0, 0, 1],\n",
    "       #[1, 0, 2]])"
   ]
  },
  {
   "cell_type": "code",
   "execution_count": 82,
   "metadata": {},
   "outputs": [],
   "source": [
    "from sklearn.metrics import confusion_matrix\n",
    "y_confusion_Test = np.argmax(y_Test_all,axis=1)\n",
    "y_confusion_pred = np.argmax(y_pred, axis=1)\n",
    "confusion_matrix_DroneRF  = confusion_matrix(y_confusion_Test, y_confusion_pred, labels=None, sample_weight=None, normalize=None)"
   ]
  },
  {
   "cell_type": "markdown",
   "metadata": {},
   "source": [
    "- Drones : 210\n",
    "- BackgroundRFactivities : 410\n",
    "-Row/Coloumn Order : [Bepop Mode 1]  [Bepop Mode 3]  [Bepop Mode 4] [Ardrone Mode 1] [Ardrone Mode 2] [Ardrone Mode 3] [Phantom Mode 1] [Background acitivties]    "
   ]
  },
  {
   "cell_type": "code",
   "execution_count": 83,
   "metadata": {},
   "outputs": [
    {
     "data": {
      "text/plain": [
       "array([[207,   0,   0,   0,   0,   2,   0,   1],\n",
       "       [  0, 208,   1,   0,   0,   0,   1,   0],\n",
       "       [  0,   1, 207,   0,   0,   1,   1,   0],\n",
       "       [  0,   0,   0, 209,   0,   1,   0,   0],\n",
       "       [  1,   2,   0,   0, 199,   4,   2,   2],\n",
       "       [  0,   0,   0,   0,   5, 205,   0,   0],\n",
       "       [  1,   0,   0,   0,   1,   0, 207,   1],\n",
       "       [  0,   0,   0,   2,   2,  10,   1, 395]])"
      ]
     },
     "execution_count": 83,
     "metadata": {},
     "output_type": "execute_result"
    }
   ],
   "source": [
    "confusion_matrix_DroneRF"
   ]
  },
  {
   "cell_type": "markdown",
   "metadata": {},
   "source": [
    "class 1 \n",
    "True Positive : 207\n",
    "False Positive : 2 \n",
    "False Negative : 3\n",
    "True Negative[The sum of all the values in the matrix except those in column 1 and row 1]"
   ]
  },
  {
   "cell_type": "code",
   "execution_count": 90,
   "metadata": {},
   "outputs": [
    {
     "data": {
      "text/plain": [
       "0.9771276595744681"
      ]
     },
     "execution_count": 90,
     "metadata": {},
     "output_type": "execute_result"
    }
   ],
   "source": [
    "from sklearn.metrics import f1_score\n",
    "f1_score(y_confusion_Test, y_confusion_pred, labels=None, pos_label=1, average='micro', sample_weight=None, zero_division='warn')"
   ]
  },
  {
   "cell_type": "code",
   "execution_count": null,
   "metadata": {},
   "outputs": [],
   "source": []
  }
 ],
 "metadata": {
  "kernelspec": {
   "display_name": "Python 3",
   "language": "python",
   "name": "python3"
  },
  "language_info": {
   "codemirror_mode": {
    "name": "ipython",
    "version": 3
   },
   "file_extension": ".py",
   "mimetype": "text/x-python",
   "name": "python",
   "nbconvert_exporter": "python",
   "pygments_lexer": "ipython3",
   "version": "3.7.2"
  }
 },
 "nbformat": 4,
 "nbformat_minor": 4
}

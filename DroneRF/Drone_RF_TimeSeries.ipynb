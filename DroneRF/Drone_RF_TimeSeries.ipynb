{
 "cells": [
  {
   "cell_type": "markdown",
   "metadata": {},
   "source": [
    "### Number of Segments for each Drone and Mode\n",
    "\n",
    "- Bepop Drone Mode 1 :   21 segments \n",
    "- Bepop Drone Mode 2 :   21 segments\n",
    "- Bepop Drone Mode 3 :   21 segments\n",
    "- Bepop Drone Mode 4 :   21 segments\n",
    "\n",
    "\n",
    "- AR Drone Mode 1 :   21 segments\n",
    "- AR Drone Mode 2 :   21 segments\n",
    "- AR Drone Mode 3 :   21 segments\n",
    "- AR Drone Mode 4 :   16 segments\n",
    "\n",
    "\n",
    "\n",
    "- Phantom Mode 1 :    21 segments\n",
    "\n",
    "\n",
    "\n",
    "- Background activities (No Drones) :  41 segments\n",
    "\n",
    "<b>Total Number of segments with Drones :  186\n",
    "\n",
    "Total Number of segments without Drones : 41 </b>\n",
    "    \n",
    "Since the RF signals of one activity is recorded for 5.25 seconds,one segment will be approximately 0.25 seconds [ 5.25 seconds/ 21 segment ]\n",
    "\n",
    "- Time duration of each CSV file : 0.25 seconds\n",
    "- Number of Samples = 10,000,000\n",
    "- Therefore, Sampling Frequency (Fs) = 10,000,000 / 0.25 seconds = 40 Million Hertz "
   ]
  },
  {
   "cell_type": "code",
   "execution_count": 4,
   "metadata": {},
   "outputs": [
    {
     "name": "stdout",
     "output_type": "stream",
     "text": [
      "DroneRF\r\n"
     ]
    }
   ],
   "source": [
    "!cd ../DroneRF/data && ls"
   ]
  },
  {
   "cell_type": "code",
   "execution_count": 1,
   "metadata": {},
   "outputs": [
    {
     "name": "stdout",
     "output_type": "stream",
     "text": [
      "10000H_0.csv   10000L_20.csv  10001L_13.csv  10010H_7.csv   10011H_18.csv\r\n",
      "10000H_1.csv   10000L_3.csv   10001L_14.csv  10010H_8.csv   10011H_19.csv\r\n",
      "10000H_10.csv  10000L_4.csv   10001L_15.csv  10010H_9.csv   10011H_2.csv\r\n",
      "10000H_11.csv  10000L_5.csv   10001L_16.csv  10010L_0.csv   10011H_20.csv\r\n",
      "10000H_12.csv  10000L_6.csv   10001L_17.csv  10010L_1.csv   10011H_3.csv\r\n",
      "10000H_13.csv  10000L_7.csv   10001L_18.csv  10010L_10.csv  10011H_4.csv\r\n",
      "10000H_14.csv  10000L_8.csv   10001L_19.csv  10010L_11.csv  10011H_5.csv\r\n",
      "10000H_15.csv  10000L_9.csv   10001L_2.csv   10010L_12.csv  10011H_6.csv\r\n",
      "10000H_16.csv  10001H_0.csv   10001L_20.csv  10010L_13.csv  10011H_7.csv\r\n",
      "10000H_17.csv  10001H_1.csv   10001L_3.csv   10010L_14.csv  10011H_8.csv\r\n",
      "10000H_18.csv  10001H_10.csv  10001L_4.csv   10010L_15.csv  10011H_9.csv\r\n",
      "10000H_19.csv  10001H_11.csv  10001L_5.csv   10010L_16.csv  10011L_0.csv\r\n",
      "10000H_2.csv   10001H_12.csv  10001L_6.csv   10010L_17.csv  10011L_1.csv\r\n",
      "10000H_20.csv  10001H_13.csv  10001L_7.csv   10010L_18.csv  10011L_10.csv\r\n",
      "10000H_3.csv   10001H_14.csv  10001L_8.csv   10010L_19.csv  10011L_11.csv\r\n",
      "10000H_4.csv   10001H_15.csv  10001L_9.csv   10010L_2.csv   10011L_12.csv\r\n",
      "10000H_5.csv   10001H_16.csv  10010H_0.csv   10010L_20.csv  10011L_13.csv\r\n",
      "10000H_6.csv   10001H_17.csv  10010H_1.csv   10010L_3.csv   10011L_14.csv\r\n",
      "10000H_7.csv   10001H_18.csv  10010H_10.csv  10010L_4.csv   10011L_15.csv\r\n",
      "10000H_8.csv   10001H_19.csv  10010H_11.csv  10010L_5.csv   10011L_16.csv\r\n",
      "10000H_9.csv   10001H_2.csv   10010H_12.csv  10010L_6.csv   10011L_17.csv\r\n",
      "10000L_0.csv   10001H_20.csv  10010H_13.csv  10010L_7.csv   10011L_18.csv\r\n",
      "10000L_1.csv   10001H_3.csv   10010H_14.csv  10010L_8.csv   10011L_19.csv\r\n",
      "10000L_10.csv  10001H_4.csv   10010H_15.csv  10010L_9.csv   10011L_2.csv\r\n",
      "10000L_11.csv  10001H_5.csv   10010H_16.csv  10011H_0.csv   10011L_20.csv\r\n",
      "10000L_12.csv  10001H_6.csv   10010H_17.csv  10011H_1.csv   10011L_3.csv\r\n",
      "10000L_13.csv  10001H_7.csv   10010H_18.csv  10011H_10.csv  10011L_4.csv\r\n",
      "10000L_14.csv  10001H_8.csv   10010H_19.csv  10011H_11.csv  10011L_5.csv\r\n",
      "10000L_15.csv  10001H_9.csv   10010H_2.csv   10011H_12.csv  10011L_6.csv\r\n",
      "10000L_16.csv  10001L_0.csv   10010H_20.csv  10011H_13.csv  10011L_7.csv\r\n",
      "10000L_17.csv  10001L_1.csv   10010H_3.csv   10011H_14.csv  10011L_8.csv\r\n",
      "10000L_18.csv  10001L_10.csv  10010H_4.csv   10011H_15.csv  10011L_9.csv\r\n",
      "10000L_19.csv  10001L_11.csv  10010H_5.csv   10011H_16.csv\r\n",
      "10000L_2.csv   10001L_12.csv  10010H_6.csv   10011H_17.csv\r\n"
     ]
    }
   ],
   "source": [
    "!ls /home/jax/projects/signals/bebopdrone/"
   ]
  },
  {
   "cell_type": "markdown",
   "metadata": {},
   "source": [
    "## Loading all High Segment\n"
   ]
  },
  {
   "cell_type": "code",
   "execution_count": null,
   "metadata": {},
   "outputs": [],
   "source": []
  },
  {
   "cell_type": "code",
   "execution_count": 1,
   "metadata": {},
   "outputs": [
    {
     "name": "stdout",
     "output_type": "stream",
     "text": [
      "/home/jax/projects/signals/ardrone/10100H_1.csv\n"
     ]
    }
   ],
   "source": [
    "import numpy as np\n",
    "\n",
    "Ardrone_Mode1=np.loadtxt('/home/jax/projects/signals/ardrone/10100H_0.csv', delimiter=\",\")\n",
    "time_for_1_segment = 0.25\n",
    "Fs = len(Ardrone_Mode1)/time_for_1_segment\n",
    "\n",
    "for i in range(1,2):\n",
    "    print('/home/jax/projects/signals/ardrone/10100H_'+str(i)+'.csv')\n",
    "    Ardrone_Mode1_add = np.loadtxt('/home/jax/projects/signals/ardrone/10100H_'+str(i)+'.csv', delimiter=\",\")\n",
    "    Ardrone_Mode1=np.concatenate((Ardrone_Mode1,Ardrone_Mode1_add))\n",
    "#save_ArdroneMode1 =np.savetxt('data/DroneRF/ArdroneMode1.csv',Ardrone_Mode1, delimiter=\",\")"
   ]
  },
  {
   "cell_type": "code",
   "execution_count": 2,
   "metadata": {},
   "outputs": [
    {
     "name": "stdout",
     "output_type": "stream",
     "text": [
      "/home/jax/projects/signals/ardrone/10101H_1.csv\n"
     ]
    }
   ],
   "source": [
    "Ardrone_Mode2=np.loadtxt('/home/jax/projects/signals/ardrone/10101H_0.csv', delimiter=\",\")\n",
    "for i in range(1,2):\n",
    "    print('/home/jax/projects/signals/ardrone/10101H_'+str(i)+'.csv')\n",
    "    Ardrone_Mode2_add = np.loadtxt('/home/jax/projects/signals/ardrone/10101H_'+str(i)+'.csv', delimiter=\",\")\n",
    "    Ardrone_Mode2=np.concatenate((Ardrone_Mode2,Ardrone_Mode2_add))\n",
    "#save_ArdroneMode2 =np.savetxt('data/DroneRF/ArdroneMode2.csv',Ardrone_Mode2, delimiter=\",\")"
   ]
  },
  {
   "cell_type": "code",
   "execution_count": 3,
   "metadata": {},
   "outputs": [
    {
     "name": "stdout",
     "output_type": "stream",
     "text": [
      "/home/jax/projects/signals/ardrone/10110H_1.csv\n"
     ]
    }
   ],
   "source": [
    "import numpy as np\n",
    "Ardrone_Mode3=np.loadtxt('/home/jax/projects/signals/ardrone/10110H_0.csv', delimiter=\",\")\n",
    "for i in range(1,2):\n",
    "    print('/home/jax/projects/signals/ardrone/10110H_'+str(i)+'.csv')\n",
    "    Ardrone_Mode3_add = np.loadtxt('/home/jax/projects/signals/ardrone/10110H_'+str(i)+'.csv', delimiter=\",\")\n",
    "    Ardrone_Mode3=np.concatenate((Ardrone_Mode3,Ardrone_Mode3_add))\n",
    "#save_ArdroneMode3 =np.savetxt('data/DroneRF/ArdroneMode3.csv',Ardrone_Mode3, delimiter=\",\")"
   ]
  },
  {
   "cell_type": "code",
   "execution_count": 4,
   "metadata": {},
   "outputs": [
    {
     "name": "stdout",
     "output_type": "stream",
     "text": [
      "1\n"
     ]
    }
   ],
   "source": [
    "print(i)"
   ]
  },
  {
   "cell_type": "code",
   "execution_count": 5,
   "metadata": {},
   "outputs": [
    {
     "name": "stdout",
     "output_type": "stream",
     "text": [
      "0.5\n"
     ]
    },
    {
     "data": {
      "text/plain": [
       "Text(0.5, 1.0, 'Mode 1')"
      ]
     },
     "execution_count": 5,
     "metadata": {},
     "output_type": "execute_result"
    },
    {
     "data": {
      "image/png": "[encoded data removed]",
      "text/plain": [
       "<Figure size 432x288 with 1 Axes>"
      ]
     },
     "metadata": {
      "needs_background": "light"
     },
     "output_type": "display_data"
    }
   ],
   "source": [
    "tt = 0.25*(1+i)\n",
    "print(tt)\n",
    "t_ardrone = np.arange(0,tt,1/Fs) \n",
    "\n",
    "import matplotlib.pyplot as plt\n",
    "plt.subplot (2,1,1)\n",
    "plt.plot(t_ardrone,Ardrone_Mode1)\n",
    "plt.title(\"Mode 1\")"
   ]
  },
  {
   "cell_type": "code",
   "execution_count": 6,
   "metadata": {},
   "outputs": [
    {
     "name": "stdout",
     "output_type": "stream",
     "text": [
      "0.5\n"
     ]
    },
    {
     "data": {
      "text/plain": [
       "Text(0.5, 1.0, 'Mode 2')"
      ]
     },
     "execution_count": 6,
     "metadata": {},
     "output_type": "execute_result"
    },
    {
     "data": {
      "image/png": "[encoded data removed]",
      "text/plain": [
       "<Figure size 432x288 with 1 Axes>"
      ]
     },
     "metadata": {
      "needs_background": "light"
     },
     "output_type": "display_data"
    }
   ],
   "source": [
    "tt = 0.25*(1+i)\n",
    "print(tt)\n",
    "t_ardrone = np.arange(0,tt,1/Fs) \n",
    "\n",
    "import matplotlib.pyplot as plt\n",
    "plt.subplot (2,1,1)\n",
    "plt.plot(t_ardrone,Ardrone_Mode2)\n",
    "plt.title(\"Mode 2\")"
   ]
  },
  {
   "cell_type": "code",
   "execution_count": 7,
   "metadata": {},
   "outputs": [
    {
     "name": "stdout",
     "output_type": "stream",
     "text": [
      "0.5\n"
     ]
    },
    {
     "data": {
      "text/plain": [
       "Text(0.5, 1.0, 'Mode 3')"
      ]
     },
     "execution_count": 7,
     "metadata": {},
     "output_type": "execute_result"
    },
    {
     "data": {
      "image/png": "[encoded data removed]",
      "text/plain": [
       "<Figure size 432x288 with 1 Axes>"
      ]
     },
     "metadata": {
      "needs_background": "light"
     },
     "output_type": "display_data"
    }
   ],
   "source": [
    "tt = 0.25*(1+i)\n",
    "print(tt)\n",
    "t_ardrone = np.arange(0,tt,1/Fs) \n",
    "\n",
    "import matplotlib.pyplot as plt\n",
    "plt.subplot (2,1,1)\n",
    "plt.plot(t_ardrone,Ardrone_Mode3)\n",
    "plt.title(\"Mode 3\")"
   ]
  },
  {
   "cell_type": "code",
   "execution_count": 8,
   "metadata": {},
   "outputs": [
    {
     "name": "stdout",
     "output_type": "stream",
     "text": [
      "20000000\n",
      "20000000\n",
      "20000000\n"
     ]
    }
   ],
   "source": [
    "print(len(Ardrone_Mode1)) # 50 million for 0 to 4 Segment\n",
    "print(len(Ardrone_Mode2))\n",
    "print(len(Ardrone_Mode3))"
   ]
  },
  {
   "cell_type": "code",
   "execution_count": 9,
   "metadata": {},
   "outputs": [],
   "source": [
    "#save_ArdroneMode1 =np.savetxt('data/DroneRF/ArdroneMode1_stacked.csv',Ardrone_Mode1_Dataset, delimiter=\",\")\n",
    "#save_ArdroneMode2 =np.savetxt('data/DroneRF/ArdroneMode2_stacked.csv',Ardrone_Mode2_Dataset, delimiter=\",\")\n",
    "#save_ArdroneMode3 =np.savetxt('data/DroneRF/ArdroneMode3_stacked.csv',Ardrone_Mode3_Dataset, delimiter=\",\")\n"
   ]
  },
  {
   "cell_type": "code",
   "execution_count": 10,
   "metadata": {},
   "outputs": [
    {
     "data": {
      "text/plain": [
       "'\\nfrom tqdm import tqdm\\nWindow_size = 100000  # window size 100,000\\nstart = 0\\nend = Window_size\\n\\n\\nArdrone_Mode1_Dataset = Ardrone_Mode1[start :end]\\nArdrone_Mode2_Dataset = Ardrone_Mode2[start :end]\\nArdrone_Mode3_Dataset = Ardrone_Mode3[start :end]\\nsize_of_file = int(len(Ardrone_Mode1)-Window_size)\\n\\nfor i in tqdm(range(1,2)):\\n    start = i\\n    end = Window_size+i\\n    Ardrone_Mode1_Dataset=np.vstack((Ardrone_Mode1_Dataset,Ardrone_Mode1[start :end]))\\n    Ardrone_Mode2_Dataset=np.vstack((Ardrone_Mode2_Dataset,Ardrone_Mode2[start :end]))\\n    Ardrone_Mode3_Dataset=np.vstack((Ardrone_Mode3_Dataset,Ardrone_Mode3[start :end]))\\n    \\n'"
      ]
     },
     "execution_count": 10,
     "metadata": {},
     "output_type": "execute_result"
    }
   ],
   "source": [
    "'''\n",
    "from tqdm import tqdm\n",
    "Window_size = 100000  # window size 100,000\n",
    "start = 0\n",
    "end = Window_size\n",
    "\n",
    "\n",
    "Ardrone_Mode1_Dataset = Ardrone_Mode1[start :end]\n",
    "Ardrone_Mode2_Dataset = Ardrone_Mode2[start :end]\n",
    "Ardrone_Mode3_Dataset = Ardrone_Mode3[start :end]\n",
    "size_of_file = int(len(Ardrone_Mode1)-Window_size)\n",
    "\n",
    "for i in tqdm(range(1,2)):\n",
    "    start = i\n",
    "    end = Window_size+i\n",
    "    Ardrone_Mode1_Dataset=np.vstack((Ardrone_Mode1_Dataset,Ardrone_Mode1[start :end]))\n",
    "    Ardrone_Mode2_Dataset=np.vstack((Ardrone_Mode2_Dataset,Ardrone_Mode2[start :end]))\n",
    "    Ardrone_Mode3_Dataset=np.vstack((Ardrone_Mode3_Dataset,Ardrone_Mode3[start :end]))\n",
    "    \n",
    "'''"
   ]
  },
  {
   "cell_type": "code",
   "execution_count": null,
   "metadata": {},
   "outputs": [],
   "source": []
  },
  {
   "cell_type": "code",
   "execution_count": 20,
   "metadata": {},
   "outputs": [
    {
     "name": "stdout",
     "output_type": "stream",
     "text": [
      "(200000, 100)\n",
      "(200000, 100)\n",
      "(200000, 100)\n"
     ]
    }
   ],
   "source": [
    "from sklearn.preprocessing import StandardScaler, OneHotEncoder\n",
    "from sklearn import preprocessing\n",
    "from sklearn.preprocessing import RobustScaler\n",
    "\n",
    "\n",
    "Window_Size = 100\n",
    "\n",
    "\n",
    "\n",
    "\n",
    "Ardrone_Mode1_Dataset_reshape = Ardrone_Mode1.reshape(int(len(Ardrone_Mode1)/Window_Size),Window_Size)\n",
    "#Ardrone_Mode1_Dataset_normalised= preprocessing.StandardScaler().fit_transform(Ardrone_Mode1_Dataset_reshape)\n",
    "Ardrone_Mode1_Dataset_normalised= preprocessing.RobustScaler().fit_transform(Ardrone_Mode1_Dataset_reshape)\n",
    "\n",
    "Ardrone_Mode2_Dataset_reshape = Ardrone_Mode2.reshape(int(len(Ardrone_Mode2)/Window_Size),Window_Size) \n",
    "#Ardrone_Mode2_Dataset_normalised= preprocessing.StandardScaler().fit_transform(Ardrone_Mode2_Dataset_reshape)\n",
    "Ardrone_Mode2_Dataset_normalised= preprocessing.RobustScaler().fit_transform(Ardrone_Mode2_Dataset_reshape)\n",
    "\n",
    "Ardrone_Mode3_Dataset_reshape = Ardrone_Mode3.reshape(int(len(Ardrone_Mode3)/Window_Size),Window_Size) \n",
    "#Ardrone_Mode3_Dataset_normalised= preprocessing.StandardScaler().fit_transform(Ardrone_Mode3_Dataset_reshape)\n",
    "Ardrone_Mode3_Dataset_normalised= preprocessing.RobustScaler().fit_transform(Ardrone_Mode3_Dataset_reshape)\n",
    "\n",
    "print(Ardrone_Mode1_Dataset_normalised.shape)\n",
    "print(Ardrone_Mode2_Dataset_normalised.shape)\n",
    "print(Ardrone_Mode3_Dataset_normalised.shape)\n",
    "\n",
    "\n",
    "\n"
   ]
  },
  {
   "cell_type": "code",
   "execution_count": 23,
   "metadata": {},
   "outputs": [
    {
     "data": {
      "text/plain": [
       "Text(0.5, 1.0, 'Mode 1')"
      ]
     },
     "execution_count": 23,
     "metadata": {},
     "output_type": "execute_result"
    },
    {
     "data": {
      "image/png": "[encoded data removed]",
      "text/plain": [
       "<Figure size 432x288 with 1 Axes>"
      ]
     },
     "metadata": {
      "needs_background": "light"
     },
     "output_type": "display_data"
    }
   ],
   "source": [
    "scaled_mode1_plot=Ardrone_Mode1_Dataset_normalised.reshape(20000000,1)\n",
    "\n",
    "t_ardrone = np.arange(0,tt,1/Fs) \n",
    "\n",
    "import matplotlib.pyplot as plt\n",
    "plt.subplot (2,1,1)\n",
    "plt.plot(t_ardrone,scaled_mode1_plot)\n",
    "plt.title(\"Mode 1\")\n"
   ]
  },
  {
   "cell_type": "code",
   "execution_count": 25,
   "metadata": {},
   "outputs": [
    {
     "data": {
      "text/plain": [
       "Text(0.5, 1.0, 'Mode 2')"
      ]
     },
     "execution_count": 25,
     "metadata": {},
     "output_type": "execute_result"
    },
    {
     "data": {
      "image/png": "[encoded data removed]",
      "text/plain": [
       "<Figure size 432x288 with 1 Axes>"
      ]
     },
     "metadata": {
      "needs_background": "light"
     },
     "output_type": "display_data"
    }
   ],
   "source": [
    "scaled_mode2_plot=Ardrone_Mode2_Dataset_normalised.reshape(20000000,1)\n",
    "\n",
    "t_ardrone = np.arange(0,tt,1/Fs) \n",
    "\n",
    "import matplotlib.pyplot as plt\n",
    "plt.subplot (2,1,1)\n",
    "plt.plot(t_ardrone,scaled_mode2_plot)\n",
    "plt.title(\"Mode 2\")\n"
   ]
  },
  {
   "cell_type": "code",
   "execution_count": null,
   "metadata": {},
   "outputs": [],
   "source": []
  },
  {
   "cell_type": "code",
   "execution_count": 14,
   "metadata": {},
   "outputs": [
    {
     "ename": "NameError",
     "evalue": "name 'Ardrone_Mode1_Dataset' is not defined",
     "output_type": "error",
     "traceback": [
      "\u001b[0;31m---------------------------------------------------------------------------\u001b[0m",
      "\u001b[0;31mNameError\u001b[0m                                 Traceback (most recent call last)",
      "\u001b[0;32m<ipython-input-14-b1224131cff0>\u001b[0m in \u001b[0;36m<module>\u001b[0;34m\u001b[0m\n\u001b[0;32m----> 1\u001b[0;31m \u001b[0mprint\u001b[0m\u001b[0;34m(\u001b[0m\u001b[0mArdrone_Mode1_Dataset\u001b[0m\u001b[0;34m[\u001b[0m\u001b[0;36m0\u001b[0m\u001b[0;34m]\u001b[0m\u001b[0;34m.\u001b[0m\u001b[0mshape\u001b[0m\u001b[0;34m)\u001b[0m\u001b[0;34m\u001b[0m\u001b[0;34m\u001b[0m\u001b[0m\n\u001b[0m",
      "\u001b[0;31mNameError\u001b[0m: name 'Ardrone_Mode1_Dataset' is not defined"
     ]
    }
   ],
   "source": [
    "print(Ardrone_Mode1_Dataset[0].shape)"
   ]
  },
  {
   "cell_type": "code",
   "execution_count": null,
   "metadata": {},
   "outputs": [],
   "source": [
    "print(Ardrone_Mode1_Dataset_reshape[0])\n",
    "print(Ardrone_Mode1_Dataset_reshape[1])"
   ]
  },
  {
   "cell_type": "code",
   "execution_count": null,
   "metadata": {},
   "outputs": [],
   "source": [
    "import numpy as np\n",
    "from numpy.lib.stride_tricks import as_strided\n",
    "a = np.arange(10, dtype=np.int8)\n",
    "z = as_strided(Ardrone_Mode1, shape=(300,  100), strides=(1, 1))"
   ]
  },
  {
   "cell_type": "code",
   "execution_count": 15,
   "metadata": {},
   "outputs": [
    {
     "data": {
      "text/plain": [
       "array([  0.,   0.,   0.,   0.,   0.,   0.,   0.,   0.,   0.,   0.,  -1.,\n",
       "         0., -14.,  15., -19.,  43.,   8.,  17.,   2.,   8.])"
      ]
     },
     "execution_count": 15,
     "metadata": {},
     "output_type": "execute_result"
    }
   ],
   "source": [
    "Ardrone_Mode1[0:20]"
   ]
  },
  {
   "cell_type": "code",
   "execution_count": 16,
   "metadata": {},
   "outputs": [
    {
     "ename": "NameError",
     "evalue": "name 'z' is not defined",
     "output_type": "error",
     "traceback": [
      "\u001b[0;31m---------------------------------------------------------------------------\u001b[0m",
      "\u001b[0;31mNameError\u001b[0m                                 Traceback (most recent call last)",
      "\u001b[0;32m<ipython-input-16-32e264c10999>\u001b[0m in \u001b[0;36m<module>\u001b[0;34m\u001b[0m\n\u001b[0;32m----> 1\u001b[0;31m \u001b[0mprint\u001b[0m\u001b[0;34m(\u001b[0m\u001b[0mz\u001b[0m\u001b[0;34m[\u001b[0m\u001b[0;36m0\u001b[0m\u001b[0;34m]\u001b[0m\u001b[0;34m[\u001b[0m\u001b[0;36m0\u001b[0m\u001b[0;34m:\u001b[0m\u001b[0;36m20\u001b[0m\u001b[0;34m]\u001b[0m\u001b[0;34m)\u001b[0m\u001b[0;34m\u001b[0m\u001b[0;34m\u001b[0m\u001b[0m\n\u001b[0m",
      "\u001b[0;31mNameError\u001b[0m: name 'z' is not defined"
     ]
    }
   ],
   "source": [
    "print(z[0][0:20])"
   ]
  },
  {
   "cell_type": "code",
   "execution_count": 17,
   "metadata": {},
   "outputs": [
    {
     "data": {
      "text/plain": [
       "array([['Mode1'],\n",
       "       ['Mode2'],\n",
       "       ['Mode3']], dtype='<U5')"
      ]
     },
     "execution_count": 17,
     "metadata": {},
     "output_type": "execute_result"
    }
   ],
   "source": [
    "Label = np.array([['Mode1'],['Mode2'],['Mode3']])\n",
    "Label.reshape(-1,1)"
   ]
  },
  {
   "cell_type": "code",
   "execution_count": 18,
   "metadata": {},
   "outputs": [],
   "source": [
    "from sklearn.preprocessing import OneHotEncoder\n",
    "enc = OneHotEncoder(handle_unknown='ignore', sparse=False)\n",
    "enc = enc.fit(Label)\n",
    "Labels = enc.transform(Label)"
   ]
  },
  {
   "cell_type": "code",
   "execution_count": 19,
   "metadata": {},
   "outputs": [
    {
     "data": {
      "text/plain": [
       "array([[1., 0., 0.],\n",
       "       [0., 1., 0.],\n",
       "       [0., 0., 1.]])"
      ]
     },
     "execution_count": 19,
     "metadata": {},
     "output_type": "execute_result"
    }
   ],
   "source": [
    "Labels"
   ]
  },
  {
   "cell_type": "code",
   "execution_count": 20,
   "metadata": {},
   "outputs": [],
   "source": [
    "Ardrone_Mode1_Dataset_concatenate = np.tile(Labels[0][np.newaxis,:],(Ardrone_Mode3_Dataset_normalised.shape[0],1))\n",
    "Ardrone_Mode1_Dataset_scaled=np.concatenate((Ardrone_Mode3_Dataset_normalised,Ardrone_Mode1_Dataset_concatenate),axis=1)\n",
    "\n",
    "\n",
    "Ardrone_Mode2_Dataset_concatenate = np.tile(Labels[1][np.newaxis,:],(Ardrone_Mode3_Dataset_normalised.shape[0],1))\n",
    "Ardrone_Mode2_Dataset_scaled=np.concatenate((Ardrone_Mode3_Dataset_normalised,Ardrone_Mode2_Dataset_concatenate),axis=1)\n",
    "\n",
    "Ardrone_Mode3_Dataset_concatenate = np.tile(Labels[2][np.newaxis,:],(Ardrone_Mode3_Dataset_normalised.shape[0],1))\n",
    "Ardrone_Mode3_Dataset_scaled=np.concatenate((Ardrone_Mode3_Dataset_normalised,Ardrone_Mode3_Dataset_concatenate),axis=1)"
   ]
  },
  {
   "cell_type": "code",
   "execution_count": 21,
   "metadata": {},
   "outputs": [],
   "source": [
    "stacked_data = np.vstack((Ardrone_Mode1_Dataset_scaled,Ardrone_Mode2_Dataset_scaled,Ardrone_Mode3_Dataset_scaled))"
   ]
  },
  {
   "cell_type": "code",
   "execution_count": 22,
   "metadata": {},
   "outputs": [
    {
     "data": {
      "text/plain": [
       "(600000, 103)"
      ]
     },
     "execution_count": 22,
     "metadata": {},
     "output_type": "execute_result"
    }
   ],
   "source": [
    "stacked_data.shape"
   ]
  },
  {
   "cell_type": "code",
   "execution_count": 23,
   "metadata": {},
   "outputs": [],
   "source": [
    "np.random.shuffle(stacked_data)\n",
    "Test_data_index = int(0.1*stacked_data.shape[0])\n",
    "Validate_data_index = int(0.2*stacked_data.shape[0])+Test_data_index"
   ]
  },
  {
   "cell_type": "code",
   "execution_count": 24,
   "metadata": {},
   "outputs": [],
   "source": [
    "X_Test = stacked_data[0:Test_data_index,0:Window_Size]\n",
    "Y_Test = stacked_data[0:Test_data_index,Window_Size:]\n",
    "\n",
    "X_Validate= stacked_data[Test_data_index:Validate_data_index,0:Window_Size]\n",
    "Y_Validate = stacked_data[Test_data_index:Validate_data_index,Window_Size:]\n",
    "\n",
    "X_train= stacked_data[Validate_data_index:,0:Window_Size]\n",
    "Y_train = stacked_data[Validate_data_index:,Window_Size:]"
   ]
  },
  {
   "cell_type": "code",
   "execution_count": 25,
   "metadata": {},
   "outputs": [
    {
     "name": "stdout",
     "output_type": "stream",
     "text": [
      "3\n"
     ]
    }
   ],
   "source": [
    "print(Y_train.shape[1])"
   ]
  },
  {
   "cell_type": "code",
   "execution_count": 26,
   "metadata": {},
   "outputs": [
    {
     "ename": "NameError",
     "evalue": "name 'keras' is not defined",
     "output_type": "error",
     "traceback": [
      "\u001b[0;31m---------------------------------------------------------------------------\u001b[0m",
      "\u001b[0;31mNameError\u001b[0m                                 Traceback (most recent call last)",
      "\u001b[0;32m<ipython-input-26-fa454e35e306>\u001b[0m in \u001b[0;36m<module>\u001b[0;34m\u001b[0m\n\u001b[1;32m     13\u001b[0m \u001b[0;32mfrom\u001b[0m \u001b[0msklearn\u001b[0m \u001b[0;32mimport\u001b[0m \u001b[0mpreprocessing\u001b[0m\u001b[0;34m\u001b[0m\u001b[0;34m\u001b[0m\u001b[0m\n\u001b[1;32m     14\u001b[0m \u001b[0;34m\u001b[0m\u001b[0m\n\u001b[0;32m---> 15\u001b[0;31m \u001b[0mmodel_4wave\u001b[0m \u001b[0;34m=\u001b[0m \u001b[0mkeras\u001b[0m\u001b[0;34m.\u001b[0m\u001b[0mSequential\u001b[0m\u001b[0;34m(\u001b[0m\u001b[0;34m)\u001b[0m\u001b[0;34m\u001b[0m\u001b[0;34m\u001b[0m\u001b[0m\n\u001b[0m\u001b[1;32m     16\u001b[0m \u001b[0;31m#model_4wave.add(keras.layers.Bidirectional(keras.layers.LSTM(units=256, input_shape=[X_train.shape[1], 1])))\u001b[0m\u001b[0;34m\u001b[0m\u001b[0;34m\u001b[0m\u001b[0;34m\u001b[0m\u001b[0m\n\u001b[1;32m     17\u001b[0m \u001b[0mmodel_4wave\u001b[0m\u001b[0;34m.\u001b[0m\u001b[0madd\u001b[0m\u001b[0;34m(\u001b[0m\u001b[0;34m(\u001b[0m\u001b[0mkeras\u001b[0m\u001b[0;34m.\u001b[0m\u001b[0mlayers\u001b[0m\u001b[0;34m.\u001b[0m\u001b[0mLSTM\u001b[0m\u001b[0;34m(\u001b[0m\u001b[0munits\u001b[0m\u001b[0;34m=\u001b[0m\u001b[0;36m256\u001b[0m\u001b[0;34m,\u001b[0m \u001b[0minput_shape\u001b[0m\u001b[0;34m=\u001b[0m\u001b[0;34m[\u001b[0m\u001b[0mX_train\u001b[0m\u001b[0;34m.\u001b[0m\u001b[0mshape\u001b[0m\u001b[0;34m[\u001b[0m\u001b[0;36m1\u001b[0m\u001b[0;34m]\u001b[0m\u001b[0;34m,\u001b[0m \u001b[0;36m1\u001b[0m\u001b[0;34m]\u001b[0m\u001b[0;34m,\u001b[0m\u001b[0mreturn_sequences\u001b[0m\u001b[0;34m=\u001b[0m\u001b[0;32mTrue\u001b[0m\u001b[0;34m)\u001b[0m\u001b[0;34m)\u001b[0m\u001b[0;34m)\u001b[0m\u001b[0;34m\u001b[0m\u001b[0;34m\u001b[0m\u001b[0m\n",
      "\u001b[0;31mNameError\u001b[0m: name 'keras' is not defined"
     ]
    }
   ],
   "source": [
    "###### from tensorflow import keras\n",
    "from tensorflow.keras import layers\n",
    "from keras.models import Sequential\n",
    "from keras.layers import Dense\n",
    "import tensorflow as tf\n",
    "\n",
    "import numpy as np\n",
    "import matplotlib.pyplot as plt\n",
    "\n",
    "\n",
    "from sklearn.preprocessing import StandardScaler, OneHotEncoder\n",
    "from sklearn.compose import ColumnTransformer, make_column_transformer\n",
    "from sklearn import preprocessing\n",
    "\n",
    "model_4wave = keras.Sequential()\n",
    "#model_4wave.add(keras.layers.Bidirectional(keras.layers.LSTM(units=256, input_shape=[X_train.shape[1], 1])))\n",
    "model_4wave.add((keras.layers.LSTM(units=256, input_shape=[X_train.shape[1], 1],return_sequences=True)))\n",
    "model_4wave.add(keras.layers.Dropout(rate=0.2))\n",
    "model_4wave.add((keras.layers.LSTM(units=128, input_shape=[X_train.shape[1], 1],return_sequences=True)))\n",
    "model_4wave.add(keras.layers.Dropout(rate=0.2))\n",
    "model_4wave.add((keras.layers.LSTM(units=64, activation='relu')))\n",
    "model_4wave.add(keras.layers.Dropout(rate=0.2))\n",
    "model_4wave.add(keras.layers.Dense(units=32, activation='relu'))\n",
    "model_4wave.add(keras.layers.Dense(Y_train.shape[1], activation='softmax'))\n",
    "\n",
    "print (model_4wave.summary())"
   ]
  },
  {
   "cell_type": "code",
   "execution_count": 204,
   "metadata": {},
   "outputs": [],
   "source": [
    "model_4wave.compile(loss='categorical_crossentropy', optimizer='adam', metrics=['acc'])"
   ]
  },
  {
   "cell_type": "code",
   "execution_count": 205,
   "metadata": {},
   "outputs": [
    {
     "name": "stdout",
     "output_type": "stream",
     "text": [
      "(420000, 100)\n",
      "(120000, 100)\n",
      "(60000, 100)\n"
     ]
    }
   ],
   "source": [
    "print(X_train.shape)\n",
    "print(X_Validate.shape)\n",
    "print(X_Test.shape)"
   ]
  },
  {
   "cell_type": "code",
   "execution_count": 27,
   "metadata": {},
   "outputs": [],
   "source": [
    "\n",
    "X_train=X_train.reshape(X_train.shape[0],X_train.shape[1],1)\n",
    "X_Validate=X_Validate.reshape(X_Validate.shape[0],X_Validate.shape[1],1)\n",
    "X_Test = X_Test.reshape(X_Test.shape[0],X_Test.shape[1],1)"
   ]
  },
  {
   "cell_type": "code",
   "execution_count": 178,
   "metadata": {},
   "outputs": [
    {
     "name": "stdout",
     "output_type": "stream",
     "text": [
      "Epoch 1/300\n",
      "420/420 [==============================] - 248s 590ms/step - loss: 1.0991 - acc: 0.3298\n",
      "Epoch 2/300\n",
      "420/420 [==============================] - 268s 639ms/step - loss: 1.0989 - acc: 0.3336\n",
      "Epoch 3/300\n",
      "420/420 [==============================] - 275s 655ms/step - loss: 1.0987 - acc: 0.3302\n",
      "Epoch 4/300\n",
      " 63/420 [===>..........................] - ETA: 3:51 - loss: 1.0987 - acc: 0.3287"
     ]
    },
    {
     "ename": "KeyboardInterrupt",
     "evalue": "",
     "output_type": "error",
     "traceback": [
      "\u001b[0;31m---------------------------------------------------------------------------\u001b[0m",
      "\u001b[0;31mKeyboardInterrupt\u001b[0m                         Traceback (most recent call last)",
      "\u001b[0;32m<ipython-input-178-f31e22f60d21>\u001b[0m in \u001b[0;36m<module>\u001b[0;34m\u001b[0m\n\u001b[1;32m      2\u001b[0m     \u001b[0mX_train\u001b[0m\u001b[0;34m,\u001b[0m \u001b[0mY_train\u001b[0m\u001b[0;34m,\u001b[0m\u001b[0;34m\u001b[0m\u001b[0;34m\u001b[0m\u001b[0m\n\u001b[1;32m      3\u001b[0m     \u001b[0mepochs\u001b[0m\u001b[0;34m=\u001b[0m\u001b[0;36m300\u001b[0m\u001b[0;34m,\u001b[0m\u001b[0;34m\u001b[0m\u001b[0;34m\u001b[0m\u001b[0m\n\u001b[0;32m----> 4\u001b[0;31m     \u001b[0mbatch_size\u001b[0m\u001b[0;34m=\u001b[0m\u001b[0;36m100\u001b[0m\u001b[0;34m\u001b[0m\u001b[0;34m\u001b[0m\u001b[0m\n\u001b[0m\u001b[1;32m      5\u001b[0m )\n",
      "\u001b[0;32m~/.pyenv/versions/3.7.2/lib/python3.7/site-packages/tensorflow/python/keras/engine/training.py\u001b[0m in \u001b[0;36m_method_wrapper\u001b[0;34m(self, *args, **kwargs)\u001b[0m\n\u001b[1;32m    106\u001b[0m   \u001b[0;32mdef\u001b[0m \u001b[0m_method_wrapper\u001b[0m\u001b[0;34m(\u001b[0m\u001b[0mself\u001b[0m\u001b[0;34m,\u001b[0m \u001b[0;34m*\u001b[0m\u001b[0margs\u001b[0m\u001b[0;34m,\u001b[0m \u001b[0;34m**\u001b[0m\u001b[0mkwargs\u001b[0m\u001b[0;34m)\u001b[0m\u001b[0;34m:\u001b[0m\u001b[0;34m\u001b[0m\u001b[0;34m\u001b[0m\u001b[0m\n\u001b[1;32m    107\u001b[0m     \u001b[0;32mif\u001b[0m \u001b[0;32mnot\u001b[0m \u001b[0mself\u001b[0m\u001b[0;34m.\u001b[0m\u001b[0m_in_multi_worker_mode\u001b[0m\u001b[0;34m(\u001b[0m\u001b[0;34m)\u001b[0m\u001b[0;34m:\u001b[0m  \u001b[0;31m# pylint: disable=protected-access\u001b[0m\u001b[0;34m\u001b[0m\u001b[0;34m\u001b[0m\u001b[0m\n\u001b[0;32m--> 108\u001b[0;31m       \u001b[0;32mreturn\u001b[0m \u001b[0mmethod\u001b[0m\u001b[0;34m(\u001b[0m\u001b[0mself\u001b[0m\u001b[0;34m,\u001b[0m \u001b[0;34m*\u001b[0m\u001b[0margs\u001b[0m\u001b[0;34m,\u001b[0m \u001b[0;34m**\u001b[0m\u001b[0mkwargs\u001b[0m\u001b[0;34m)\u001b[0m\u001b[0;34m\u001b[0m\u001b[0;34m\u001b[0m\u001b[0m\n\u001b[0m\u001b[1;32m    109\u001b[0m \u001b[0;34m\u001b[0m\u001b[0m\n\u001b[1;32m    110\u001b[0m     \u001b[0;31m# Running inside `run_distribute_coordinator` already.\u001b[0m\u001b[0;34m\u001b[0m\u001b[0;34m\u001b[0m\u001b[0;34m\u001b[0m\u001b[0m\n",
      "\u001b[0;32m~/.pyenv/versions/3.7.2/lib/python3.7/site-packages/tensorflow/python/keras/engine/training.py\u001b[0m in \u001b[0;36mfit\u001b[0;34m(self, x, y, batch_size, epochs, verbose, callbacks, validation_split, validation_data, shuffle, class_weight, sample_weight, initial_epoch, steps_per_epoch, validation_steps, validation_batch_size, validation_freq, max_queue_size, workers, use_multiprocessing)\u001b[0m\n\u001b[1;32m   1096\u001b[0m                 batch_size=batch_size):\n\u001b[1;32m   1097\u001b[0m               \u001b[0mcallbacks\u001b[0m\u001b[0;34m.\u001b[0m\u001b[0mon_train_batch_begin\u001b[0m\u001b[0;34m(\u001b[0m\u001b[0mstep\u001b[0m\u001b[0;34m)\u001b[0m\u001b[0;34m\u001b[0m\u001b[0;34m\u001b[0m\u001b[0m\n\u001b[0;32m-> 1098\u001b[0;31m               \u001b[0mtmp_logs\u001b[0m \u001b[0;34m=\u001b[0m \u001b[0mtrain_function\u001b[0m\u001b[0;34m(\u001b[0m\u001b[0miterator\u001b[0m\u001b[0;34m)\u001b[0m\u001b[0;34m\u001b[0m\u001b[0;34m\u001b[0m\u001b[0m\n\u001b[0m\u001b[1;32m   1099\u001b[0m               \u001b[0;32mif\u001b[0m \u001b[0mdata_handler\u001b[0m\u001b[0;34m.\u001b[0m\u001b[0mshould_sync\u001b[0m\u001b[0;34m:\u001b[0m\u001b[0;34m\u001b[0m\u001b[0;34m\u001b[0m\u001b[0m\n\u001b[1;32m   1100\u001b[0m                 \u001b[0mcontext\u001b[0m\u001b[0;34m.\u001b[0m\u001b[0masync_wait\u001b[0m\u001b[0;34m(\u001b[0m\u001b[0;34m)\u001b[0m\u001b[0;34m\u001b[0m\u001b[0;34m\u001b[0m\u001b[0m\n",
      "\u001b[0;32m~/.pyenv/versions/3.7.2/lib/python3.7/site-packages/tensorflow/python/eager/def_function.py\u001b[0m in \u001b[0;36m__call__\u001b[0;34m(self, *args, **kwds)\u001b[0m\n\u001b[1;32m    778\u001b[0m       \u001b[0;32melse\u001b[0m\u001b[0;34m:\u001b[0m\u001b[0;34m\u001b[0m\u001b[0;34m\u001b[0m\u001b[0m\n\u001b[1;32m    779\u001b[0m         \u001b[0mcompiler\u001b[0m \u001b[0;34m=\u001b[0m \u001b[0;34m\"nonXla\"\u001b[0m\u001b[0;34m\u001b[0m\u001b[0;34m\u001b[0m\u001b[0m\n\u001b[0;32m--> 780\u001b[0;31m         \u001b[0mresult\u001b[0m \u001b[0;34m=\u001b[0m \u001b[0mself\u001b[0m\u001b[0;34m.\u001b[0m\u001b[0m_call\u001b[0m\u001b[0;34m(\u001b[0m\u001b[0;34m*\u001b[0m\u001b[0margs\u001b[0m\u001b[0;34m,\u001b[0m \u001b[0;34m**\u001b[0m\u001b[0mkwds\u001b[0m\u001b[0;34m)\u001b[0m\u001b[0;34m\u001b[0m\u001b[0;34m\u001b[0m\u001b[0m\n\u001b[0m\u001b[1;32m    781\u001b[0m \u001b[0;34m\u001b[0m\u001b[0m\n\u001b[1;32m    782\u001b[0m       \u001b[0mnew_tracing_count\u001b[0m \u001b[0;34m=\u001b[0m \u001b[0mself\u001b[0m\u001b[0;34m.\u001b[0m\u001b[0m_get_tracing_count\u001b[0m\u001b[0;34m(\u001b[0m\u001b[0;34m)\u001b[0m\u001b[0;34m\u001b[0m\u001b[0;34m\u001b[0m\u001b[0m\n",
      "\u001b[0;32m~/.pyenv/versions/3.7.2/lib/python3.7/site-packages/tensorflow/python/eager/def_function.py\u001b[0m in \u001b[0;36m_call\u001b[0;34m(self, *args, **kwds)\u001b[0m\n\u001b[1;32m    805\u001b[0m       \u001b[0;31m# In this case we have created variables on the first call, so we run the\u001b[0m\u001b[0;34m\u001b[0m\u001b[0;34m\u001b[0m\u001b[0;34m\u001b[0m\u001b[0m\n\u001b[1;32m    806\u001b[0m       \u001b[0;31m# defunned version which is guaranteed to never create variables.\u001b[0m\u001b[0;34m\u001b[0m\u001b[0;34m\u001b[0m\u001b[0;34m\u001b[0m\u001b[0m\n\u001b[0;32m--> 807\u001b[0;31m       \u001b[0;32mreturn\u001b[0m \u001b[0mself\u001b[0m\u001b[0;34m.\u001b[0m\u001b[0m_stateless_fn\u001b[0m\u001b[0;34m(\u001b[0m\u001b[0;34m*\u001b[0m\u001b[0margs\u001b[0m\u001b[0;34m,\u001b[0m \u001b[0;34m**\u001b[0m\u001b[0mkwds\u001b[0m\u001b[0;34m)\u001b[0m  \u001b[0;31m# pylint: disable=not-callable\u001b[0m\u001b[0;34m\u001b[0m\u001b[0;34m\u001b[0m\u001b[0m\n\u001b[0m\u001b[1;32m    808\u001b[0m     \u001b[0;32melif\u001b[0m \u001b[0mself\u001b[0m\u001b[0;34m.\u001b[0m\u001b[0m_stateful_fn\u001b[0m \u001b[0;32mis\u001b[0m \u001b[0;32mnot\u001b[0m \u001b[0;32mNone\u001b[0m\u001b[0;34m:\u001b[0m\u001b[0;34m\u001b[0m\u001b[0;34m\u001b[0m\u001b[0m\n\u001b[1;32m    809\u001b[0m       \u001b[0;31m# Release the lock early so that multiple threads can perform the call\u001b[0m\u001b[0;34m\u001b[0m\u001b[0;34m\u001b[0m\u001b[0;34m\u001b[0m\u001b[0m\n",
      "\u001b[0;32m~/.pyenv/versions/3.7.2/lib/python3.7/site-packages/tensorflow/python/eager/function.py\u001b[0m in \u001b[0;36m__call__\u001b[0;34m(self, *args, **kwargs)\u001b[0m\n\u001b[1;32m   2827\u001b[0m     \u001b[0;32mwith\u001b[0m \u001b[0mself\u001b[0m\u001b[0;34m.\u001b[0m\u001b[0m_lock\u001b[0m\u001b[0;34m:\u001b[0m\u001b[0;34m\u001b[0m\u001b[0;34m\u001b[0m\u001b[0m\n\u001b[1;32m   2828\u001b[0m       \u001b[0mgraph_function\u001b[0m\u001b[0;34m,\u001b[0m \u001b[0margs\u001b[0m\u001b[0;34m,\u001b[0m \u001b[0mkwargs\u001b[0m \u001b[0;34m=\u001b[0m \u001b[0mself\u001b[0m\u001b[0;34m.\u001b[0m\u001b[0m_maybe_define_function\u001b[0m\u001b[0;34m(\u001b[0m\u001b[0margs\u001b[0m\u001b[0;34m,\u001b[0m \u001b[0mkwargs\u001b[0m\u001b[0;34m)\u001b[0m\u001b[0;34m\u001b[0m\u001b[0;34m\u001b[0m\u001b[0m\n\u001b[0;32m-> 2829\u001b[0;31m     \u001b[0;32mreturn\u001b[0m \u001b[0mgraph_function\u001b[0m\u001b[0;34m.\u001b[0m\u001b[0m_filtered_call\u001b[0m\u001b[0;34m(\u001b[0m\u001b[0margs\u001b[0m\u001b[0;34m,\u001b[0m \u001b[0mkwargs\u001b[0m\u001b[0;34m)\u001b[0m  \u001b[0;31m# pylint: disable=protected-access\u001b[0m\u001b[0;34m\u001b[0m\u001b[0;34m\u001b[0m\u001b[0m\n\u001b[0m\u001b[1;32m   2830\u001b[0m \u001b[0;34m\u001b[0m\u001b[0m\n\u001b[1;32m   2831\u001b[0m   \u001b[0;34m@\u001b[0m\u001b[0mproperty\u001b[0m\u001b[0;34m\u001b[0m\u001b[0;34m\u001b[0m\u001b[0m\n",
      "\u001b[0;32m~/.pyenv/versions/3.7.2/lib/python3.7/site-packages/tensorflow/python/eager/function.py\u001b[0m in \u001b[0;36m_filtered_call\u001b[0;34m(self, args, kwargs, cancellation_manager)\u001b[0m\n\u001b[1;32m   1846\u001b[0m                            resource_variable_ops.BaseResourceVariable))],\n\u001b[1;32m   1847\u001b[0m         \u001b[0mcaptured_inputs\u001b[0m\u001b[0;34m=\u001b[0m\u001b[0mself\u001b[0m\u001b[0;34m.\u001b[0m\u001b[0mcaptured_inputs\u001b[0m\u001b[0;34m,\u001b[0m\u001b[0;34m\u001b[0m\u001b[0;34m\u001b[0m\u001b[0m\n\u001b[0;32m-> 1848\u001b[0;31m         cancellation_manager=cancellation_manager)\n\u001b[0m\u001b[1;32m   1849\u001b[0m \u001b[0;34m\u001b[0m\u001b[0m\n\u001b[1;32m   1850\u001b[0m   \u001b[0;32mdef\u001b[0m \u001b[0m_call_flat\u001b[0m\u001b[0;34m(\u001b[0m\u001b[0mself\u001b[0m\u001b[0;34m,\u001b[0m \u001b[0margs\u001b[0m\u001b[0;34m,\u001b[0m \u001b[0mcaptured_inputs\u001b[0m\u001b[0;34m,\u001b[0m \u001b[0mcancellation_manager\u001b[0m\u001b[0;34m=\u001b[0m\u001b[0;32mNone\u001b[0m\u001b[0;34m)\u001b[0m\u001b[0;34m:\u001b[0m\u001b[0;34m\u001b[0m\u001b[0;34m\u001b[0m\u001b[0m\n",
      "\u001b[0;32m~/.pyenv/versions/3.7.2/lib/python3.7/site-packages/tensorflow/python/eager/function.py\u001b[0m in \u001b[0;36m_call_flat\u001b[0;34m(self, args, captured_inputs, cancellation_manager)\u001b[0m\n\u001b[1;32m   1922\u001b[0m       \u001b[0;31m# No tape is watching; skip to running the function.\u001b[0m\u001b[0;34m\u001b[0m\u001b[0;34m\u001b[0m\u001b[0;34m\u001b[0m\u001b[0m\n\u001b[1;32m   1923\u001b[0m       return self._build_call_outputs(self._inference_function.call(\n\u001b[0;32m-> 1924\u001b[0;31m           ctx, args, cancellation_manager=cancellation_manager))\n\u001b[0m\u001b[1;32m   1925\u001b[0m     forward_backward = self._select_forward_and_backward_functions(\n\u001b[1;32m   1926\u001b[0m         \u001b[0margs\u001b[0m\u001b[0;34m,\u001b[0m\u001b[0;34m\u001b[0m\u001b[0;34m\u001b[0m\u001b[0m\n",
      "\u001b[0;32m~/.pyenv/versions/3.7.2/lib/python3.7/site-packages/tensorflow/python/eager/function.py\u001b[0m in \u001b[0;36mcall\u001b[0;34m(self, ctx, args, cancellation_manager)\u001b[0m\n\u001b[1;32m    548\u001b[0m               \u001b[0minputs\u001b[0m\u001b[0;34m=\u001b[0m\u001b[0margs\u001b[0m\u001b[0;34m,\u001b[0m\u001b[0;34m\u001b[0m\u001b[0;34m\u001b[0m\u001b[0m\n\u001b[1;32m    549\u001b[0m               \u001b[0mattrs\u001b[0m\u001b[0;34m=\u001b[0m\u001b[0mattrs\u001b[0m\u001b[0;34m,\u001b[0m\u001b[0;34m\u001b[0m\u001b[0;34m\u001b[0m\u001b[0m\n\u001b[0;32m--> 550\u001b[0;31m               ctx=ctx)\n\u001b[0m\u001b[1;32m    551\u001b[0m         \u001b[0;32melse\u001b[0m\u001b[0;34m:\u001b[0m\u001b[0;34m\u001b[0m\u001b[0;34m\u001b[0m\u001b[0m\n\u001b[1;32m    552\u001b[0m           outputs = execute.execute_with_cancellation(\n",
      "\u001b[0;32m~/.pyenv/versions/3.7.2/lib/python3.7/site-packages/tensorflow/python/eager/execute.py\u001b[0m in \u001b[0;36mquick_execute\u001b[0;34m(op_name, num_outputs, inputs, attrs, ctx, name)\u001b[0m\n\u001b[1;32m     58\u001b[0m     \u001b[0mctx\u001b[0m\u001b[0;34m.\u001b[0m\u001b[0mensure_initialized\u001b[0m\u001b[0;34m(\u001b[0m\u001b[0;34m)\u001b[0m\u001b[0;34m\u001b[0m\u001b[0;34m\u001b[0m\u001b[0m\n\u001b[1;32m     59\u001b[0m     tensors = pywrap_tfe.TFE_Py_Execute(ctx._handle, device_name, op_name,\n\u001b[0;32m---> 60\u001b[0;31m                                         inputs, attrs, num_outputs)\n\u001b[0m\u001b[1;32m     61\u001b[0m   \u001b[0;32mexcept\u001b[0m \u001b[0mcore\u001b[0m\u001b[0;34m.\u001b[0m\u001b[0m_NotOkStatusException\u001b[0m \u001b[0;32mas\u001b[0m \u001b[0me\u001b[0m\u001b[0;34m:\u001b[0m\u001b[0;34m\u001b[0m\u001b[0;34m\u001b[0m\u001b[0m\n\u001b[1;32m     62\u001b[0m     \u001b[0;32mif\u001b[0m \u001b[0mname\u001b[0m \u001b[0;32mis\u001b[0m \u001b[0;32mnot\u001b[0m \u001b[0;32mNone\u001b[0m\u001b[0;34m:\u001b[0m\u001b[0;34m\u001b[0m\u001b[0;34m\u001b[0m\u001b[0m\n",
      "\u001b[0;31mKeyboardInterrupt\u001b[0m: "
     ]
    }
   ],
   "source": [
    "history = model_4wave.fit(\n",
    "    X_train, Y_train,\n",
    "    epochs=300,\n",
    "    batch_size=100\n",
    ")"
   ]
  },
  {
   "cell_type": "code",
   "execution_count": 208,
   "metadata": {},
   "outputs": [
    {
     "name": "stdout",
     "output_type": "stream",
     "text": [
      "Model: \"sequential_31\"\n",
      "_________________________________________________________________\n",
      "Layer (type)                 Output Shape              Param #   \n",
      "=================================================================\n",
      "conv1d_8 (Conv1D)            (None, 991, 100)          1100      \n",
      "_________________________________________________________________\n",
      "conv1d_9 (Conv1D)            (None, 982, 100)          100100    \n",
      "_________________________________________________________________\n",
      "max_pooling1d_2 (MaxPooling1 (None, 327, 100)          0         \n",
      "_________________________________________________________________\n",
      "conv1d_10 (Conv1D)           (None, 318, 160)          160160    \n",
      "_________________________________________________________________\n",
      "conv1d_11 (Conv1D)           (None, 309, 160)          256160    \n",
      "_________________________________________________________________\n",
      "global_max_pooling1d_2 (Glob (None, 160)               0         \n",
      "_________________________________________________________________\n",
      "dropout_34 (Dropout)         (None, 160)               0         \n",
      "_________________________________________________________________\n",
      "dense_46 (Dense)             (None, 3)                 483       \n",
      "=================================================================\n",
      "Total params: 518,003\n",
      "Trainable params: 518,003\n",
      "Non-trainable params: 0\n",
      "_________________________________________________________________\n",
      "None\n"
     ]
    }
   ],
   "source": [
    "from tensorflow.keras.layers import Reshape,Dense,Dropout,Activation,Flatten\n",
    "from tensorflow.keras.layers import GlobalMaxPooling1D,Conv1D,MaxPooling1D\n",
    "model_m = Sequential()\n",
    "model_m.add(Conv1D(100, 10, activation='relu', input_shape=(1000,1)))\n",
    "model_m.add(Conv1D(100, 10, activation='relu'))\n",
    "model_m.add(MaxPooling1D(3))\n",
    "model_m.add(Conv1D(160, 10, activation='relu'))\n",
    "model_m.add(Conv1D(160, 10, activation='relu'))\n",
    "model_m.add(GlobalMaxPooling1D())\n",
    "model_m.add(Dropout(0.5))\n",
    "model_m.add(Dense(3, activation='softmax'))\n",
    "print(model_m.summary())"
   ]
  },
  {
   "cell_type": "code",
   "execution_count": 209,
   "metadata": {},
   "outputs": [],
   "source": [
    "model_m.compile(loss='categorical_crossentropy',\n",
    "                optimizer='adam', metrics=['accuracy'])"
   ]
  },
  {
   "cell_type": "code",
   "execution_count": 210,
   "metadata": {},
   "outputs": [
    {
     "name": "stdout",
     "output_type": "stream",
     "text": [
      "Epoch 1/300\n",
      "WARNING:tensorflow:Model was constructed with shape (None, 1000, 1) for input Tensor(\"conv1d_8_input:0\", shape=(None, 1000, 1), dtype=float32), but it was called on an input with incompatible shape (200, 100, 1).\n",
      "WARNING:tensorflow:Model was constructed with shape (None, 1000, 1) for input Tensor(\"conv1d_8_input:0\", shape=(None, 1000, 1), dtype=float32), but it was called on an input with incompatible shape (200, 100, 1).\n",
      "   1/2100 [..............................] - ETA: 0s - loss: 1.1194 - accuracy: 0.3300WARNING:tensorflow:Callbacks method `on_train_batch_end` is slow compared to the batch time (batch time: 0.0018s vs `on_train_batch_end` time: 0.0056s). Check your callbacks.\n",
      "2097/2100 [============================>.] - ETA: 0s - loss: 1.0989 - accuracy: 0.3330WARNING:tensorflow:Model was constructed with shape (None, 1000, 1) for input Tensor(\"conv1d_8_input:0\", shape=(None, 1000, 1), dtype=float32), but it was called on an input with incompatible shape (200, 100, 1).\n",
      "WARNING:tensorflow:Callbacks method `on_test_batch_end` is slow compared to the batch time (batch time: 0.0010s vs `on_test_batch_end` time: 0.0015s). Check your callbacks.\n",
      "2100/2100 [==============================] - 16s 8ms/step - loss: 1.0989 - accuracy: 0.3330 - val_loss: 1.0988 - val_accuracy: 0.3320\n",
      "Epoch 2/300\n",
      "2100/2100 [==============================] - 16s 8ms/step - loss: 1.0986 - accuracy: 0.3331 - val_loss: 1.0986 - val_accuracy: 0.3320\n",
      "Epoch 3/300\n",
      "2100/2100 [==============================] - 16s 8ms/step - loss: 1.0986 - accuracy: 0.3317 - val_loss: 1.0986 - val_accuracy: 0.3334\n",
      "Epoch 4/300\n",
      "2100/2100 [==============================] - 17s 8ms/step - loss: 1.0986 - accuracy: 0.3335 - val_loss: 1.0986 - val_accuracy: 0.3334\n",
      "Epoch 5/300\n",
      "2100/2100 [==============================] - 17s 8ms/step - loss: 1.0986 - accuracy: 0.3325 - val_loss: 1.0986 - val_accuracy: 0.3346\n",
      "Epoch 6/300\n",
      "2100/2100 [==============================] - 17s 8ms/step - loss: 1.0987 - accuracy: 0.3335 - val_loss: 1.0986 - val_accuracy: 0.3320\n",
      "Epoch 7/300\n",
      "2100/2100 [==============================] - 17s 8ms/step - loss: 1.0986 - accuracy: 0.3329 - val_loss: 1.0986 - val_accuracy: 0.3346\n",
      "Epoch 8/300\n",
      "2100/2100 [==============================] - 17s 8ms/step - loss: 1.0986 - accuracy: 0.3324 - val_loss: 1.0987 - val_accuracy: 0.3320\n"
     ]
    }
   ],
   "source": [
    "\n",
    "import tensorflow as tf\n",
    "from numpy.fft import *\n",
    "\n",
    "\n",
    "import tensorflow.keras\n",
    "from tensorflow.keras import layers\n",
    "from tensorflow.keras.models import Sequential\n",
    "from tensorflow.keras.layers import Dense\n",
    "# import tensorflow as tf\n",
    "\n",
    "\n",
    "EPOCHS = 300\n",
    "history = model_m.fit(X_train,\n",
    "                      Y_train,\n",
    "                      batch_size=200,\n",
    "                      epochs=EPOCHS,\n",
    "                     validation_data=(X_Validate, Y_Validate),\n",
    "                    callbacks = [tensorflow.keras.callbacks.EarlyStopping(monitor='val_loss', patience=5, verbose=0, mode='auto')])"
   ]
  },
  {
   "cell_type": "code",
   "execution_count": null,
   "metadata": {},
   "outputs": [],
   "source": []
  },
  {
   "cell_type": "code",
   "execution_count": 30,
   "metadata": {},
   "outputs": [
    {
     "name": "stdout",
     "output_type": "stream",
     "text": [
      "Model: \"functional_3\"\n",
      "__________________________________________________________________________________________________\n",
      "Layer (type)                    Output Shape         Param #     Connected to                     \n",
      "==================================================================================================\n",
      "input_3 (InputLayer)            [(None, 100, 1)]     0                                            \n",
      "__________________________________________________________________________________________________\n",
      "reshape_2 (Reshape)             (None, 1, 100, 1)    0           input_3[0][0]                    \n",
      "__________________________________________________________________________________________________\n",
      "ReStk0_conv1 (Conv2D)           (None, 32, 100, 1)   64          reshape_2[0][0]                  \n",
      "__________________________________________________________________________________________________\n",
      "ReStk0_conv2 (Conv2D)           (None, 32, 100, 1)   6176        ReStk0_conv1[0][0]               \n",
      "__________________________________________________________________________________________________\n",
      "ReStk0_conv3 (Conv2D)           (None, 32, 100, 1)   6176        ReStk0_conv2[0][0]               \n",
      "__________________________________________________________________________________________________\n",
      "add_12 (Add)                    (None, 32, 100, 1)   0           ReStk0_conv3[0][0]               \n",
      "                                                                 ReStk0_conv1[0][0]               \n",
      "__________________________________________________________________________________________________\n",
      "activation_13 (Activation)      (None, 32, 100, 1)   0           add_12[0][0]                     \n",
      "__________________________________________________________________________________________________\n",
      "ReStk0_conv4 (Conv2D)           (None, 32, 100, 1)   6176        activation_13[0][0]              \n",
      "__________________________________________________________________________________________________\n",
      "add_13 (Add)                    (None, 32, 100, 1)   0           ReStk0_conv4[0][0]               \n",
      "                                                                 activation_13[0][0]              \n",
      "__________________________________________________________________________________________________\n",
      "activation_14 (Activation)      (None, 32, 100, 1)   0           add_13[0][0]                     \n",
      "__________________________________________________________________________________________________\n",
      "max_pooling2d_6 (MaxPooling2D)  (None, 32, 50, 1)    0           activation_14[0][0]              \n",
      "__________________________________________________________________________________________________\n",
      "ReStk1_conv1 (Conv2D)           (None, 32, 50, 1)    1056        max_pooling2d_6[0][0]            \n",
      "__________________________________________________________________________________________________\n",
      "ReStk1_conv2 (Conv2D)           (None, 32, 50, 1)    3104        ReStk1_conv1[0][0]               \n",
      "__________________________________________________________________________________________________\n",
      "ReStk1_conv3 (Conv2D)           (None, 32, 50, 1)    3104        ReStk1_conv2[0][0]               \n",
      "__________________________________________________________________________________________________\n",
      "add_14 (Add)                    (None, 32, 50, 1)    0           ReStk1_conv3[0][0]               \n",
      "                                                                 ReStk1_conv1[0][0]               \n",
      "__________________________________________________________________________________________________\n",
      "activation_15 (Activation)      (None, 32, 50, 1)    0           add_14[0][0]                     \n",
      "__________________________________________________________________________________________________\n",
      "ReStk1_conv4 (Conv2D)           (None, 32, 50, 1)    3104        activation_15[0][0]              \n",
      "__________________________________________________________________________________________________\n",
      "add_15 (Add)                    (None, 32, 50, 1)    0           ReStk1_conv4[0][0]               \n",
      "                                                                 activation_15[0][0]              \n",
      "__________________________________________________________________________________________________\n",
      "activation_16 (Activation)      (None, 32, 50, 1)    0           add_15[0][0]                     \n",
      "__________________________________________________________________________________________________\n",
      "max_pooling2d_7 (MaxPooling2D)  (None, 32, 25, 1)    0           activation_16[0][0]              \n",
      "__________________________________________________________________________________________________\n",
      "ReStk2_conv1 (Conv2D)           (None, 32, 25, 1)    1056        max_pooling2d_7[0][0]            \n",
      "__________________________________________________________________________________________________\n",
      "ReStk2_conv2 (Conv2D)           (None, 32, 25, 1)    3104        ReStk2_conv1[0][0]               \n",
      "__________________________________________________________________________________________________\n",
      "ReStk2_conv3 (Conv2D)           (None, 32, 25, 1)    3104        ReStk2_conv2[0][0]               \n",
      "__________________________________________________________________________________________________\n",
      "add_16 (Add)                    (None, 32, 25, 1)    0           ReStk2_conv3[0][0]               \n",
      "                                                                 ReStk2_conv1[0][0]               \n",
      "__________________________________________________________________________________________________\n",
      "activation_17 (Activation)      (None, 32, 25, 1)    0           add_16[0][0]                     \n",
      "__________________________________________________________________________________________________\n",
      "ReStk2_conv4 (Conv2D)           (None, 32, 25, 1)    3104        activation_17[0][0]              \n",
      "__________________________________________________________________________________________________\n",
      "add_17 (Add)                    (None, 32, 25, 1)    0           ReStk2_conv4[0][0]               \n",
      "                                                                 activation_17[0][0]              \n",
      "__________________________________________________________________________________________________\n",
      "activation_18 (Activation)      (None, 32, 25, 1)    0           add_17[0][0]                     \n",
      "__________________________________________________________________________________________________\n",
      "max_pooling2d_8 (MaxPooling2D)  (None, 32, 12, 1)    0           activation_18[0][0]              \n",
      "__________________________________________________________________________________________________\n",
      "ReStk3_conv1 (Conv2D)           (None, 32, 12, 1)    1056        max_pooling2d_8[0][0]            \n",
      "__________________________________________________________________________________________________\n",
      "ReStk3_conv2 (Conv2D)           (None, 32, 12, 1)    3104        ReStk3_conv1[0][0]               \n",
      "__________________________________________________________________________________________________\n",
      "ReStk3_conv3 (Conv2D)           (None, 32, 12, 1)    3104        ReStk3_conv2[0][0]               \n",
      "__________________________________________________________________________________________________\n",
      "add_18 (Add)                    (None, 32, 12, 1)    0           ReStk3_conv3[0][0]               \n",
      "                                                                 ReStk3_conv1[0][0]               \n",
      "__________________________________________________________________________________________________\n",
      "activation_19 (Activation)      (None, 32, 12, 1)    0           add_18[0][0]                     \n",
      "__________________________________________________________________________________________________\n",
      "ReStk3_conv4 (Conv2D)           (None, 32, 12, 1)    3104        activation_19[0][0]              \n",
      "__________________________________________________________________________________________________\n",
      "add_19 (Add)                    (None, 32, 12, 1)    0           ReStk3_conv4[0][0]               \n",
      "                                                                 activation_19[0][0]              \n",
      "__________________________________________________________________________________________________\n",
      "activation_20 (Activation)      (None, 32, 12, 1)    0           add_19[0][0]                     \n",
      "__________________________________________________________________________________________________\n",
      "max_pooling2d_9 (MaxPooling2D)  (None, 32, 6, 1)     0           activation_20[0][0]              \n",
      "__________________________________________________________________________________________________\n",
      "ReStk4_conv1 (Conv2D)           (None, 32, 6, 1)     1056        max_pooling2d_9[0][0]            \n",
      "__________________________________________________________________________________________________\n",
      "ReStk4_conv2 (Conv2D)           (None, 32, 6, 1)     3104        ReStk4_conv1[0][0]               \n",
      "__________________________________________________________________________________________________\n",
      "ReStk4_conv3 (Conv2D)           (None, 32, 6, 1)     3104        ReStk4_conv2[0][0]               \n",
      "__________________________________________________________________________________________________\n",
      "add_20 (Add)                    (None, 32, 6, 1)     0           ReStk4_conv3[0][0]               \n",
      "                                                                 ReStk4_conv1[0][0]               \n",
      "__________________________________________________________________________________________________\n",
      "activation_21 (Activation)      (None, 32, 6, 1)     0           add_20[0][0]                     \n",
      "__________________________________________________________________________________________________\n",
      "ReStk4_conv4 (Conv2D)           (None, 32, 6, 1)     3104        activation_21[0][0]              \n",
      "__________________________________________________________________________________________________\n",
      "add_21 (Add)                    (None, 32, 6, 1)     0           ReStk4_conv4[0][0]               \n",
      "                                                                 activation_21[0][0]              \n",
      "__________________________________________________________________________________________________\n",
      "activation_22 (Activation)      (None, 32, 6, 1)     0           add_21[0][0]                     \n",
      "__________________________________________________________________________________________________\n",
      "max_pooling2d_10 (MaxPooling2D) (None, 32, 3, 1)     0           activation_22[0][0]              \n",
      "__________________________________________________________________________________________________\n",
      "ReStk5_conv1 (Conv2D)           (None, 32, 3, 1)     1056        max_pooling2d_10[0][0]           \n",
      "__________________________________________________________________________________________________\n",
      "ReStk5_conv2 (Conv2D)           (None, 32, 3, 1)     3104        ReStk5_conv1[0][0]               \n",
      "__________________________________________________________________________________________________\n",
      "ReStk5_conv3 (Conv2D)           (None, 32, 3, 1)     3104        ReStk5_conv2[0][0]               \n",
      "__________________________________________________________________________________________________\n",
      "add_22 (Add)                    (None, 32, 3, 1)     0           ReStk5_conv3[0][0]               \n",
      "                                                                 ReStk5_conv1[0][0]               \n",
      "__________________________________________________________________________________________________\n",
      "activation_23 (Activation)      (None, 32, 3, 1)     0           add_22[0][0]                     \n",
      "__________________________________________________________________________________________________\n",
      "ReStk5_conv4 (Conv2D)           (None, 32, 3, 1)     3104        activation_23[0][0]              \n",
      "__________________________________________________________________________________________________\n",
      "add_23 (Add)                    (None, 32, 3, 1)     0           ReStk5_conv4[0][0]               \n",
      "                                                                 activation_23[0][0]              \n",
      "__________________________________________________________________________________________________\n",
      "activation_24 (Activation)      (None, 32, 3, 1)     0           add_23[0][0]                     \n",
      "__________________________________________________________________________________________________\n",
      "max_pooling2d_11 (MaxPooling2D) (None, 32, 1, 1)     0           activation_24[0][0]              \n",
      "__________________________________________________________________________________________________\n",
      "flatten_1 (Flatten)             (None, 32)           0           max_pooling2d_11[0][0]           \n",
      "__________________________________________________________________________________________________\n",
      "dense1 (Dense)                  (None, 128)          4224        flatten_1[0][0]                  \n",
      "__________________________________________________________________________________________________\n",
      "alpha_dropout_1 (AlphaDropout)  (None, 128)          0           dense1[0][0]                     \n",
      "__________________________________________________________________________________________________\n",
      "dense2 (Dense)                  (None, 3)            387         alpha_dropout_1[0][0]            \n",
      "__________________________________________________________________________________________________\n",
      "activation_25 (Activation)      (None, 3)            0           dense2[0][0]                     \n",
      "==================================================================================================\n",
      "Total params: 75,043\n",
      "Trainable params: 75,043\n",
      "Non-trainable params: 0\n",
      "__________________________________________________________________________________________________\n"
     ]
    }
   ],
   "source": [
    "from keras.layers import Input,Reshape,ZeroPadding2D,Conv2D,Dropout,Flatten,Dense,Activation,MaxPooling2D,AlphaDropout\n",
    "import numpy as np\n",
    "import os,random\n",
    "from keras.layers import Input,Reshape,ZeroPadding2D,Conv2D,Dropout,Flatten,Dense,Activation,MaxPooling2D,AlphaDropout\n",
    "from keras import layers\n",
    "import keras.models as Model\n",
    "from keras.regularizers import *\n",
    "import seaborn as sns\n",
    "import keras\n",
    "import tensorflow as tf\n",
    "import matplotlib.pyplot as plt\n",
    "import gc\n",
    "%matplotlib inline\n",
    "os.environ[\"KERAS_BACKEND\"] = \"tensorflow\"\n",
    "data_format = 'channels_first'\n",
    "\n",
    "classes=[1,2,3]\n",
    "\n",
    "mods=['Mode1','Mode2','Mode3']\n",
    "\n",
    "def residual_stack(Xm,kennel_size,Seq,pool_size):\n",
    "    #1*1 Conv Linear\n",
    "    Xm = Conv2D(32, (1, 1), padding='same', name=Seq+\"_conv1\", kernel_initializer='glorot_normal',data_format=data_format)(Xm)\n",
    "    #Residual Unit 1\n",
    "    Xm_shortcut = Xm\n",
    "    Xm = Conv2D(32, kennel_size, padding='same',activation=\"relu\",name=Seq+\"_conv2\", kernel_initializer='glorot_normal',data_format=data_format)(Xm)\n",
    "    Xm = Conv2D(32, kennel_size, padding='same', name=Seq+\"_conv3\", kernel_initializer='glorot_normal',data_format=data_format)(Xm)\n",
    "    Xm = layers.add([Xm,Xm_shortcut])\n",
    "    Xm = Activation(\"relu\")(Xm)\n",
    "    #Residual Unit 2\n",
    "    Xm_shortcut = Xm\n",
    "    Xm = Conv2D(32, kennel_size, padding='same',activation=\"relu\",name=Seq+\"_conv4\", kernel_initializer='glorot_normal',data_format=data_format)(Xm)\n",
    "    X = Conv2D(32, kennel_size, padding='same', name=Seq+\"_conv5\", kernel_initializer='glorot_normal',data_format=data_format)(Xm)\n",
    "    Xm = layers.add([Xm,Xm_shortcut])\n",
    "    Xm = Activation(\"relu\")(Xm)\n",
    "    #MaxPooling\n",
    "    Xm = MaxPooling2D(pool_size=pool_size, strides=pool_size, padding='valid', data_format=data_format)(Xm)\n",
    "    return Xm\n",
    "\n",
    "\n",
    "in_shp = X_train.shape[1:] \n",
    "\n",
    "\n",
    "#input layer\n",
    "\n",
    "Xm_input = Input(in_shp)\n",
    "Xm = Reshape([1,100,1], input_shape=in_shp)(Xm_input)\n",
    "\n",
    "#Residual Srack\n",
    "Xm = residual_stack(Xm,kennel_size=(3,2),Seq=\"ReStk0\",pool_size=(2,1)) \n",
    "Xm = residual_stack(Xm,kennel_size=(3,1),Seq=\"ReStk1\",pool_size=(2,1))\n",
    "Xm = residual_stack(Xm,kennel_size=(3,1),Seq=\"ReStk2\",pool_size=(2,1))  \n",
    "Xm = residual_stack(Xm,kennel_size=(3,1),Seq=\"ReStk3\",pool_size=(2,1)) \n",
    "Xm = residual_stack(Xm,kennel_size=(3,1),Seq=\"ReStk4\",pool_size=(2,1)) \n",
    "Xm = residual_stack(Xm,kennel_size=(3,1),Seq=\"ReStk5\",pool_size=(2,1))   \n",
    "\n",
    "\n",
    "#Full Con 1\n",
    "Xm = Flatten(data_format=data_format)(Xm)\n",
    "Xm = Dense(128, activation='selu', kernel_initializer='glorot_normal', name=\"dense1\")(Xm)\n",
    "Xm = AlphaDropout(0.3)(Xm)\n",
    "#Full Con 2\n",
    "Xm = Dense(len(classes), kernel_initializer='glorot_normal', name=\"dense2\")(Xm)\n",
    "#SoftMax\n",
    "Xm = Activation('softmax')(Xm)\n",
    "#Create Model\n",
    "model = Model.Model(inputs=Xm_input,outputs=Xm)\n",
    "adam = keras.optimizers.Adam(lr=0.001, beta_1=0.9, beta_2=0.999, epsilon=None, decay=0.0, amsgrad=False)\n",
    "model.compile(loss='categorical_crossentropy', optimizer=adam, metrics='accuracy')\n",
    "model.summary()\n"
   ]
  },
  {
   "cell_type": "code",
   "execution_count": 32,
   "metadata": {},
   "outputs": [
    {
     "name": "stdout",
     "output_type": "stream",
     "text": [
      "Epoch 1/100\n",
      "4200/4200 [==============================] - 28s 7ms/step - loss: 1.1028 - accuracy: 0.3332\n",
      "Epoch 2/100\n",
      "4200/4200 [==============================] - 27s 6ms/step - loss: 1.1026 - accuracy: 0.3341\n",
      "Epoch 3/100\n",
      "4200/4200 [==============================] - 27s 6ms/step - loss: 1.1026 - accuracy: 0.3327\n",
      "Epoch 4/100\n",
      "4200/4200 [==============================] - 27s 6ms/step - loss: 1.1027 - accuracy: 0.3324\n",
      "Epoch 5/100\n",
      "4200/4200 [==============================] - 27s 6ms/step - loss: 1.1027 - accuracy: 0.3331\n",
      "Epoch 6/100\n",
      "4200/4200 [==============================] - 27s 6ms/step - loss: 1.1027 - accuracy: 0.3329\n",
      "Epoch 7/100\n",
      "4200/4200 [==============================] - 27s 6ms/step - loss: 1.1023 - accuracy: 0.3347\n",
      "Epoch 8/100\n",
      "4200/4200 [==============================] - 27s 6ms/step - loss: 1.1023 - accuracy: 0.3335\n",
      "Epoch 9/100\n",
      "4200/4200 [==============================] - 27s 6ms/step - loss: 1.1024 - accuracy: 0.3334\n",
      "Epoch 10/100\n",
      "4200/4200 [==============================] - 27s 6ms/step - loss: 1.1025 - accuracy: 0.3339\n",
      "Epoch 11/100\n",
      "4200/4200 [==============================] - 27s 6ms/step - loss: 1.1025 - accuracy: 0.3337\n",
      "Epoch 12/100\n",
      "4200/4200 [==============================] - 27s 7ms/step - loss: 1.1026 - accuracy: 0.3324\n",
      "Epoch 13/100\n",
      "4200/4200 [==============================] - 27s 6ms/step - loss: 1.1024 - accuracy: 0.3328\n",
      "Epoch 14/100\n",
      "4200/4200 [==============================] - 28s 7ms/step - loss: 1.1023 - accuracy: 0.3332\n",
      "Epoch 15/100\n",
      "4200/4200 [==============================] - 27s 6ms/step - loss: 1.1024 - accuracy: 0.3326\n",
      "Epoch 16/100\n",
      "4200/4200 [==============================] - 28s 7ms/step - loss: 1.1025 - accuracy: 0.3325\n",
      "Epoch 17/100\n",
      "4200/4200 [==============================] - 27s 6ms/step - loss: 1.1024 - accuracy: 0.3328\n",
      "Epoch 18/100\n",
      "4200/4200 [==============================] - 27s 6ms/step - loss: 1.1022 - accuracy: 0.3336\n",
      "Epoch 19/100\n",
      "4200/4200 [==============================] - 27s 6ms/step - loss: 1.1024 - accuracy: 0.3330\n",
      "Epoch 20/100\n",
      "4200/4200 [==============================] - 27s 7ms/step - loss: 1.1022 - accuracy: 0.3327\n",
      "Epoch 21/100\n",
      "4200/4200 [==============================] - 28s 7ms/step - loss: 1.1025 - accuracy: 0.3320\n",
      "Epoch 22/100\n",
      "2584/4200 [=================>............] - ETA: 10s - loss: 1.1023 - accuracy: 0.3333"
     ]
    },
    {
     "ename": "KeyboardInterrupt",
     "evalue": "",
     "output_type": "error",
     "traceback": [
      "\u001b[0;31m---------------------------------------------------------------------------\u001b[0m",
      "\u001b[0;31mKeyboardInterrupt\u001b[0m                         Traceback (most recent call last)",
      "\u001b[0;32m<ipython-input-32-e887edb0a192>\u001b[0m in \u001b[0;36m<module>\u001b[0;34m\u001b[0m\n\u001b[1;32m      2\u001b[0m     \u001b[0mY_train\u001b[0m\u001b[0;34m,\u001b[0m\u001b[0;34m\u001b[0m\u001b[0;34m\u001b[0m\u001b[0m\n\u001b[1;32m      3\u001b[0m     \u001b[0mbatch_size\u001b[0m\u001b[0;34m=\u001b[0m\u001b[0;36m100\u001b[0m\u001b[0;34m,\u001b[0m\u001b[0;34m\u001b[0m\u001b[0;34m\u001b[0m\u001b[0m\n\u001b[0;32m----> 4\u001b[0;31m     epochs=100)\n\u001b[0m",
      "\u001b[0;32m~/.pyenv/versions/3.7.2/lib/python3.7/site-packages/tensorflow/python/keras/engine/training.py\u001b[0m in \u001b[0;36m_method_wrapper\u001b[0;34m(self, *args, **kwargs)\u001b[0m\n\u001b[1;32m    106\u001b[0m   \u001b[0;32mdef\u001b[0m \u001b[0m_method_wrapper\u001b[0m\u001b[0;34m(\u001b[0m\u001b[0mself\u001b[0m\u001b[0;34m,\u001b[0m \u001b[0;34m*\u001b[0m\u001b[0margs\u001b[0m\u001b[0;34m,\u001b[0m \u001b[0;34m**\u001b[0m\u001b[0mkwargs\u001b[0m\u001b[0;34m)\u001b[0m\u001b[0;34m:\u001b[0m\u001b[0;34m\u001b[0m\u001b[0;34m\u001b[0m\u001b[0m\n\u001b[1;32m    107\u001b[0m     \u001b[0;32mif\u001b[0m \u001b[0;32mnot\u001b[0m \u001b[0mself\u001b[0m\u001b[0;34m.\u001b[0m\u001b[0m_in_multi_worker_mode\u001b[0m\u001b[0;34m(\u001b[0m\u001b[0;34m)\u001b[0m\u001b[0;34m:\u001b[0m  \u001b[0;31m# pylint: disable=protected-access\u001b[0m\u001b[0;34m\u001b[0m\u001b[0;34m\u001b[0m\u001b[0m\n\u001b[0;32m--> 108\u001b[0;31m       \u001b[0;32mreturn\u001b[0m \u001b[0mmethod\u001b[0m\u001b[0;34m(\u001b[0m\u001b[0mself\u001b[0m\u001b[0;34m,\u001b[0m \u001b[0;34m*\u001b[0m\u001b[0margs\u001b[0m\u001b[0;34m,\u001b[0m \u001b[0;34m**\u001b[0m\u001b[0mkwargs\u001b[0m\u001b[0;34m)\u001b[0m\u001b[0;34m\u001b[0m\u001b[0;34m\u001b[0m\u001b[0m\n\u001b[0m\u001b[1;32m    109\u001b[0m \u001b[0;34m\u001b[0m\u001b[0m\n\u001b[1;32m    110\u001b[0m     \u001b[0;31m# Running inside `run_distribute_coordinator` already.\u001b[0m\u001b[0;34m\u001b[0m\u001b[0;34m\u001b[0m\u001b[0;34m\u001b[0m\u001b[0m\n",
      "\u001b[0;32m~/.pyenv/versions/3.7.2/lib/python3.7/site-packages/tensorflow/python/keras/engine/training.py\u001b[0m in \u001b[0;36mfit\u001b[0;34m(self, x, y, batch_size, epochs, verbose, callbacks, validation_split, validation_data, shuffle, class_weight, sample_weight, initial_epoch, steps_per_epoch, validation_steps, validation_batch_size, validation_freq, max_queue_size, workers, use_multiprocessing)\u001b[0m\n\u001b[1;32m   1100\u001b[0m                 \u001b[0mcontext\u001b[0m\u001b[0;34m.\u001b[0m\u001b[0masync_wait\u001b[0m\u001b[0;34m(\u001b[0m\u001b[0;34m)\u001b[0m\u001b[0;34m\u001b[0m\u001b[0;34m\u001b[0m\u001b[0m\n\u001b[1;32m   1101\u001b[0m               \u001b[0mlogs\u001b[0m \u001b[0;34m=\u001b[0m \u001b[0mtmp_logs\u001b[0m  \u001b[0;31m# No error, now safe to assign to logs.\u001b[0m\u001b[0;34m\u001b[0m\u001b[0;34m\u001b[0m\u001b[0m\n\u001b[0;32m-> 1102\u001b[0;31m               \u001b[0mend_step\u001b[0m \u001b[0;34m=\u001b[0m \u001b[0mstep\u001b[0m \u001b[0;34m+\u001b[0m \u001b[0mdata_handler\u001b[0m\u001b[0;34m.\u001b[0m\u001b[0mstep_increment\u001b[0m\u001b[0;34m\u001b[0m\u001b[0;34m\u001b[0m\u001b[0m\n\u001b[0m\u001b[1;32m   1103\u001b[0m               \u001b[0mcallbacks\u001b[0m\u001b[0;34m.\u001b[0m\u001b[0mon_train_batch_end\u001b[0m\u001b[0;34m(\u001b[0m\u001b[0mend_step\u001b[0m\u001b[0;34m,\u001b[0m \u001b[0mlogs\u001b[0m\u001b[0;34m)\u001b[0m\u001b[0;34m\u001b[0m\u001b[0;34m\u001b[0m\u001b[0m\n\u001b[1;32m   1104\u001b[0m         \u001b[0mepoch_logs\u001b[0m \u001b[0;34m=\u001b[0m \u001b[0mcopy\u001b[0m\u001b[0;34m.\u001b[0m\u001b[0mcopy\u001b[0m\u001b[0;34m(\u001b[0m\u001b[0mlogs\u001b[0m\u001b[0;34m)\u001b[0m\u001b[0;34m\u001b[0m\u001b[0;34m\u001b[0m\u001b[0m\n",
      "\u001b[0;32m~/.pyenv/versions/3.7.2/lib/python3.7/site-packages/tensorflow/python/keras/engine/data_adapter.py\u001b[0m in \u001b[0;36mstep_increment\u001b[0;34m(self)\u001b[0m\n\u001b[1;32m   1210\u001b[0m         \u001b[0mself\u001b[0m\u001b[0;34m.\u001b[0m\u001b[0m_steps_per_execution\u001b[0m\u001b[0;34m.\u001b[0m\u001b[0massign\u001b[0m\u001b[0;34m(\u001b[0m\u001b[0mself\u001b[0m\u001b[0;34m.\u001b[0m\u001b[0m_steps_per_execution_value\u001b[0m\u001b[0;34m)\u001b[0m\u001b[0;34m\u001b[0m\u001b[0;34m\u001b[0m\u001b[0m\n\u001b[1;32m   1211\u001b[0m \u001b[0;34m\u001b[0m\u001b[0m\n\u001b[0;32m-> 1212\u001b[0;31m   \u001b[0;34m@\u001b[0m\u001b[0mproperty\u001b[0m\u001b[0;34m\u001b[0m\u001b[0;34m\u001b[0m\u001b[0m\n\u001b[0m\u001b[1;32m   1213\u001b[0m   \u001b[0;32mdef\u001b[0m \u001b[0mstep_increment\u001b[0m\u001b[0;34m(\u001b[0m\u001b[0mself\u001b[0m\u001b[0;34m)\u001b[0m\u001b[0;34m:\u001b[0m\u001b[0;34m\u001b[0m\u001b[0;34m\u001b[0m\u001b[0m\n\u001b[1;32m   1214\u001b[0m     \u001b[0;34m\"\"\"The number to increment the step for `on_batch_end` methods.\"\"\"\u001b[0m\u001b[0;34m\u001b[0m\u001b[0;34m\u001b[0m\u001b[0m\n",
      "\u001b[0;31mKeyboardInterrupt\u001b[0m: "
     ]
    }
   ],
   "source": [
    "history = model.fit(X_train,\n",
    "    Y_train,\n",
    "    batch_size=100,\n",
    "    epochs=100)"
   ]
  },
  {
   "cell_type": "code",
   "execution_count": null,
   "metadata": {},
   "outputs": [],
   "source": [
    "dr = 0.5 # dropout rate (%)\n",
    "model = models.Sequential()\n",
    "model.add(Reshape([1]+in_shp, input_shape=in_shp))\n",
    "model.add(ZeroPadding2D((0, 2)))\n",
    "model.add(Convolution2D(256, 1, 3, border_mode='valid', activation=\"relu\", name=\"conv1\", init='glorot_uniform'))\n",
    "model.add(Dropout(dr))\n",
    "model.add(ZeroPadding2D((0, 2)))\n",
    "model.add(Convolution2D(80, 2, 3, border_mode=\"valid\", activation=\"relu\", name=\"conv2\", init='glorot_uniform'))\n",
    "model.add(Dropout(dr))\n",
    "model.add(Flatten())\n",
    "model.add(Dense(256, activation='relu', init='he_normal', name=\"dense1\"))\n",
    "model.add(Dropout(dr))\n",
    "model.add(Dense( len(classes), init='he_normal', name=\"dense2\" ))\n",
    "model.add(Activation('softmax'))\n",
    "model.add(Reshape([len(classes)]))\n",
    "model.compile(loss='categorical_crossentropy', optimizer='adam')\n",
    "model.summary()"
   ]
  },
  {
   "cell_type": "code",
   "execution_count": null,
   "metadata": {},
   "outputs": [],
   "source": [
    "history = model.fit(X_train,\n",
    "    Y_train,\n",
    "    batch_size=batch_size,\n",
    "    nb_epoch=nb_epoch,\n",
    "    show_accuracy=False,\n",
    "    verbose=2,\n",
    "    validation_data=(X_test, Y_test),\n",
    "    callbacks = [\n",
    "        \n",
    "        keras.callbacks.ModelCheckpoint(filepath, monitor='val_loss', verbose=0, save_best_only=True, mode='auto'),\n",
    "        keras.callbacks.EarlyStopping(monitor='val_loss', patience=5, verbose=0, mode='auto')\n",
    "    ])\n",
    "# we re-load the best weights once training is finished\n",
    "model.load_weights(filepath)"
   ]
  },
  {
   "cell_type": "code",
   "execution_count": null,
   "metadata": {},
   "outputs": [],
   "source": []
  },
  {
   "cell_type": "code",
   "execution_count": null,
   "metadata": {},
   "outputs": [],
   "source": []
  }
 ],
 "metadata": {
  "kernelspec": {
   "display_name": "Python 3",
   "language": "python",
   "name": "python3"
  },
  "language_info": {
   "codemirror_mode": {
    "name": "ipython",
    "version": 3
   },
   "file_extension": ".py",
   "mimetype": "text/x-python",
   "name": "python",
   "nbconvert_exporter": "python",
   "pygments_lexer": "ipython3",
   "version": "3.7.2"
  }
 },
 "nbformat": 4,
 "nbformat_minor": 4
}

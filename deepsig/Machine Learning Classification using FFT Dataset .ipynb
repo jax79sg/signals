{
 "cells": [
  {
   "cell_type": "code",
   "execution_count": 62,
   "metadata": {},
   "outputs": [
    {
     "name": "stdout",
     "output_type": "stream",
     "text": [
      "Mon Nov  2 15:14:12 2020       \r\n",
      "+-----------------------------------------------------------------------------+\r\n",
      "| NVIDIA-SMI 440.100      Driver Version: 440.100      CUDA Version: 10.2     |\r\n",
      "|-------------------------------+----------------------+----------------------+\r\n",
      "| GPU  Name        Persistence-M| Bus-Id        Disp.A | Volatile Uncorr. ECC |\r\n",
      "| Fan  Temp  Perf  Pwr:Usage/Cap|         Memory-Usage | GPU-Util  Compute M. |\r\n",
      "|===============================+======================+======================|\r\n",
      "|   0  GeForce RTX 207...  Off  | 00000000:01:00.0 Off |                  N/A |\r\n",
      "| N/A   45C    P8     6W /  N/A |   7600MiB /  7982MiB |      0%      Default |\r\n",
      "+-------------------------------+----------------------+----------------------+\r\n",
      "                                                                               \r\n",
      "+-----------------------------------------------------------------------------+\r\n",
      "| Processes:                                                       GPU Memory |\r\n",
      "|  GPU       PID   Type   Process name                             Usage      |\r\n",
      "|=============================================================================|\r\n",
      "|    0      1662      G   /usr/lib/xorg/Xorg                           152MiB |\r\n",
      "|    0      2649      G   /usr/bin/gnome-shell                          98MiB |\r\n",
      "|    0      3257      G   /opt/teamviewer/tv_bin/TeamViewer              2MiB |\r\n",
      "|    0      6113      G   ...AAAAAAAAAAAACAAAAAAAAAA= --shared-files    61MiB |\r\n",
      "|    0     19495      C   ...e/jax/.pyenv/versions/3.7.2/bin/python3  7271MiB |\r\n",
      "+-----------------------------------------------------------------------------+\r\n"
     ]
    }
   ],
   "source": [
    "!nvidia-smi"
   ]
  },
  {
   "cell_type": "code",
   "execution_count": 1,
   "metadata": {},
   "outputs": [],
   "source": [
    "%matplotlib inline\n",
    "import os,random\n",
    "import numpy as np\n",
    "import matplotlib.pyplot as plt\n",
    "import seaborn as sns\n",
    "import pickle as cPickle, random, sys, keras\n",
    "import scipy\n",
    "from sklearn import preprocessing\n",
    "import tensorflow as tf\n",
    "from numpy.fft import *\n",
    "\n",
    "\n",
    "from tensorflow import keras\n",
    "from tensorflow.keras import layers\n",
    "from keras.models import Sequential\n",
    "from keras.layers import Dense\n",
    "import tensorflow as tf\n",
    "\n",
    "Xd = cPickle.load(open(\"RML2016.10b.dat\",'rb'), encoding='latin1')"
   ]
  },
  {
   "cell_type": "markdown",
   "metadata": {},
   "source": [
    "# Dataset of only HIGH SNRs [SNR-18]"
   ]
  },
  {
   "cell_type": "code",
   "execution_count": 2,
   "metadata": {},
   "outputs": [],
   "source": [
    "INTENSITY_AXIS=0\n",
    "QUADRATURE_AXIS=1\n",
    "\n",
    "snrs,mods = map(lambda j: sorted(list(set(map(lambda x: x[j], Xd.keys())))), [1,0])\n"
   ]
  },
  {
   "cell_type": "code",
   "execution_count": 3,
   "metadata": {},
   "outputs": [],
   "source": [
    "X_Intensity = []  \n",
    "X_Quadrature = []\n",
    "Label_strings = []\n",
    "for mod in mods:\n",
    "    X_Intensity.append(Xd[(mod,18)][:,INTENSITY_AXIS,:])\n",
    "    X_Quadrature.append(Xd[(mod,18)][:,QUADRATURE_AXIS,:])\n",
    "    for label in range(len(Xd[(mod,18)][:,INTENSITY_AXIS,:])):\n",
    "        Label_strings.append(mod)\n",
    "X_Intensity = np.vstack(X_Intensity) # Quick way to create stacked dataset\n",
    "#X_Intensity = preprocessing.StandardScaler().fit_transform(X_Intensity)\n",
    "\n",
    "\n",
    "X_Quadrature = np.vstack(X_Quadrature)\n",
    "#X_Quadrature = preprocessing.StandardScaler().fit_transform(X_Quadrature)\n",
    "\n",
    "Label_strings=np.vstack(Label_strings)\n",
    "\n",
    "\n",
    "complex_num = X_Intensity + 1j*X_Quadrature\n"
   ]
  },
  {
   "cell_type": "code",
   "execution_count": 5,
   "metadata": {},
   "outputs": [
    {
     "data": {
      "text/plain": [
       "(60000, 128)"
      ]
     },
     "execution_count": 5,
     "metadata": {},
     "output_type": "execute_result"
    }
   ],
   "source": [
    "X_Intensity.shape"
   ]
  },
  {
   "cell_type": "code",
   "execution_count": 4,
   "metadata": {},
   "outputs": [],
   "source": [
    "X_Intensity_Manually = [Xd[('8PSK',18)][:,0,:],Xd[('AM-DSB',18)][:,0,:],Xd[('BPSK',18)][:,0,:],Xd[('CPFSK',18)][:,0,:]\n",
    "    ,Xd[('GFSK',18)][:,0,:],Xd[('PAM4',18)][:,0,:],Xd[('QAM16',18)][:,0,:],Xd[('QAM64',18)][:,0,:]\n",
    "    ,Xd[('QPSK',18)][:,0,:],Xd[('WBFM',18)][:,0,:]]\n",
    "X_Intensity_Manually = np.vstack(X_Intensity_Manually) # Manually Creaete "
   ]
  },
  {
   "cell_type": "code",
   "execution_count": 5,
   "metadata": {},
   "outputs": [
    {
     "data": {
      "text/plain": [
       "['8PSK',\n",
       " 'AM-DSB',\n",
       " 'BPSK',\n",
       " 'CPFSK',\n",
       " 'GFSK',\n",
       " 'PAM4',\n",
       " 'QAM16',\n",
       " 'QAM64',\n",
       " 'QPSK',\n",
       " 'WBFM']"
      ]
     },
     "execution_count": 5,
     "metadata": {},
     "output_type": "execute_result"
    }
   ],
   "source": [
    "list(mods)"
   ]
  },
  {
   "cell_type": "code",
   "execution_count": 6,
   "metadata": {},
   "outputs": [],
   "source": [
    "X_Intensity_FFT = abs(np.fft.fftshift(fft(X_Intensity[:]-np.mean(X_Intensity[:]))))\n",
    "X_Qudrature_FFT = abs(np.fft.fftshift(fft(X_Quadrature[:]-np.mean(X_Quadrature[:]))))"
   ]
  },
  {
   "cell_type": "code",
   "execution_count": null,
   "metadata": {},
   "outputs": [],
   "source": []
  },
  {
   "cell_type": "code",
   "execution_count": 7,
   "metadata": {},
   "outputs": [
    {
     "name": "stderr",
     "output_type": "stream",
     "text": [
      "/home/jax/.pyenv/versions/3.7.2/lib/python3.7/site-packages/sklearn/utils/validation.py:73: DataConversionWarning: A column-vector y was passed when a 1d array was expected. Please change the shape of y to (n_samples, ), for example using ravel().\n",
      "  return f(**kwargs)\n"
     ]
    }
   ],
   "source": [
    "le= preprocessing.LabelEncoder()\n",
    "le.fit(Label_strings)\n",
    "Label_Y_numbers = le.transform(Label_strings)\n",
    "\n",
    "depth = 10\n",
    "\n",
    "Label = tf.one_hot(Label_Y_numbers,depth)"
   ]
  },
  {
   "cell_type": "code",
   "execution_count": 8,
   "metadata": {},
   "outputs": [
    {
     "data": {
      "text/plain": [
       "array([0, 0, 0, ..., 9, 9, 9])"
      ]
     },
     "execution_count": 8,
     "metadata": {},
     "output_type": "execute_result"
    }
   ],
   "source": [
    "Label_Y_numbers"
   ]
  },
  {
   "cell_type": "code",
   "execution_count": 9,
   "metadata": {},
   "outputs": [
    {
     "data": {
      "text/plain": [
       "<tf.Tensor: shape=(60000, 10), dtype=float32, numpy=\n",
       "array([[1., 0., 0., ..., 0., 0., 0.],\n",
       "       [1., 0., 0., ..., 0., 0., 0.],\n",
       "       [1., 0., 0., ..., 0., 0., 0.],\n",
       "       ...,\n",
       "       [0., 0., 0., ..., 0., 0., 1.],\n",
       "       [0., 0., 0., ..., 0., 0., 1.],\n",
       "       [0., 0., 0., ..., 0., 0., 1.]], dtype=float32)>"
      ]
     },
     "execution_count": 9,
     "metadata": {},
     "output_type": "execute_result"
    }
   ],
   "source": [
    "Label"
   ]
  },
  {
   "cell_type": "code",
   "execution_count": null,
   "metadata": {},
   "outputs": [],
   "source": []
  },
  {
   "cell_type": "code",
   "execution_count": 10,
   "metadata": {},
   "outputs": [],
   "source": [
    "X_Intensity_Label = np.c_[X_Intensity_FFT, Label]\n",
    "X_Quadrature_Label = np.c_[X_Qudrature_FFT,Label]\n"
   ]
  },
  {
   "cell_type": "code",
   "execution_count": 11,
   "metadata": {},
   "outputs": [],
   "source": [
    "import copy\n",
    "X_Intensity_Label_shuffled = copy.copy(X_Intensity_Label) # Create another copy to shuffle\n",
    "X_Quadratue_Label_shuffled = copy.copy(X_Quadrature_Label)"
   ]
  },
  {
   "cell_type": "code",
   "execution_count": 12,
   "metadata": {},
   "outputs": [],
   "source": [
    "np.random.shuffle(X_Intensity_Label_shuffled)\n",
    "np.random.shuffle(X_Quadratue_Label_shuffled)"
   ]
  },
  {
   "cell_type": "code",
   "execution_count": 13,
   "metadata": {},
   "outputs": [
    {
     "name": "stdout",
     "output_type": "stream",
     "text": [
      "54000\n"
     ]
    }
   ],
   "source": [
    "length_of_X_train = int(0.7*X_Intensity_Label_shuffled.shape[0]) #42000\n",
    "length_of_X_validation = (int(0.2*X_Intensity_Label_shuffled.shape[0]))+length_of_X_train #12000\n",
    "print(length_of_X_validation)"
   ]
  },
  {
   "cell_type": "code",
   "execution_count": 15,
   "metadata": {},
   "outputs": [],
   "source": [
    "Train_Intensity = X_Intensity_Label_shuffled[0:length_of_X_train,0:128]\n",
    "Y_Intensity = X_Intensity_Label_shuffled[0:length_of_X_train,128:]\n",
    "\n",
    "Validation_Intensity = X_Intensity_Label_shuffled[length_of_X_train:length_of_X_validation,0:128]\n",
    "Y_Validation = X_Intensity_Label_shuffled[length_of_X_train:length_of_X_validation,128:]"
   ]
  },
  {
   "cell_type": "code",
   "execution_count": 16,
   "metadata": {},
   "outputs": [],
   "source": [
    "callback = tf.keras.callbacks.EarlyStopping(monitor='loss', patience=6)\n",
    "model2 = Sequential()\n",
    "model2.add(Dense(128, input_dim=128, activation='relu'))\n",
    "model2.add(Dense(64, activation='relu'))\n",
    "model2.add(Dense(32, activation='relu'))\n",
    "model2.add(Dense(10, activation='softmax'))\n",
    "\n",
    "model2.compile(optimizer='rmsprop',loss='categorical_crossentropy',metrics=['accuracy'])"
   ]
  },
  {
   "cell_type": "code",
   "execution_count": 63,
   "metadata": {},
   "outputs": [
    {
     "name": "stdout",
     "output_type": "stream",
     "text": [
      "Epoch 1/250\n",
      "420/420 [==============================] - 1s 3ms/step - loss: 1.4859 - accuracy: 0.4018\n",
      "Epoch 2/250\n",
      "420/420 [==============================] - 1s 3ms/step - loss: 1.1979 - accuracy: 0.4701\n",
      "Epoch 3/250\n",
      "420/420 [==============================] - 1s 2ms/step - loss: 1.0946 - accuracy: 0.5015\n",
      "Epoch 4/250\n",
      "420/420 [==============================] - 1s 3ms/step - loss: 1.0599 - accuracy: 0.5134\n",
      "Epoch 5/250\n",
      "420/420 [==============================] - 1s 3ms/step - loss: 1.0426 - accuracy: 0.5157\n",
      "Epoch 6/250\n",
      "420/420 [==============================] - 1s 3ms/step - loss: 1.0349 - accuracy: 0.5184\n",
      "Epoch 7/250\n",
      "420/420 [==============================] - 1s 3ms/step - loss: 1.0281 - accuracy: 0.5200\n",
      "Epoch 8/250\n",
      "420/420 [==============================] - 1s 2ms/step - loss: 1.0208 - accuracy: 0.5224\n",
      "Epoch 9/250\n",
      "420/420 [==============================] - 1s 3ms/step - loss: 1.0153 - accuracy: 0.5277\n",
      "Epoch 10/250\n",
      "420/420 [==============================] - 1s 3ms/step - loss: 1.0105 - accuracy: 0.5316\n",
      "Epoch 11/250\n",
      "420/420 [==============================] - 1s 3ms/step - loss: 1.0059 - accuracy: 0.5338\n",
      "Epoch 12/250\n",
      "420/420 [==============================] - 1s 3ms/step - loss: 1.0027 - accuracy: 0.5349\n",
      "Epoch 13/250\n",
      "420/420 [==============================] - 1s 2ms/step - loss: 1.0001 - accuracy: 0.5358\n",
      "Epoch 14/250\n",
      "420/420 [==============================] - 1s 1ms/step - loss: 0.9976 - accuracy: 0.5363\n",
      "Epoch 15/250\n",
      "420/420 [==============================] - 1s 3ms/step - loss: 0.9950 - accuracy: 0.5392\n",
      "Epoch 16/250\n",
      "420/420 [==============================] - 1s 3ms/step - loss: 0.9918 - accuracy: 0.5381\n",
      "Epoch 17/250\n",
      "420/420 [==============================] - 1s 4ms/step - loss: 0.9890 - accuracy: 0.5415\n",
      "Epoch 18/250\n",
      "420/420 [==============================] - 1s 2ms/step - loss: 0.9867 - accuracy: 0.5417\n",
      "Epoch 19/250\n",
      "420/420 [==============================] - 1s 3ms/step - loss: 0.9848 - accuracy: 0.5431\n",
      "Epoch 20/250\n",
      "420/420 [==============================] - 1s 4ms/step - loss: 0.9823 - accuracy: 0.5456\n",
      "Epoch 21/250\n",
      "420/420 [==============================] - 1s 3ms/step - loss: 0.9804 - accuracy: 0.5460\n",
      "Epoch 22/250\n",
      "420/420 [==============================] - 1s 2ms/step - loss: 0.9785 - accuracy: 0.5454\n",
      "Epoch 23/250\n",
      "420/420 [==============================] - 1s 3ms/step - loss: 0.9763 - accuracy: 0.5506\n",
      "Epoch 24/250\n",
      "420/420 [==============================] - 0s 1ms/step - loss: 0.9762 - accuracy: 0.5487\n",
      "Epoch 25/250\n",
      "420/420 [==============================] - 1s 2ms/step - loss: 0.9740 - accuracy: 0.5494\n",
      "Epoch 26/250\n",
      "420/420 [==============================] - 1s 3ms/step - loss: 0.9718 - accuracy: 0.5531\n",
      "Epoch 27/250\n",
      "420/420 [==============================] - 1s 3ms/step - loss: 0.9695 - accuracy: 0.5510\n",
      "Epoch 28/250\n",
      "420/420 [==============================] - 1s 3ms/step - loss: 0.9699 - accuracy: 0.5525\n",
      "Epoch 29/250\n",
      "420/420 [==============================] - 1s 3ms/step - loss: 0.9674 - accuracy: 0.5535\n",
      "Epoch 30/250\n",
      "420/420 [==============================] - 1s 3ms/step - loss: 0.9676 - accuracy: 0.5535\n",
      "Epoch 31/250\n",
      "420/420 [==============================] - 1s 2ms/step - loss: 0.9640 - accuracy: 0.5550\n",
      "Epoch 32/250\n",
      "420/420 [==============================] - 1s 2ms/step - loss: 0.9628 - accuracy: 0.5557\n",
      "Epoch 33/250\n",
      "420/420 [==============================] - 1s 3ms/step - loss: 0.9611 - accuracy: 0.5584\n",
      "Epoch 34/250\n",
      "420/420 [==============================] - 1s 3ms/step - loss: 0.9604 - accuracy: 0.5585\n",
      "Epoch 35/250\n",
      "420/420 [==============================] - 1s 3ms/step - loss: 0.9588 - accuracy: 0.5592\n",
      "Epoch 36/250\n",
      "420/420 [==============================] - 1s 3ms/step - loss: 0.9575 - accuracy: 0.5591\n",
      "Epoch 37/250\n",
      "420/420 [==============================] - 1s 3ms/step - loss: 0.9564 - accuracy: 0.5604\n",
      "Epoch 38/250\n",
      "420/420 [==============================] - 1s 4ms/step - loss: 0.9545 - accuracy: 0.5619\n",
      "Epoch 39/250\n",
      "420/420 [==============================] - 1s 2ms/step - loss: 0.9523 - accuracy: 0.5629\n",
      "Epoch 40/250\n",
      "420/420 [==============================] - 1s 1ms/step - loss: 0.9515 - accuracy: 0.5618\n",
      "Epoch 41/250\n",
      "420/420 [==============================] - 1s 2ms/step - loss: 0.9498 - accuracy: 0.5636\n",
      "Epoch 42/250\n",
      "420/420 [==============================] - 1s 4ms/step - loss: 0.9490 - accuracy: 0.5655\n",
      "Epoch 43/250\n",
      "420/420 [==============================] - 1s 4ms/step - loss: 0.9472 - accuracy: 0.5671\n",
      "Epoch 44/250\n",
      "420/420 [==============================] - 1s 4ms/step - loss: 0.9462 - accuracy: 0.5656\n",
      "Epoch 45/250\n",
      "420/420 [==============================] - 1s 2ms/step - loss: 0.9446 - accuracy: 0.5688\n",
      "Epoch 46/250\n",
      "420/420 [==============================] - 1s 3ms/step - loss: 0.9443 - accuracy: 0.5687\n",
      "Epoch 47/250\n",
      "420/420 [==============================] - 1s 3ms/step - loss: 0.9419 - accuracy: 0.5692\n",
      "Epoch 48/250\n",
      "420/420 [==============================] - 1s 2ms/step - loss: 0.9392 - accuracy: 0.5694\n",
      "Epoch 49/250\n",
      "420/420 [==============================] - 1s 1ms/step - loss: 0.9396 - accuracy: 0.5720\n",
      "Epoch 50/250\n",
      "420/420 [==============================] - 1s 3ms/step - loss: 0.9382 - accuracy: 0.5735\n",
      "Epoch 51/250\n",
      "420/420 [==============================] - 1s 4ms/step - loss: 0.9376 - accuracy: 0.5726\n",
      "Epoch 52/250\n",
      "420/420 [==============================] - 1s 3ms/step - loss: 0.9364 - accuracy: 0.5733\n",
      "Epoch 53/250\n",
      "420/420 [==============================] - 1s 3ms/step - loss: 0.9358 - accuracy: 0.5737\n",
      "Epoch 54/250\n",
      "420/420 [==============================] - 1s 3ms/step - loss: 0.9324 - accuracy: 0.5756\n",
      "Epoch 55/250\n",
      "420/420 [==============================] - 1s 3ms/step - loss: 0.9310 - accuracy: 0.5759\n",
      "Epoch 56/250\n",
      "420/420 [==============================] - 1s 3ms/step - loss: 0.9305 - accuracy: 0.5772\n",
      "Epoch 57/250\n",
      "420/420 [==============================] - 1s 1ms/step - loss: 0.9298 - accuracy: 0.5752\n",
      "Epoch 58/250\n",
      "420/420 [==============================] - 1s 3ms/step - loss: 0.9274 - accuracy: 0.5783\n",
      "Epoch 59/250\n",
      "420/420 [==============================] - 1s 3ms/step - loss: 0.9260 - accuracy: 0.5789\n",
      "Epoch 60/250\n",
      "420/420 [==============================] - 1s 3ms/step - loss: 0.9237 - accuracy: 0.5810\n",
      "Epoch 61/250\n",
      "420/420 [==============================] - 1s 3ms/step - loss: 0.9237 - accuracy: 0.5810\n",
      "Epoch 62/250\n",
      "420/420 [==============================] - 1s 3ms/step - loss: 0.9191 - accuracy: 0.5816\n",
      "Epoch 63/250\n",
      "420/420 [==============================] - 1s 3ms/step - loss: 0.9187 - accuracy: 0.5846\n",
      "Epoch 64/250\n",
      "420/420 [==============================] - 1s 1ms/step - loss: 0.9172 - accuracy: 0.5820\n",
      "Epoch 65/250\n",
      "420/420 [==============================] - 0s 1ms/step - loss: 0.9142 - accuracy: 0.5855\n",
      "Epoch 66/250\n",
      "420/420 [==============================] - 1s 3ms/step - loss: 0.9137 - accuracy: 0.5863\n",
      "Epoch 67/250\n",
      "420/420 [==============================] - 1s 1ms/step - loss: 0.9110 - accuracy: 0.5861\n",
      "Epoch 68/250\n",
      "420/420 [==============================] - 1s 3ms/step - loss: 0.9098 - accuracy: 0.5885\n",
      "Epoch 69/250\n",
      "420/420 [==============================] - 1s 3ms/step - loss: 0.9070 - accuracy: 0.5887\n",
      "Epoch 70/250\n",
      "420/420 [==============================] - 1s 3ms/step - loss: 0.9056 - accuracy: 0.5906\n",
      "Epoch 71/250\n",
      "420/420 [==============================] - 1s 2ms/step - loss: 0.9052 - accuracy: 0.5885\n",
      "Epoch 72/250\n",
      "420/420 [==============================] - 1s 2ms/step - loss: 0.9028 - accuracy: 0.5932\n",
      "Epoch 73/250\n",
      "420/420 [==============================] - 1s 3ms/step - loss: 0.9004 - accuracy: 0.5909\n",
      "Epoch 74/250\n",
      "420/420 [==============================] - 1s 3ms/step - loss: 0.9002 - accuracy: 0.5911\n",
      "Epoch 75/250\n",
      "420/420 [==============================] - 1s 3ms/step - loss: 0.8981 - accuracy: 0.5946\n",
      "Epoch 76/250\n",
      "420/420 [==============================] - 1s 2ms/step - loss: 0.8968 - accuracy: 0.5908\n",
      "Epoch 77/250\n",
      "420/420 [==============================] - 1s 1ms/step - loss: 0.8955 - accuracy: 0.5942\n",
      "Epoch 78/250\n",
      "420/420 [==============================] - 1s 1ms/step - loss: 0.8947 - accuracy: 0.5932\n",
      "Epoch 79/250\n",
      "420/420 [==============================] - 1s 3ms/step - loss: 0.8930 - accuracy: 0.5938\n",
      "Epoch 80/250\n",
      "420/420 [==============================] - 1s 4ms/step - loss: 0.8911 - accuracy: 0.5954\n",
      "Epoch 81/250\n",
      "420/420 [==============================] - 1s 3ms/step - loss: 0.8924 - accuracy: 0.5932\n",
      "Epoch 82/250\n",
      "420/420 [==============================] - 1s 3ms/step - loss: 0.8891 - accuracy: 0.5977\n",
      "Epoch 83/250\n",
      "420/420 [==============================] - 1s 3ms/step - loss: 0.8885 - accuracy: 0.5957\n",
      "Epoch 84/250\n",
      "420/420 [==============================] - 1s 3ms/step - loss: 0.8869 - accuracy: 0.5964\n",
      "Epoch 85/250\n",
      "420/420 [==============================] - 1s 2ms/step - loss: 0.8872 - accuracy: 0.5988\n",
      "Epoch 86/250\n",
      "420/420 [==============================] - 1s 2ms/step - loss: 0.8858 - accuracy: 0.5963\n",
      "Epoch 87/250\n",
      "420/420 [==============================] - 1s 3ms/step - loss: 0.8843 - accuracy: 0.5998\n",
      "Epoch 88/250\n",
      "420/420 [==============================] - 1s 3ms/step - loss: 0.8850 - accuracy: 0.5974\n",
      "Epoch 89/250\n",
      "420/420 [==============================] - 1s 3ms/step - loss: 0.8820 - accuracy: 0.5985\n",
      "Epoch 90/250\n",
      "420/420 [==============================] - 1s 3ms/step - loss: 0.8817 - accuracy: 0.5962\n",
      "Epoch 91/250\n",
      "420/420 [==============================] - 1s 3ms/step - loss: 0.8818 - accuracy: 0.5990\n",
      "Epoch 92/250\n",
      "420/420 [==============================] - 1s 3ms/step - loss: 0.8799 - accuracy: 0.5984\n",
      "Epoch 93/250\n",
      "420/420 [==============================] - 1s 2ms/step - loss: 0.8778 - accuracy: 0.6017\n",
      "Epoch 94/250\n",
      "420/420 [==============================] - 1s 1ms/step - loss: 0.8779 - accuracy: 0.6012\n",
      "Epoch 95/250\n",
      "420/420 [==============================] - 1s 1ms/step - loss: 0.8765 - accuracy: 0.6016\n",
      "Epoch 96/250\n",
      "420/420 [==============================] - 0s 1ms/step - loss: 0.8761 - accuracy: 0.6019\n",
      "Epoch 97/250\n",
      "420/420 [==============================] - 0s 1ms/step - loss: 0.8746 - accuracy: 0.6030\n",
      "Epoch 98/250\n",
      "420/420 [==============================] - 0s 1ms/step - loss: 0.8743 - accuracy: 0.6050\n",
      "Epoch 99/250\n",
      "420/420 [==============================] - 0s 1ms/step - loss: 0.8736 - accuracy: 0.6030\n",
      "Epoch 100/250\n",
      "420/420 [==============================] - 1s 3ms/step - loss: 0.8734 - accuracy: 0.6041\n",
      "Epoch 101/250\n",
      "420/420 [==============================] - 1s 3ms/step - loss: 0.8720 - accuracy: 0.6041\n",
      "Epoch 102/250\n",
      "420/420 [==============================] - 1s 3ms/step - loss: 0.8715 - accuracy: 0.6037\n",
      "Epoch 103/250\n",
      "420/420 [==============================] - 1s 3ms/step - loss: 0.8699 - accuracy: 0.6039\n",
      "Epoch 104/250\n",
      "420/420 [==============================] - 1s 3ms/step - loss: 0.8687 - accuracy: 0.6032\n",
      "Epoch 105/250\n",
      "420/420 [==============================] - 1s 2ms/step - loss: 0.8699 - accuracy: 0.6071\n",
      "Epoch 106/250\n",
      "420/420 [==============================] - 1s 1ms/step - loss: 0.8683 - accuracy: 0.6048\n",
      "Epoch 107/250\n",
      "420/420 [==============================] - 1s 2ms/step - loss: 0.8663 - accuracy: 0.6038\n",
      "Epoch 108/250\n",
      "420/420 [==============================] - 1s 3ms/step - loss: 0.8677 - accuracy: 0.6048\n",
      "Epoch 109/250\n",
      "420/420 [==============================] - 1s 3ms/step - loss: 0.8649 - accuracy: 0.6074\n",
      "Epoch 110/250\n",
      "420/420 [==============================] - 1s 3ms/step - loss: 0.8653 - accuracy: 0.6066\n",
      "Epoch 111/250\n",
      "420/420 [==============================] - 1s 3ms/step - loss: 0.8655 - accuracy: 0.6071\n",
      "Epoch 112/250\n",
      "420/420 [==============================] - 1s 3ms/step - loss: 0.8642 - accuracy: 0.6071\n",
      "Epoch 113/250\n",
      "420/420 [==============================] - 1s 3ms/step - loss: 0.8639 - accuracy: 0.6070\n",
      "Epoch 114/250\n",
      "420/420 [==============================] - 1s 2ms/step - loss: 0.8629 - accuracy: 0.6105\n",
      "Epoch 115/250\n",
      "420/420 [==============================] - 1s 1ms/step - loss: 0.8628 - accuracy: 0.6084\n",
      "Epoch 116/250\n",
      "420/420 [==============================] - 1s 1ms/step - loss: 0.8605 - accuracy: 0.6092\n",
      "Epoch 117/250\n",
      "420/420 [==============================] - 0s 1ms/step - loss: 0.8607 - accuracy: 0.6086\n",
      "Epoch 118/250\n",
      "420/420 [==============================] - 0s 1ms/step - loss: 0.8606 - accuracy: 0.6087\n",
      "Epoch 119/250\n",
      "420/420 [==============================] - 1s 1ms/step - loss: 0.8597 - accuracy: 0.6100\n",
      "Epoch 120/250\n",
      "420/420 [==============================] - 1s 3ms/step - loss: 0.8591 - accuracy: 0.6097\n",
      "Epoch 121/250\n",
      "420/420 [==============================] - 1s 3ms/step - loss: 0.8579 - accuracy: 0.6097\n",
      "Epoch 122/250\n",
      "420/420 [==============================] - 1s 3ms/step - loss: 0.8567 - accuracy: 0.6103\n",
      "Epoch 123/250\n",
      "420/420 [==============================] - 1s 1ms/step - loss: 0.8563 - accuracy: 0.6101\n",
      "Epoch 124/250\n",
      "420/420 [==============================] - 1s 1ms/step - loss: 0.8578 - accuracy: 0.6095\n",
      "Epoch 125/250\n",
      "420/420 [==============================] - 1s 1ms/step - loss: 0.8547 - accuracy: 0.6118\n",
      "Epoch 126/250\n",
      "420/420 [==============================] - 1s 2ms/step - loss: 0.8560 - accuracy: 0.6109\n",
      "Epoch 127/250\n",
      "420/420 [==============================] - 1s 3ms/step - loss: 0.8561 - accuracy: 0.6110\n",
      "Epoch 128/250\n",
      "420/420 [==============================] - 1s 1ms/step - loss: 0.8542 - accuracy: 0.6125\n",
      "Epoch 129/250\n",
      "420/420 [==============================] - 1s 3ms/step - loss: 0.8529 - accuracy: 0.6125\n",
      "Epoch 130/250\n",
      "420/420 [==============================] - 1s 3ms/step - loss: 0.8549 - accuracy: 0.6128\n",
      "Epoch 131/250\n",
      "420/420 [==============================] - 1s 3ms/step - loss: 0.8519 - accuracy: 0.6113\n",
      "Epoch 132/250\n",
      "420/420 [==============================] - 1s 3ms/step - loss: 0.8508 - accuracy: 0.6135\n",
      "Epoch 133/250\n",
      "420/420 [==============================] - 1s 3ms/step - loss: 0.8508 - accuracy: 0.6140\n",
      "Epoch 134/250\n",
      "420/420 [==============================] - 1s 3ms/step - loss: 0.8500 - accuracy: 0.6137\n",
      "Epoch 135/250\n",
      "420/420 [==============================] - 1s 3ms/step - loss: 0.8507 - accuracy: 0.6128\n",
      "Epoch 136/250\n",
      "420/420 [==============================] - 1s 2ms/step - loss: 0.8497 - accuracy: 0.6135\n",
      "Epoch 137/250\n",
      "420/420 [==============================] - 1s 3ms/step - loss: 0.8487 - accuracy: 0.6150\n",
      "Epoch 138/250\n",
      "420/420 [==============================] - 1s 2ms/step - loss: 0.8500 - accuracy: 0.6140\n",
      "Epoch 139/250\n",
      "420/420 [==============================] - 1s 3ms/step - loss: 0.8474 - accuracy: 0.6148\n",
      "Epoch 140/250\n",
      "420/420 [==============================] - 1s 3ms/step - loss: 0.8489 - accuracy: 0.6159\n",
      "Epoch 141/250\n",
      "420/420 [==============================] - 1s 3ms/step - loss: 0.8476 - accuracy: 0.6150\n",
      "Epoch 142/250\n",
      "420/420 [==============================] - 1s 3ms/step - loss: 0.8463 - accuracy: 0.6148\n",
      "Epoch 143/250\n",
      "420/420 [==============================] - 1s 3ms/step - loss: 0.8461 - accuracy: 0.6163\n",
      "Epoch 144/250\n",
      "420/420 [==============================] - 1s 2ms/step - loss: 0.8447 - accuracy: 0.6165\n",
      "Epoch 145/250\n",
      "420/420 [==============================] - 1s 1ms/step - loss: 0.8470 - accuracy: 0.6140\n",
      "Epoch 146/250\n",
      "420/420 [==============================] - 1s 2ms/step - loss: 0.8451 - accuracy: 0.6168\n",
      "Epoch 147/250\n",
      "420/420 [==============================] - 1s 3ms/step - loss: 0.8440 - accuracy: 0.6172\n",
      "Epoch 148/250\n",
      "420/420 [==============================] - 1s 3ms/step - loss: 0.8438 - accuracy: 0.6188\n",
      "Epoch 149/250\n",
      "420/420 [==============================] - 1s 3ms/step - loss: 0.8427 - accuracy: 0.6167\n",
      "Epoch 150/250\n",
      "420/420 [==============================] - 1s 3ms/step - loss: 0.8418 - accuracy: 0.6172\n",
      "Epoch 151/250\n",
      "420/420 [==============================] - 1s 3ms/step - loss: 0.8438 - accuracy: 0.6166\n",
      "Epoch 152/250\n",
      "420/420 [==============================] - 1s 3ms/step - loss: 0.8425 - accuracy: 0.6177\n",
      "Epoch 153/250\n",
      "420/420 [==============================] - 1s 2ms/step - loss: 0.8413 - accuracy: 0.6180\n",
      "Epoch 154/250\n",
      "420/420 [==============================] - 1s 2ms/step - loss: 0.8421 - accuracy: 0.6193\n",
      "Epoch 155/250\n",
      "420/420 [==============================] - 1s 4ms/step - loss: 0.8397 - accuracy: 0.6212\n",
      "Epoch 156/250\n",
      "420/420 [==============================] - 1s 3ms/step - loss: 0.8389 - accuracy: 0.6196\n",
      "Epoch 157/250\n",
      "420/420 [==============================] - 1s 3ms/step - loss: 0.8398 - accuracy: 0.6209\n",
      "Epoch 158/250\n",
      "420/420 [==============================] - 1s 3ms/step - loss: 0.8382 - accuracy: 0.6210\n",
      "Epoch 159/250\n",
      "420/420 [==============================] - 1s 3ms/step - loss: 0.8387 - accuracy: 0.6177\n",
      "Epoch 160/250\n"
     ]
    },
    {
     "name": "stdout",
     "output_type": "stream",
     "text": [
      "420/420 [==============================] - 1s 3ms/step - loss: 0.8386 - accuracy: 0.6200\n",
      "Epoch 161/250\n",
      "420/420 [==============================] - 1s 2ms/step - loss: 0.8359 - accuracy: 0.6211\n",
      "Epoch 162/250\n",
      "420/420 [==============================] - 1s 2ms/step - loss: 0.8377 - accuracy: 0.6192\n",
      "Epoch 163/250\n",
      "420/420 [==============================] - 1s 2ms/step - loss: 0.8373 - accuracy: 0.6208\n",
      "Epoch 164/250\n",
      "420/420 [==============================] - 1s 2ms/step - loss: 0.8366 - accuracy: 0.6219\n",
      "Epoch 165/250\n",
      "420/420 [==============================] - 1s 2ms/step - loss: 0.8356 - accuracy: 0.6217\n",
      "Epoch 166/250\n",
      "420/420 [==============================] - 2s 4ms/step - loss: 0.8334 - accuracy: 0.6218\n",
      "Epoch 167/250\n",
      "420/420 [==============================] - 1s 4ms/step - loss: 0.8330 - accuracy: 0.6240\n",
      "Epoch 168/250\n",
      "420/420 [==============================] - 1s 3ms/step - loss: 0.8319 - accuracy: 0.6239\n",
      "Epoch 169/250\n",
      "420/420 [==============================] - 1s 3ms/step - loss: 0.8344 - accuracy: 0.6239\n",
      "Epoch 170/250\n",
      "420/420 [==============================] - 1s 3ms/step - loss: 0.8319 - accuracy: 0.6225\n",
      "Epoch 171/250\n",
      "420/420 [==============================] - 1s 2ms/step - loss: 0.8303 - accuracy: 0.6236\n",
      "Epoch 172/250\n",
      "420/420 [==============================] - 1s 3ms/step - loss: 0.8310 - accuracy: 0.6238\n",
      "Epoch 173/250\n",
      "420/420 [==============================] - 1s 3ms/step - loss: 0.8304 - accuracy: 0.6253\n",
      "Epoch 174/250\n",
      "420/420 [==============================] - 1s 3ms/step - loss: 0.8314 - accuracy: 0.6228\n",
      "Epoch 175/250\n",
      "420/420 [==============================] - 1s 2ms/step - loss: 0.8298 - accuracy: 0.6252\n",
      "Epoch 176/250\n",
      "420/420 [==============================] - 1s 1ms/step - loss: 0.8311 - accuracy: 0.6237\n",
      "Epoch 177/250\n",
      "420/420 [==============================] - 1s 1ms/step - loss: 0.8278 - accuracy: 0.6251\n",
      "Epoch 178/250\n",
      "420/420 [==============================] - 1s 3ms/step - loss: 0.8285 - accuracy: 0.6244\n",
      "Epoch 179/250\n",
      "420/420 [==============================] - 1s 3ms/step - loss: 0.8283 - accuracy: 0.6273\n",
      "Epoch 180/250\n",
      "420/420 [==============================] - 1s 2ms/step - loss: 0.8281 - accuracy: 0.6254\n",
      "Epoch 181/250\n",
      "420/420 [==============================] - 1s 3ms/step - loss: 0.8272 - accuracy: 0.6271\n",
      "Epoch 182/250\n",
      "420/420 [==============================] - 1s 3ms/step - loss: 0.8263 - accuracy: 0.6249\n",
      "Epoch 183/250\n",
      "420/420 [==============================] - 1s 2ms/step - loss: 0.8258 - accuracy: 0.6264\n",
      "Epoch 184/250\n",
      "420/420 [==============================] - 1s 2ms/step - loss: 0.8265 - accuracy: 0.6251\n",
      "Epoch 185/250\n",
      "420/420 [==============================] - 1s 2ms/step - loss: 0.8252 - accuracy: 0.6261\n",
      "Epoch 186/250\n",
      "420/420 [==============================] - 1s 1ms/step - loss: 0.8251 - accuracy: 0.6266\n",
      "Epoch 187/250\n",
      "420/420 [==============================] - 1s 2ms/step - loss: 0.8253 - accuracy: 0.6269\n",
      "Epoch 188/250\n",
      "420/420 [==============================] - 1s 2ms/step - loss: 0.8238 - accuracy: 0.6289\n",
      "Epoch 189/250\n",
      "420/420 [==============================] - 1s 3ms/step - loss: 0.8253 - accuracy: 0.6283\n",
      "Epoch 190/250\n",
      "420/420 [==============================] - 1s 3ms/step - loss: 0.8241 - accuracy: 0.6271\n",
      "Epoch 191/250\n",
      "420/420 [==============================] - 1s 2ms/step - loss: 0.8241 - accuracy: 0.6269\n",
      "Epoch 192/250\n",
      "420/420 [==============================] - 1s 3ms/step - loss: 0.8252 - accuracy: 0.6273\n",
      "Epoch 193/250\n",
      "420/420 [==============================] - 1s 3ms/step - loss: 0.8220 - accuracy: 0.6301\n",
      "Epoch 194/250\n",
      "420/420 [==============================] - 1s 3ms/step - loss: 0.8214 - accuracy: 0.6310\n",
      "Epoch 195/250\n",
      "420/420 [==============================] - 1s 3ms/step - loss: 0.8207 - accuracy: 0.6297\n",
      "Epoch 196/250\n",
      "420/420 [==============================] - 1s 3ms/step - loss: 0.8224 - accuracy: 0.6268\n",
      "Epoch 197/250\n",
      "420/420 [==============================] - 1s 3ms/step - loss: 0.8229 - accuracy: 0.6289\n",
      "Epoch 198/250\n",
      "420/420 [==============================] - 1s 3ms/step - loss: 0.8205 - accuracy: 0.6282\n",
      "Epoch 199/250\n",
      "420/420 [==============================] - 1s 2ms/step - loss: 0.8201 - accuracy: 0.6300\n",
      "Epoch 200/250\n",
      "420/420 [==============================] - 1s 3ms/step - loss: 0.8202 - accuracy: 0.6304\n",
      "Epoch 201/250\n",
      "420/420 [==============================] - 1s 3ms/step - loss: 0.8204 - accuracy: 0.6303\n",
      "Epoch 202/250\n",
      "420/420 [==============================] - 1s 3ms/step - loss: 0.8174 - accuracy: 0.6306\n",
      "Epoch 203/250\n",
      "420/420 [==============================] - 1s 3ms/step - loss: 0.8185 - accuracy: 0.6292\n",
      "Epoch 204/250\n",
      "420/420 [==============================] - 1s 3ms/step - loss: 0.8172 - accuracy: 0.6317\n",
      "Epoch 205/250\n",
      "420/420 [==============================] - 1s 3ms/step - loss: 0.8180 - accuracy: 0.6311\n",
      "Epoch 206/250\n",
      "420/420 [==============================] - 1s 3ms/step - loss: 0.8171 - accuracy: 0.6302\n",
      "Epoch 207/250\n",
      "420/420 [==============================] - 1s 1ms/step - loss: 0.8171 - accuracy: 0.6318\n",
      "Epoch 208/250\n",
      "420/420 [==============================] - 1s 2ms/step - loss: 0.8161 - accuracy: 0.6333\n",
      "Epoch 209/250\n",
      "420/420 [==============================] - 1s 3ms/step - loss: 0.8175 - accuracy: 0.6305\n",
      "Epoch 210/250\n",
      "420/420 [==============================] - 1s 3ms/step - loss: 0.8144 - accuracy: 0.6314\n",
      "Epoch 211/250\n",
      "420/420 [==============================] - 1s 3ms/step - loss: 0.8158 - accuracy: 0.6315\n",
      "Epoch 212/250\n",
      "420/420 [==============================] - 1s 3ms/step - loss: 0.8174 - accuracy: 0.6312\n",
      "Epoch 213/250\n",
      "420/420 [==============================] - 1s 3ms/step - loss: 0.8163 - accuracy: 0.6321\n",
      "Epoch 214/250\n",
      "420/420 [==============================] - 1s 3ms/step - loss: 0.8142 - accuracy: 0.6326\n",
      "Epoch 215/250\n",
      "420/420 [==============================] - 1s 3ms/step - loss: 0.8140 - accuracy: 0.6323\n",
      "Epoch 216/250\n",
      "420/420 [==============================] - 1s 2ms/step - loss: 0.8152 - accuracy: 0.6314\n",
      "Epoch 217/250\n",
      "420/420 [==============================] - 1s 3ms/step - loss: 0.8138 - accuracy: 0.6346\n",
      "Epoch 218/250\n",
      "420/420 [==============================] - 1s 1ms/step - loss: 0.8154 - accuracy: 0.6311\n",
      "Epoch 219/250\n",
      "420/420 [==============================] - 1s 1ms/step - loss: 0.8129 - accuracy: 0.6320\n",
      "Epoch 220/250\n",
      "420/420 [==============================] - 1s 2ms/step - loss: 0.8140 - accuracy: 0.6332\n",
      "Epoch 221/250\n",
      "420/420 [==============================] - 1s 3ms/step - loss: 0.8108 - accuracy: 0.6360\n",
      "Epoch 222/250\n",
      "420/420 [==============================] - 1s 3ms/step - loss: 0.8130 - accuracy: 0.6336\n",
      "Epoch 223/250\n",
      "420/420 [==============================] - 1s 3ms/step - loss: 0.8111 - accuracy: 0.6322\n",
      "Epoch 224/250\n",
      "420/420 [==============================] - 1s 1ms/step - loss: 0.8103 - accuracy: 0.6327\n",
      "Epoch 225/250\n",
      "420/420 [==============================] - 1s 3ms/step - loss: 0.8108 - accuracy: 0.6354\n",
      "Epoch 226/250\n",
      "420/420 [==============================] - 1s 2ms/step - loss: 0.8129 - accuracy: 0.6343\n",
      "Epoch 227/250\n",
      "420/420 [==============================] - 1s 1ms/step - loss: 0.8074 - accuracy: 0.6361\n",
      "Epoch 228/250\n",
      "420/420 [==============================] - 1s 3ms/step - loss: 0.8106 - accuracy: 0.6345\n",
      "Epoch 229/250\n",
      "420/420 [==============================] - 1s 3ms/step - loss: 0.8121 - accuracy: 0.6357\n",
      "Epoch 230/250\n",
      "420/420 [==============================] - 1s 2ms/step - loss: 0.8089 - accuracy: 0.6356\n",
      "Epoch 231/250\n",
      "420/420 [==============================] - 1s 2ms/step - loss: 0.8089 - accuracy: 0.6356\n",
      "Epoch 232/250\n",
      "420/420 [==============================] - 1s 3ms/step - loss: 0.8094 - accuracy: 0.6361\n",
      "Epoch 233/250\n",
      "420/420 [==============================] - 1s 3ms/step - loss: 0.8082 - accuracy: 0.6371\n"
     ]
    }
   ],
   "source": [
    "history = model2.fit(Train_Intensity, Y_Intensity, epochs=250, batch_size=100,callbacks=[callback])"
   ]
  },
  {
   "cell_type": "code",
   "execution_count": 64,
   "metadata": {},
   "outputs": [
    {
     "name": "stdout",
     "output_type": "stream",
     "text": [
      "375/375 [==============================] - 0s 796us/step - loss: 1.0563 - accuracy: 0.5805\n",
      "Accuracy: 58.05\n"
     ]
    }
   ],
   "source": [
    "_, accuracy = model2.evaluate(Validation_Intensity, Y_Validation)\n",
    "print('Accuracy: %.2f' % (accuracy*100))"
   ]
  },
  {
   "cell_type": "code",
   "execution_count": 65,
   "metadata": {},
   "outputs": [
    {
     "data": {
      "text/plain": [
       "<matplotlib.legend.Legend at 0x7fa6a45806a0>"
      ]
     },
     "execution_count": 65,
     "metadata": {},
     "output_type": "execute_result"
    },
    {
     "data": {
      "image/png": "[encoded data removed]",
      "text/plain": [
       "<Figure size 432x288 with 1 Axes>"
      ]
     },
     "metadata": {
      "needs_background": "light"
     },
     "output_type": "display_data"
    }
   ],
   "source": [
    "plt.figure()\n",
    "plt.title('Training performance')\n",
    "plt.plot(history.epoch, history.history['loss'], label='train loss+error')\n",
    "plt.legend()\n"
   ]
  },
  {
   "cell_type": "code",
   "execution_count": null,
   "metadata": {},
   "outputs": [],
   "source": []
  },
  {
   "cell_type": "code",
   "execution_count": 66,
   "metadata": {},
   "outputs": [],
   "source": [
    "Train_Quadrature = X_Quadratue_Label_shuffled[0:length_of_X_train,0:128]\n",
    "Y_Quadrature = X_Quadratue_Label_shuffled[0:length_of_X_train,128:]\n",
    "\n",
    "Validation_Quadraturey = X_Quadratue_Label_shuffled[length_of_X_train:length_of_X_validation,0:128]\n",
    "Y_Validation_Quadrature = X_Quadratue_Label_shuffled[length_of_X_train:length_of_X_validation,128:]"
   ]
  },
  {
   "cell_type": "code",
   "execution_count": 166,
   "metadata": {},
   "outputs": [],
   "source": [
    "#callback = tf.keras.callbacks.EarlyStopping(monitor='loss', patience=6)\n",
    "\n",
    "model_Quadrature = Sequential()\n",
    "model_Quadrature.add(Dense(128, input_dim=128, activation='relu'))\n",
    "model_Quadrature.add(Dense(64, activation='relu'))\n",
    "model_Quadrature.add(Dense(32, activation='relu'))\n",
    "model_Quadrature.add(Dense(10, activation='softmax'))\n",
    "\n",
    "model_Quadrature.compile(optimizer='rmsprop',loss='categorical_crossentropy',metrics=['accuracy'])"
   ]
  },
  {
   "cell_type": "code",
   "execution_count": 167,
   "metadata": {
    "scrolled": true
   },
   "outputs": [
    {
     "name": "stdout",
     "output_type": "stream",
     "text": [
      "Epoch 1/4000\n",
      "420/420 [==============================] - 1s 2ms/step - loss: 1.5394 - accuracy: 0.3775 - val_loss: 1.3387 - val_accuracy: 0.4501\n",
      "Epoch 2/4000\n",
      "420/420 [==============================] - 1s 1ms/step - loss: 1.2040 - accuracy: 0.4833 - val_loss: 1.1089 - val_accuracy: 0.5080\n",
      "Epoch 3/4000\n",
      "420/420 [==============================] - 1s 1ms/step - loss: 1.0884 - accuracy: 0.5088 - val_loss: 1.0574 - val_accuracy: 0.5133\n",
      "Epoch 4/4000\n",
      "420/420 [==============================] - 1s 1ms/step - loss: 1.0569 - accuracy: 0.5205 - val_loss: 1.0321 - val_accuracy: 0.5338\n",
      "Epoch 5/4000\n",
      "420/420 [==============================] - 1s 1ms/step - loss: 1.0396 - accuracy: 0.5247 - val_loss: 1.0192 - val_accuracy: 0.5312\n",
      "Epoch 6/4000\n",
      "420/420 [==============================] - 1s 1ms/step - loss: 1.0276 - accuracy: 0.5312 - val_loss: 1.0389 - val_accuracy: 0.5276\n",
      "Epoch 7/4000\n",
      "420/420 [==============================] - 1s 1ms/step - loss: 1.0170 - accuracy: 0.5337 - val_loss: 1.0096 - val_accuracy: 0.5472\n",
      "Epoch 8/4000\n",
      "420/420 [==============================] - 1s 1ms/step - loss: 1.0111 - accuracy: 0.5366 - val_loss: 0.9972 - val_accuracy: 0.5440\n",
      "Epoch 9/4000\n",
      "420/420 [==============================] - 1s 2ms/step - loss: 1.0030 - accuracy: 0.5416 - val_loss: 0.9956 - val_accuracy: 0.5401\n",
      "Epoch 10/4000\n",
      "420/420 [==============================] - 1s 2ms/step - loss: 0.9943 - accuracy: 0.5447 - val_loss: 0.9881 - val_accuracy: 0.5299\n",
      "Epoch 11/4000\n",
      "420/420 [==============================] - 1s 1ms/step - loss: 0.9901 - accuracy: 0.5441 - val_loss: 0.9857 - val_accuracy: 0.5496\n",
      "Epoch 12/4000\n",
      "420/420 [==============================] - 1s 1ms/step - loss: 0.9848 - accuracy: 0.5502 - val_loss: 0.9848 - val_accuracy: 0.5493\n",
      "Epoch 13/4000\n",
      "420/420 [==============================] - 1s 1ms/step - loss: 0.9812 - accuracy: 0.5497 - val_loss: 0.9735 - val_accuracy: 0.5483\n",
      "Epoch 14/4000\n",
      "420/420 [==============================] - 1s 2ms/step - loss: 0.9766 - accuracy: 0.5528 - val_loss: 0.9757 - val_accuracy: 0.5638\n",
      "Epoch 15/4000\n",
      "420/420 [==============================] - 1s 1ms/step - loss: 0.9714 - accuracy: 0.5559 - val_loss: 0.9788 - val_accuracy: 0.5487\n",
      "Epoch 16/4000\n",
      "420/420 [==============================] - 1s 2ms/step - loss: 0.9703 - accuracy: 0.5571 - val_loss: 0.9740 - val_accuracy: 0.5663\n",
      "Epoch 17/4000\n",
      "420/420 [==============================] - 1s 1ms/step - loss: 0.9666 - accuracy: 0.5557 - val_loss: 0.9726 - val_accuracy: 0.5607\n",
      "Epoch 18/4000\n",
      "420/420 [==============================] - 1s 1ms/step - loss: 0.9642 - accuracy: 0.5594 - val_loss: 0.9704 - val_accuracy: 0.5503\n",
      "Epoch 19/4000\n",
      "420/420 [==============================] - 1s 1ms/step - loss: 0.9614 - accuracy: 0.5612 - val_loss: 0.9611 - val_accuracy: 0.5624\n",
      "Epoch 20/4000\n",
      "420/420 [==============================] - 1s 1ms/step - loss: 0.9582 - accuracy: 0.5617 - val_loss: 0.9565 - val_accuracy: 0.5669\n",
      "Epoch 21/4000\n",
      "420/420 [==============================] - 1s 1ms/step - loss: 0.9563 - accuracy: 0.5639 - val_loss: 1.0015 - val_accuracy: 0.5442\n",
      "Epoch 22/4000\n",
      "420/420 [==============================] - 1s 2ms/step - loss: 0.9528 - accuracy: 0.5650 - val_loss: 0.9558 - val_accuracy: 0.5715\n",
      "Epoch 23/4000\n",
      "420/420 [==============================] - 1s 3ms/step - loss: 0.9507 - accuracy: 0.5686 - val_loss: 0.9579 - val_accuracy: 0.5675\n",
      "Epoch 24/4000\n",
      "420/420 [==============================] - 1s 3ms/step - loss: 0.9488 - accuracy: 0.5673 - val_loss: 0.9503 - val_accuracy: 0.5632\n",
      "Epoch 25/4000\n",
      "420/420 [==============================] - 1s 2ms/step - loss: 0.9471 - accuracy: 0.5668 - val_loss: 0.9564 - val_accuracy: 0.5599\n",
      "Epoch 26/4000\n",
      "420/420 [==============================] - 1s 2ms/step - loss: 0.9443 - accuracy: 0.5691 - val_loss: 0.9572 - val_accuracy: 0.5584\n",
      "Epoch 27/4000\n",
      "420/420 [==============================] - 1s 2ms/step - loss: 0.9431 - accuracy: 0.5707 - val_loss: 0.9502 - val_accuracy: 0.5723\n",
      "Epoch 28/4000\n",
      "420/420 [==============================] - 1s 3ms/step - loss: 0.9402 - accuracy: 0.5705 - val_loss: 0.9417 - val_accuracy: 0.5688\n",
      "Epoch 29/4000\n",
      "420/420 [==============================] - 1s 3ms/step - loss: 0.9384 - accuracy: 0.5710 - val_loss: 0.9486 - val_accuracy: 0.5675\n",
      "Epoch 30/4000\n",
      "420/420 [==============================] - 1s 2ms/step - loss: 0.9368 - accuracy: 0.5729 - val_loss: 0.9763 - val_accuracy: 0.5628\n",
      "Epoch 31/4000\n",
      "420/420 [==============================] - 1s 2ms/step - loss: 0.9362 - accuracy: 0.5725 - val_loss: 0.9462 - val_accuracy: 0.5618\n",
      "Epoch 32/4000\n",
      "420/420 [==============================] - 1s 2ms/step - loss: 0.9322 - accuracy: 0.5733 - val_loss: 0.9577 - val_accuracy: 0.5563\n",
      "Epoch 33/4000\n",
      "420/420 [==============================] - 1s 1ms/step - loss: 0.9322 - accuracy: 0.5742 - val_loss: 0.9545 - val_accuracy: 0.5543\n",
      "Epoch 34/4000\n",
      "420/420 [==============================] - 1s 1ms/step - loss: 0.9305 - accuracy: 0.5745 - val_loss: 0.9682 - val_accuracy: 0.5577\n",
      "Epoch 35/4000\n",
      "420/420 [==============================] - 1s 3ms/step - loss: 0.9300 - accuracy: 0.5768 - val_loss: 0.9610 - val_accuracy: 0.5638\n",
      "Epoch 36/4000\n",
      "420/420 [==============================] - 1s 2ms/step - loss: 0.9298 - accuracy: 0.5752 - val_loss: 0.9491 - val_accuracy: 0.5674\n",
      "Epoch 37/4000\n",
      "420/420 [==============================] - 1s 2ms/step - loss: 0.9268 - accuracy: 0.5766 - val_loss: 0.9354 - val_accuracy: 0.5739\n",
      "Epoch 38/4000\n",
      "420/420 [==============================] - 1s 2ms/step - loss: 0.9264 - accuracy: 0.5757 - val_loss: 0.9369 - val_accuracy: 0.5700\n",
      "Epoch 39/4000\n",
      "420/420 [==============================] - 1s 1ms/step - loss: 0.9255 - accuracy: 0.5804 - val_loss: 0.9339 - val_accuracy: 0.5661\n",
      "Epoch 40/4000\n",
      "420/420 [==============================] - 1s 1ms/step - loss: 0.9238 - accuracy: 0.5781 - val_loss: 0.9436 - val_accuracy: 0.5697\n",
      "Epoch 41/4000\n",
      "420/420 [==============================] - 1s 1ms/step - loss: 0.9217 - accuracy: 0.5790 - val_loss: 0.9430 - val_accuracy: 0.5763\n",
      "Epoch 42/4000\n",
      "420/420 [==============================] - 1s 1ms/step - loss: 0.9206 - accuracy: 0.5801 - val_loss: 0.9397 - val_accuracy: 0.5697\n",
      "Epoch 43/4000\n",
      "420/420 [==============================] - 1s 1ms/step - loss: 0.9201 - accuracy: 0.5805 - val_loss: 0.9465 - val_accuracy: 0.5614\n",
      "Epoch 44/4000\n",
      "420/420 [==============================] - 1s 1ms/step - loss: 0.9182 - accuracy: 0.5821 - val_loss: 0.9460 - val_accuracy: 0.5683\n",
      "Epoch 45/4000\n",
      "420/420 [==============================] - 1s 3ms/step - loss: 0.9176 - accuracy: 0.5822 - val_loss: 0.9554 - val_accuracy: 0.5648\n",
      "Epoch 46/4000\n",
      "420/420 [==============================] - 1s 3ms/step - loss: 0.9170 - accuracy: 0.5808 - val_loss: 0.9320 - val_accuracy: 0.5694\n",
      "Epoch 47/4000\n",
      "420/420 [==============================] - 1s 2ms/step - loss: 0.9141 - accuracy: 0.5830 - val_loss: 0.9412 - val_accuracy: 0.5732\n",
      "Epoch 48/4000\n",
      "420/420 [==============================] - 1s 2ms/step - loss: 0.9138 - accuracy: 0.5821 - val_loss: 0.9433 - val_accuracy: 0.5606\n",
      "Epoch 49/4000\n",
      "420/420 [==============================] - 1s 1ms/step - loss: 0.9127 - accuracy: 0.5840 - val_loss: 1.0517 - val_accuracy: 0.5513\n",
      "Epoch 50/4000\n",
      "420/420 [==============================] - 1s 1ms/step - loss: 0.9115 - accuracy: 0.5863 - val_loss: 0.9331 - val_accuracy: 0.5719\n",
      "Epoch 51/4000\n",
      "420/420 [==============================] - 1s 1ms/step - loss: 0.9111 - accuracy: 0.5835 - val_loss: 0.9419 - val_accuracy: 0.5608\n",
      "Epoch 52/4000\n",
      "420/420 [==============================] - 1s 1ms/step - loss: 0.9100 - accuracy: 0.5851 - val_loss: 0.9370 - val_accuracy: 0.5739\n",
      "Epoch 53/4000\n",
      "420/420 [==============================] - 1s 3ms/step - loss: 0.9075 - accuracy: 0.5864 - val_loss: 0.9439 - val_accuracy: 0.5658\n",
      "Epoch 54/4000\n",
      "420/420 [==============================] - 2s 4ms/step - loss: 0.9077 - accuracy: 0.5871 - val_loss: 0.9339 - val_accuracy: 0.5739\n",
      "Epoch 55/4000\n",
      "420/420 [==============================] - 1s 2ms/step - loss: 0.9068 - accuracy: 0.5878 - val_loss: 0.9295 - val_accuracy: 0.5704\n",
      "Epoch 56/4000\n",
      "420/420 [==============================] - 1s 2ms/step - loss: 0.9065 - accuracy: 0.5885 - val_loss: 0.9375 - val_accuracy: 0.5726\n",
      "Epoch 57/4000\n",
      "420/420 [==============================] - 1s 1ms/step - loss: 0.9026 - accuracy: 0.5913 - val_loss: 0.9386 - val_accuracy: 0.5717\n",
      "Epoch 58/4000\n",
      "420/420 [==============================] - 1s 1ms/step - loss: 0.9039 - accuracy: 0.5904 - val_loss: 0.9373 - val_accuracy: 0.5726\n",
      "Epoch 59/4000\n",
      "420/420 [==============================] - 1s 1ms/step - loss: 0.9018 - accuracy: 0.5893 - val_loss: 0.9318 - val_accuracy: 0.5778\n",
      "Epoch 60/4000\n",
      "420/420 [==============================] - 1s 1ms/step - loss: 0.8998 - accuracy: 0.5895 - val_loss: 0.9394 - val_accuracy: 0.5712\n",
      "Epoch 61/4000\n",
      "420/420 [==============================] - 1s 1ms/step - loss: 0.8994 - accuracy: 0.5896 - val_loss: 0.9321 - val_accuracy: 0.5780\n",
      "Epoch 62/4000\n",
      "420/420 [==============================] - 1s 1ms/step - loss: 0.8998 - accuracy: 0.5924 - val_loss: 0.9290 - val_accuracy: 0.5739\n",
      "Epoch 63/4000\n",
      "420/420 [==============================] - 1s 1ms/step - loss: 0.8961 - accuracy: 0.5936 - val_loss: 0.9392 - val_accuracy: 0.5642\n",
      "Epoch 64/4000\n",
      "420/420 [==============================] - 1s 1ms/step - loss: 0.8963 - accuracy: 0.5923 - val_loss: 0.9245 - val_accuracy: 0.5793\n",
      "Epoch 65/4000\n",
      "420/420 [==============================] - 1s 2ms/step - loss: 0.8945 - accuracy: 0.5946 - val_loss: 0.9327 - val_accuracy: 0.5701\n",
      "Epoch 66/4000\n",
      "420/420 [==============================] - 1s 2ms/step - loss: 0.8935 - accuracy: 0.5942 - val_loss: 0.9281 - val_accuracy: 0.5766\n",
      "Epoch 67/4000\n",
      "420/420 [==============================] - 1s 1ms/step - loss: 0.8919 - accuracy: 0.5930 - val_loss: 0.9314 - val_accuracy: 0.5714\n",
      "Epoch 68/4000\n",
      "420/420 [==============================] - 1s 1ms/step - loss: 0.8911 - accuracy: 0.5979 - val_loss: 0.9272 - val_accuracy: 0.5809\n",
      "Epoch 69/4000\n",
      "420/420 [==============================] - 1s 1ms/step - loss: 0.8890 - accuracy: 0.5951 - val_loss: 0.9656 - val_accuracy: 0.5651\n",
      "Epoch 70/4000\n",
      "420/420 [==============================] - 1s 1ms/step - loss: 0.8879 - accuracy: 0.5973 - val_loss: 0.9367 - val_accuracy: 0.5744\n",
      "Epoch 71/4000\n",
      "420/420 [==============================] - 1s 1ms/step - loss: 0.8862 - accuracy: 0.5988 - val_loss: 0.9394 - val_accuracy: 0.5742\n",
      "Epoch 72/4000\n",
      "420/420 [==============================] - 1s 2ms/step - loss: 0.8854 - accuracy: 0.5985 - val_loss: 0.9198 - val_accuracy: 0.5822\n",
      "Epoch 73/4000\n",
      "420/420 [==============================] - 1s 1ms/step - loss: 0.8837 - accuracy: 0.5997 - val_loss: 0.9415 - val_accuracy: 0.5754\n",
      "Epoch 74/4000\n",
      "420/420 [==============================] - 1s 1ms/step - loss: 0.8829 - accuracy: 0.5995 - val_loss: 0.9267 - val_accuracy: 0.5779\n",
      "Epoch 75/4000\n",
      "420/420 [==============================] - 1s 2ms/step - loss: 0.8830 - accuracy: 0.6010 - val_loss: 0.9247 - val_accuracy: 0.5778\n",
      "Epoch 76/4000\n",
      "420/420 [==============================] - 1s 1ms/step - loss: 0.8807 - accuracy: 0.5989 - val_loss: 0.9154 - val_accuracy: 0.5828\n",
      "Epoch 77/4000\n",
      "420/420 [==============================] - 1s 2ms/step - loss: 0.8808 - accuracy: 0.6005 - val_loss: 0.9323 - val_accuracy: 0.5836\n",
      "Epoch 78/4000\n",
      "420/420 [==============================] - 1s 1ms/step - loss: 0.8783 - accuracy: 0.5995 - val_loss: 0.9238 - val_accuracy: 0.5834\n",
      "Epoch 79/4000\n",
      "420/420 [==============================] - 1s 1ms/step - loss: 0.8783 - accuracy: 0.6023 - val_loss: 0.9330 - val_accuracy: 0.5784\n",
      "Epoch 80/4000\n",
      "420/420 [==============================] - 1s 2ms/step - loss: 0.8776 - accuracy: 0.6020 - val_loss: 0.9278 - val_accuracy: 0.5790\n",
      "Epoch 81/4000\n",
      "420/420 [==============================] - 1s 2ms/step - loss: 0.8756 - accuracy: 0.6026 - val_loss: 0.9257 - val_accuracy: 0.5857\n",
      "Epoch 82/4000\n",
      "420/420 [==============================] - 1s 3ms/step - loss: 0.8749 - accuracy: 0.6011 - val_loss: 0.9631 - val_accuracy: 0.5705\n",
      "Epoch 83/4000\n",
      "420/420 [==============================] - 1s 1ms/step - loss: 0.8749 - accuracy: 0.6013 - val_loss: 0.9444 - val_accuracy: 0.5742\n",
      "Epoch 84/4000\n",
      "420/420 [==============================] - 1s 1ms/step - loss: 0.8732 - accuracy: 0.6060 - val_loss: 0.9259 - val_accuracy: 0.5756\n",
      "Epoch 85/4000\n",
      "420/420 [==============================] - 1s 1ms/step - loss: 0.8737 - accuracy: 0.6049 - val_loss: 0.9588 - val_accuracy: 0.5661\n",
      "Epoch 86/4000\n",
      "420/420 [==============================] - 1s 2ms/step - loss: 0.8730 - accuracy: 0.6045 - val_loss: 0.9884 - val_accuracy: 0.5755\n"
     ]
    }
   ],
   "source": [
    "history_Quadrature = model_Quadrature.fit(Train_Quadrature, Y_Quadrature, epochs=4000,validation_data=(Validation_Quadraturey, Y_Validation_Quadrature), batch_size=100,\n",
    "                     callbacks = [keras.callbacks.EarlyStopping(monitor='val_loss', patience=10, verbose=0, mode='auto')])"
   ]
  },
  {
   "cell_type": "code",
   "execution_count": 168,
   "metadata": {},
   "outputs": [
    {
     "name": "stdout",
     "output_type": "stream",
     "text": [
      "375/375 [==============================] - 0s 1ms/step - loss: 0.9884 - accuracy: 0.5755\n",
      "Accuracy: 57.55\n"
     ]
    }
   ],
   "source": [
    "_, accuracy = model_Quadrature.evaluate(Validation_Quadraturey, Y_Validation_Quadrature)\n",
    "print('Accuracy: %.2f' % (accuracy*100))\n"
   ]
  },
  {
   "cell_type": "code",
   "execution_count": 169,
   "metadata": {},
   "outputs": [
    {
     "data": {
      "image/png": "[encoded data removed]",
      "text/plain": [
       "<Figure size 432x288 with 1 Axes>"
      ]
     },
     "metadata": {
      "needs_background": "light"
     },
     "output_type": "display_data"
    }
   ],
   "source": [
    "plt.figure()\n",
    "plt.title('Training performance')\n",
    "#plt.plot(history3.epoch, history3.history['loss'], label='train loss+error')\n",
    "#plt.plot(history3.epoch, history3.history['val_loss'], label= 'val_loss')\n",
    "plt.plot(history_Quadrature.history['loss'], label='train_loss')\n",
    "plt.plot(history_Quadrature.history['val_loss'], label='Validation')\n",
    "plt.legend()\n",
    "plt.show()\n"
   ]
  },
  {
   "cell_type": "code",
   "execution_count": 14,
   "metadata": {},
   "outputs": [],
   "source": [
    "X_complex_FFT = abs(np.fft.fftshift(fft(complex_num[:]-np.mean(complex_num[:]))))\n",
    "\n",
    "X_complex_Label = np.c_[X_complex_FFT,Label]\n",
    "\n",
    "import copy\n",
    "X_complex_Label_shuffled = copy.copy(X_complex_Label) # Create another copy to shuffle\n"
   ]
  },
  {
   "cell_type": "code",
   "execution_count": 15,
   "metadata": {},
   "outputs": [],
   "source": [
    "np.random.shuffle(X_complex_Label_shuffled)"
   ]
  },
  {
   "cell_type": "code",
   "execution_count": 16,
   "metadata": {},
   "outputs": [
    {
     "name": "stdout",
     "output_type": "stream",
     "text": [
      "(42000, 128)\n"
     ]
    }
   ],
   "source": [
    "Train_complex = X_complex_Label_shuffled[0:length_of_X_train,0:128]\n",
    "Y_complex = X_complex_Label_shuffled[0:length_of_X_train,128:]\n",
    "\n",
    "print(Train_complex.shape)\n",
    "Validation_complex = X_complex_Label_shuffled[length_of_X_train:length_of_X_validation,0:128]\n",
    "Y_validation_complex = X_complex_Label_shuffled[length_of_X_train:length_of_X_validation,128:]"
   ]
  },
  {
   "cell_type": "code",
   "execution_count": 18,
   "metadata": {},
   "outputs": [],
   "source": [
    "#callback = tf.keras.callbacks.EarlyStopping(monitor='loss', patience=10)\n",
    "\n",
    "model3 = Sequential()\n",
    "model3.add(Dense(128, input_dim=128, activation='relu'))\n",
    "model3.add(Dense(64, activation='relu'))\n",
    "model3.add(Dense(32, activation='relu'))\n",
    "model3.add(Dense(10, activation='softmax'))\n",
    "\n",
    "model3.compile(optimizer='rmsprop',loss='categorical_crossentropy',metrics=['accuracy'])"
   ]
  },
  {
   "cell_type": "code",
   "execution_count": null,
   "metadata": {},
   "outputs": [],
   "source": [
    "history3 = model3.fit(Train_complex, Y_complex, epochs=6000, batch_size=100,validation_data=(Validation_complex, Y_validation_complex),\n",
    "    callbacks = [keras.callbacks.EarlyStopping(monitor='val_loss', patience=10, verbose=0, mode='auto')])"
   ]
  },
  {
   "cell_type": "code",
   "execution_count": null,
   "metadata": {},
   "outputs": [],
   "source": []
  },
  {
   "cell_type": "code",
   "execution_count": 152,
   "metadata": {},
   "outputs": [
    {
     "name": "stdout",
     "output_type": "stream",
     "text": [
      "375/375 [==============================] - 0s 1ms/step - loss: 0.6575 - accuracy: 0.6757\n",
      "Accuracy: 67.57\n"
     ]
    }
   ],
   "source": [
    "_, accuracy = model3.evaluate(Validation_complex, Y_validation_complex)\n",
    "print('Accuracy: %.2f' % (accuracy*100))"
   ]
  },
  {
   "cell_type": "code",
   "execution_count": 153,
   "metadata": {},
   "outputs": [
    {
     "data": {
      "image/png": "[encoded data removed]",
      "text/plain": [
       "<Figure size 432x288 with 1 Axes>"
      ]
     },
     "metadata": {
      "needs_background": "light"
     },
     "output_type": "display_data"
    }
   ],
   "source": [
    "plt.figure()\n",
    "plt.title('Training performance')\n",
    "#plt.plot(history3.epoch, history3.history['loss'], label='train loss+error')\n",
    "#plt.plot(history3.epoch, history3.history['val_loss'], label= 'val_loss')\n",
    "plt.plot(history3.history['loss'], label='train_loss')\n",
    "plt.plot(history3.history['val_loss'], label='Validation')\n",
    "plt.legend()\n",
    "plt.show()\n"
   ]
  },
  {
   "cell_type": "code",
   "execution_count": 19,
   "metadata": {},
   "outputs": [],
   "source": [
    "from sklearn.model_selection import GridSearchCV\n",
    "parameters ={'batch_size':[50,100,150],\n",
    "            'nb_epoch':[100,200,300],\n",
    "            'optimizer':['adam','rmsprop','SGD'],\n",
    "            'kernel_initializer':['random_uniform'],\n",
    "            'units':[4,8,13]}\n",
    "gridSearch = GridSearchCV(estimator=model3,\n",
    "                          param_grid=parameters,\n",
    "                          cv=10,\n",
    "                         n_jobs=-1,\n",
    "                         return_train_score=True)"
   ]
  },
  {
   "cell_type": "code",
   "execution_count": 21,
   "metadata": {},
   "outputs": [
    {
     "ename": "TypeError",
     "evalue": "If no scoring is specified, the estimator passed should have a 'score' method. The estimator <tensorflow.python.keras.engine.sequential.Sequential object at 0x7f5e00f6d550> does not.",
     "output_type": "error",
     "traceback": [
      "\u001b[0;31m---------------------------------------------------------------------------\u001b[0m",
      "\u001b[0;31mTypeError\u001b[0m                                 Traceback (most recent call last)",
      "\u001b[0;32m<ipython-input-21-1ea703a8e659>\u001b[0m in \u001b[0;36m<module>\u001b[0;34m\u001b[0m\n\u001b[0;32m----> 1\u001b[0;31m \u001b[0mgridSearch\u001b[0m\u001b[0;34m.\u001b[0m\u001b[0mfit\u001b[0m\u001b[0;34m(\u001b[0m\u001b[0mTrain_Intensity\u001b[0m\u001b[0;34m,\u001b[0m \u001b[0mY_Intensity\u001b[0m\u001b[0;34m)\u001b[0m\u001b[0;34m\u001b[0m\u001b[0;34m\u001b[0m\u001b[0m\n\u001b[0m",
      "\u001b[0;32m~/.pyenv/versions/3.7.2/lib/python3.7/site-packages/sklearn/utils/validation.py\u001b[0m in \u001b[0;36minner_f\u001b[0;34m(*args, **kwargs)\u001b[0m\n\u001b[1;32m     71\u001b[0m                           FutureWarning)\n\u001b[1;32m     72\u001b[0m         \u001b[0mkwargs\u001b[0m\u001b[0;34m.\u001b[0m\u001b[0mupdate\u001b[0m\u001b[0;34m(\u001b[0m\u001b[0;34m{\u001b[0m\u001b[0mk\u001b[0m\u001b[0;34m:\u001b[0m \u001b[0marg\u001b[0m \u001b[0;32mfor\u001b[0m \u001b[0mk\u001b[0m\u001b[0;34m,\u001b[0m \u001b[0marg\u001b[0m \u001b[0;32min\u001b[0m \u001b[0mzip\u001b[0m\u001b[0;34m(\u001b[0m\u001b[0msig\u001b[0m\u001b[0;34m.\u001b[0m\u001b[0mparameters\u001b[0m\u001b[0;34m,\u001b[0m \u001b[0margs\u001b[0m\u001b[0;34m)\u001b[0m\u001b[0;34m}\u001b[0m\u001b[0;34m)\u001b[0m\u001b[0;34m\u001b[0m\u001b[0;34m\u001b[0m\u001b[0m\n\u001b[0;32m---> 73\u001b[0;31m         \u001b[0;32mreturn\u001b[0m \u001b[0mf\u001b[0m\u001b[0;34m(\u001b[0m\u001b[0;34m**\u001b[0m\u001b[0mkwargs\u001b[0m\u001b[0;34m)\u001b[0m\u001b[0;34m\u001b[0m\u001b[0;34m\u001b[0m\u001b[0m\n\u001b[0m\u001b[1;32m     74\u001b[0m     \u001b[0;32mreturn\u001b[0m \u001b[0minner_f\u001b[0m\u001b[0;34m\u001b[0m\u001b[0;34m\u001b[0m\u001b[0m\n\u001b[1;32m     75\u001b[0m \u001b[0;34m\u001b[0m\u001b[0m\n",
      "\u001b[0;32m~/.pyenv/versions/3.7.2/lib/python3.7/site-packages/sklearn/model_selection/_search.py\u001b[0m in \u001b[0;36mfit\u001b[0;34m(self, X, y, groups, **fit_params)\u001b[0m\n\u001b[1;32m    653\u001b[0m \u001b[0;34m\u001b[0m\u001b[0m\n\u001b[1;32m    654\u001b[0m         scorers, self.multimetric_ = _check_multimetric_scoring(\n\u001b[0;32m--> 655\u001b[0;31m             self.estimator, scoring=self.scoring)\n\u001b[0m\u001b[1;32m    656\u001b[0m \u001b[0;34m\u001b[0m\u001b[0m\n\u001b[1;32m    657\u001b[0m         \u001b[0;32mif\u001b[0m \u001b[0mself\u001b[0m\u001b[0;34m.\u001b[0m\u001b[0mmultimetric_\u001b[0m\u001b[0;34m:\u001b[0m\u001b[0;34m\u001b[0m\u001b[0;34m\u001b[0m\u001b[0m\n",
      "\u001b[0;32m~/.pyenv/versions/3.7.2/lib/python3.7/site-packages/sklearn/metrics/_scorer.py\u001b[0m in \u001b[0;36m_check_multimetric_scoring\u001b[0;34m(estimator, scoring)\u001b[0m\n\u001b[1;32m    473\u001b[0m     if callable(scoring) or scoring is None or isinstance(scoring,\n\u001b[1;32m    474\u001b[0m                                                           str):\n\u001b[0;32m--> 475\u001b[0;31m         \u001b[0mscorers\u001b[0m \u001b[0;34m=\u001b[0m \u001b[0;34m{\u001b[0m\u001b[0;34m\"score\"\u001b[0m\u001b[0;34m:\u001b[0m \u001b[0mcheck_scoring\u001b[0m\u001b[0;34m(\u001b[0m\u001b[0mestimator\u001b[0m\u001b[0;34m,\u001b[0m \u001b[0mscoring\u001b[0m\u001b[0;34m=\u001b[0m\u001b[0mscoring\u001b[0m\u001b[0;34m)\u001b[0m\u001b[0;34m}\u001b[0m\u001b[0;34m\u001b[0m\u001b[0;34m\u001b[0m\u001b[0m\n\u001b[0m\u001b[1;32m    476\u001b[0m         \u001b[0;32mreturn\u001b[0m \u001b[0mscorers\u001b[0m\u001b[0;34m,\u001b[0m \u001b[0;32mFalse\u001b[0m\u001b[0;34m\u001b[0m\u001b[0;34m\u001b[0m\u001b[0m\n\u001b[1;32m    477\u001b[0m     \u001b[0;32melse\u001b[0m\u001b[0;34m:\u001b[0m\u001b[0;34m\u001b[0m\u001b[0;34m\u001b[0m\u001b[0m\n",
      "\u001b[0;32m~/.pyenv/versions/3.7.2/lib/python3.7/site-packages/sklearn/utils/validation.py\u001b[0m in \u001b[0;36minner_f\u001b[0;34m(*args, **kwargs)\u001b[0m\n\u001b[1;32m     71\u001b[0m                           FutureWarning)\n\u001b[1;32m     72\u001b[0m         \u001b[0mkwargs\u001b[0m\u001b[0;34m.\u001b[0m\u001b[0mupdate\u001b[0m\u001b[0;34m(\u001b[0m\u001b[0;34m{\u001b[0m\u001b[0mk\u001b[0m\u001b[0;34m:\u001b[0m \u001b[0marg\u001b[0m \u001b[0;32mfor\u001b[0m \u001b[0mk\u001b[0m\u001b[0;34m,\u001b[0m \u001b[0marg\u001b[0m \u001b[0;32min\u001b[0m \u001b[0mzip\u001b[0m\u001b[0;34m(\u001b[0m\u001b[0msig\u001b[0m\u001b[0;34m.\u001b[0m\u001b[0mparameters\u001b[0m\u001b[0;34m,\u001b[0m \u001b[0margs\u001b[0m\u001b[0;34m)\u001b[0m\u001b[0;34m}\u001b[0m\u001b[0;34m)\u001b[0m\u001b[0;34m\u001b[0m\u001b[0;34m\u001b[0m\u001b[0m\n\u001b[0;32m---> 73\u001b[0;31m         \u001b[0;32mreturn\u001b[0m \u001b[0mf\u001b[0m\u001b[0;34m(\u001b[0m\u001b[0;34m**\u001b[0m\u001b[0mkwargs\u001b[0m\u001b[0;34m)\u001b[0m\u001b[0;34m\u001b[0m\u001b[0;34m\u001b[0m\u001b[0m\n\u001b[0m\u001b[1;32m     74\u001b[0m     \u001b[0;32mreturn\u001b[0m \u001b[0minner_f\u001b[0m\u001b[0;34m\u001b[0m\u001b[0;34m\u001b[0m\u001b[0m\n\u001b[1;32m     75\u001b[0m \u001b[0;34m\u001b[0m\u001b[0m\n",
      "\u001b[0;32m~/.pyenv/versions/3.7.2/lib/python3.7/site-packages/sklearn/metrics/_scorer.py\u001b[0m in \u001b[0;36mcheck_scoring\u001b[0;34m(estimator, scoring, allow_none)\u001b[0m\n\u001b[1;32m    426\u001b[0m                 \u001b[0;34m\"If no scoring is specified, the estimator passed should \"\u001b[0m\u001b[0;34m\u001b[0m\u001b[0;34m\u001b[0m\u001b[0m\n\u001b[1;32m    427\u001b[0m                 \u001b[0;34m\"have a 'score' method. The estimator %r does not.\"\u001b[0m\u001b[0;34m\u001b[0m\u001b[0;34m\u001b[0m\u001b[0m\n\u001b[0;32m--> 428\u001b[0;31m                 % estimator)\n\u001b[0m\u001b[1;32m    429\u001b[0m     \u001b[0;32melif\u001b[0m \u001b[0misinstance\u001b[0m\u001b[0;34m(\u001b[0m\u001b[0mscoring\u001b[0m\u001b[0;34m,\u001b[0m \u001b[0mIterable\u001b[0m\u001b[0;34m)\u001b[0m\u001b[0;34m:\u001b[0m\u001b[0;34m\u001b[0m\u001b[0;34m\u001b[0m\u001b[0m\n\u001b[1;32m    430\u001b[0m         raise ValueError(\"For evaluating multiple scores, use \"\n",
      "\u001b[0;31mTypeError\u001b[0m: If no scoring is specified, the estimator passed should have a 'score' method. The estimator <tensorflow.python.keras.engine.sequential.Sequential object at 0x7f5e00f6d550> does not."
     ]
    }
   ],
   "source": [
    "gridSearch.fit(Train_Intensity, Y_Intensity)"
   ]
  },
  {
   "cell_type": "code",
   "execution_count": null,
   "metadata": {},
   "outputs": [],
   "source": []
  },
  {
   "cell_type": "code",
   "execution_count": 22,
   "metadata": {},
   "outputs": [
    {
     "ename": "IndexError",
     "evalue": "tuple index out of range",
     "output_type": "error",
     "traceback": [
      "\u001b[0;31m---------------------------------------------------------------------------\u001b[0m",
      "\u001b[0;31mIndexError\u001b[0m                                Traceback (most recent call last)",
      "\u001b[0;32m<ipython-input-22-1a298821a64c>\u001b[0m in \u001b[0;36m<module>\u001b[0;34m\u001b[0m\n\u001b[0;32m----> 1\u001b[0;31m \u001b[0mn_timesteps\u001b[0m\u001b[0;34m,\u001b[0m \u001b[0mn_features\u001b[0m\u001b[0;34m,\u001b[0m \u001b[0mn_outputs\u001b[0m \u001b[0;34m=\u001b[0m \u001b[0mTrain_complex\u001b[0m\u001b[0;34m.\u001b[0m\u001b[0mshape\u001b[0m\u001b[0;34m[\u001b[0m\u001b[0;36m1\u001b[0m\u001b[0;34m]\u001b[0m\u001b[0;34m,\u001b[0m \u001b[0mTrain_complex\u001b[0m\u001b[0;34m.\u001b[0m\u001b[0mshape\u001b[0m\u001b[0;34m[\u001b[0m\u001b[0;36m2\u001b[0m\u001b[0;34m]\u001b[0m\u001b[0;34m,\u001b[0m \u001b[0mY_complex\u001b[0m\u001b[0;34m.\u001b[0m\u001b[0mshape\u001b[0m\u001b[0;34m[\u001b[0m\u001b[0;36m1\u001b[0m\u001b[0;34m]\u001b[0m\u001b[0;34m\u001b[0m\u001b[0;34m\u001b[0m\u001b[0m\n\u001b[0m",
      "\u001b[0;31mIndexError\u001b[0m: tuple index out of range"
     ]
    }
   ],
   "source": [
    "#n_timesteps, n_features, n_outputs = Train_complex.shape[1], Train_complex.shape[2], Y_complex.shape[1]"
   ]
  },
  {
   "cell_type": "code",
   "execution_count": null,
   "metadata": {},
   "outputs": [],
   "source": []
  },
  {
   "cell_type": "code",
   "execution_count": null,
   "metadata": {},
   "outputs": [],
   "source": []
  },
  {
   "cell_type": "code",
   "execution_count": null,
   "metadata": {},
   "outputs": [],
   "source": []
  }
 ],
 "metadata": {
  "kernelspec": {
   "display_name": "Python 3",
   "language": "python",
   "name": "python3"
  },
  "language_info": {
   "codemirror_mode": {
    "name": "ipython",
    "version": 3
   },
   "file_extension": ".py",
   "mimetype": "text/x-python",
   "name": "python",
   "nbconvert_exporter": "python",
   "pygments_lexer": "ipython3",
   "version": "3.7.2"
  }
 },
 "nbformat": 4,
 "nbformat_minor": 4
}

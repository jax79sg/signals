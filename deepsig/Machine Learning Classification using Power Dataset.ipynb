{
 "cells": [
  {
   "cell_type": "code",
   "execution_count": 1,
   "metadata": {},
   "outputs": [],
   "source": [
    "%matplotlib inline\n",
    "import os,random\n",
    "import numpy as np\n",
    "import matplotlib.pyplot as plt\n",
    "import seaborn as sns\n",
    "import pickle as cPickle, random, sys, keras\n",
    "import scipy\n",
    "from sklearn import preprocessing\n",
    "import tensorflow as tf\n",
    "from numpy.fft import *\n",
    "\n",
    "\n",
    "from tensorflow import keras\n",
    "from tensorflow.keras import layers\n",
    "from keras.models import Sequential\n",
    "from keras.layers import Dense\n",
    "import tensorflow as tf\n",
    "\n",
    "Xd = cPickle.load(open(\"RML2016.10b.dat\",'rb'), encoding='latin1')"
   ]
  },
  {
   "cell_type": "code",
   "execution_count": 2,
   "metadata": {},
   "outputs": [],
   "source": [
    "INTENSITY_AXIS=0\n",
    "QUADRATURE_AXIS=1\n",
    "\n",
    "snrs,mods = map(lambda j: sorted(list(set(map(lambda x: x[j], Xd.keys())))), [1,0])\n",
    "\n",
    "X_Intensity = []  \n",
    "X_Quadrature = []\n",
    "Label_strings = []\n",
    "for mod in mods:\n",
    "    X_Intensity.append(Xd[(mod,18)][:,INTENSITY_AXIS,:])\n",
    "    X_Quadrature.append(Xd[(mod,18)][:,QUADRATURE_AXIS,:])\n",
    "    for label in range(len(Xd[(mod,18)][:,INTENSITY_AXIS,:])):\n",
    "        Label_strings.append(mod)\n",
    "X_Intensity = np.vstack(X_Intensity) # Quick way to create stacked dataset\n",
    "X_Quadrature = np.vstack(X_Quadrature)\n",
    "\n",
    "Label_strings=np.vstack(Label_strings)\n",
    "complex_num = X_Intensity + 1j*X_Quadrature\n"
   ]
  },
  {
   "cell_type": "code",
   "execution_count": 3,
   "metadata": {},
   "outputs": [],
   "source": [
    "X_Intensity_FFT = abs(np.fft.fftshift(fft(X_Intensity[:]-np.mean(X_Intensity[:]))))\n",
    "X_Quadrature_FFT = abs(np.fft.fftshift(fft(X_Quadrature[:]-np.mean(X_Quadrature[:]))))\n",
    "X_complex_FFT = abs(np.fft.fftshift(fft(complex_num[:]-np.mean(complex_num[:]))))\n",
    "\n",
    "X_Power_Intensity_FFT = X_Intensity_FFT**2\n",
    "X_Power_Quadrature_FFT = X_Quadrature_FFT**2\n",
    "X_Power_complex_FFT = X_complex_FFT**2"
   ]
  },
  {
   "cell_type": "code",
   "execution_count": 4,
   "metadata": {},
   "outputs": [
    {
     "data": {
      "text/plain": [
       "(60000, 128)"
      ]
     },
     "execution_count": 4,
     "metadata": {},
     "output_type": "execute_result"
    }
   ],
   "source": [
    "X_Power_Intensity_FFT.shape"
   ]
  },
  {
   "cell_type": "code",
   "execution_count": 5,
   "metadata": {},
   "outputs": [
    {
     "name": "stderr",
     "output_type": "stream",
     "text": [
      "/home/jax/.pyenv/versions/3.7.2/lib/python3.7/site-packages/sklearn/utils/validation.py:73: DataConversionWarning: A column-vector y was passed when a 1d array was expected. Please change the shape of y to (n_samples, ), for example using ravel().\n",
      "  return f(**kwargs)\n"
     ]
    }
   ],
   "source": [
    "le= preprocessing.LabelEncoder()\n",
    "le.fit(Label_strings)\n",
    "Label_Y_numbers = le.transform(Label_strings)\n",
    "depth = 10\n",
    "Label = tf.one_hot(Label_Y_numbers,depth)"
   ]
  },
  {
   "cell_type": "code",
   "execution_count": 6,
   "metadata": {},
   "outputs": [
    {
     "data": {
      "text/plain": [
       "(60000, 138)"
      ]
     },
     "execution_count": 6,
     "metadata": {},
     "output_type": "execute_result"
    }
   ],
   "source": [
    "X_Intensity_Label = np.c_[X_Power_Intensity_FFT, Label]\n",
    "X_Quadrature_Label = np.c_[X_Power_Quadrature_FFT,Label]\n",
    "X_complex_Label = np.c_[X_Power_complex_FFT,Label]\n",
    "\n",
    "X_Intensity_Label.shape"
   ]
  },
  {
   "cell_type": "code",
   "execution_count": 7,
   "metadata": {},
   "outputs": [
    {
     "data": {
      "text/plain": [
       "42000"
      ]
     },
     "execution_count": 7,
     "metadata": {},
     "output_type": "execute_result"
    }
   ],
   "source": [
    "import copy\n",
    "X_Intensity_Label_shuffled = copy.copy(X_Intensity_Label) # Create another copy to shuffle\n",
    "X_Quadratue_Label_shuffled = copy.copy(X_Quadrature_Label)\n",
    "X_complex_Label_shuffled = copy.copy(X_complex_Label)\n",
    "\n",
    "np.random.shuffle(X_Intensity_Label_shuffled)\n",
    "np.random.shuffle(X_Quadratue_Label_shuffled)\n",
    "np.random.shuffle(X_complex_Label_shuffled)\n",
    "\n",
    "length_of_X_train = int(0.7*X_Intensity_Label_shuffled.shape[0]) #42000\n",
    "length_of_X_validation = (int(0.2*X_Intensity_Label_shuffled.shape[0]))+length_of_X_train #12000\n",
    "length_of_X_train"
   ]
  },
  {
   "cell_type": "code",
   "execution_count": 8,
   "metadata": {},
   "outputs": [
    {
     "data": {
      "text/plain": [
       "(42000, 10)"
      ]
     },
     "execution_count": 8,
     "metadata": {},
     "output_type": "execute_result"
    }
   ],
   "source": [
    "Train_Intensity = X_Intensity_Label_shuffled[0:length_of_X_train,0:128]\n",
    "Y_Intensity = X_Intensity_Label_shuffled[0:length_of_X_train,128:]\n",
    "\n",
    "Validation_Intensity = X_Intensity_Label_shuffled[length_of_X_train:length_of_X_validation,0:128]\n",
    "Y_Validation = X_Intensity_Label_shuffled[length_of_X_train:length_of_X_validation,128:]\n",
    "\n",
    "Y_Intensity.shape"
   ]
  },
  {
   "cell_type": "code",
   "execution_count": 9,
   "metadata": {},
   "outputs": [],
   "source": [
    "#callback = tf.keras.callbacks.EarlyStopping(monitor='loss', patience=6)\n",
    "model_Power_Intensity = Sequential()\n",
    "model_Power_Intensity.add(Dense(128, input_dim=128, activation='relu'))\n",
    "model_Power_Intensity.add(Dense(64, activation='relu'))\n",
    "model_Power_Intensity.add(Dense(32, activation='relu'))\n",
    "model_Power_Intensity.add(Dense(10, activation='softmax'))\n",
    "\n",
    "model_Power_Intensity.compile(optimizer='rmsprop',loss='categorical_crossentropy',metrics=['accuracy'])"
   ]
  },
  {
   "cell_type": "code",
   "execution_count": 10,
   "metadata": {},
   "outputs": [
    {
     "name": "stdout",
     "output_type": "stream",
     "text": [
      "Epoch 1/250\n",
      "420/420 [==============================] - 1s 2ms/step - loss: 1.6434 - accuracy: 0.3397 - val_loss: 1.3688 - val_accuracy: 0.4342\n",
      "Epoch 2/250\n",
      "420/420 [==============================] - 1s 2ms/step - loss: 1.3000 - accuracy: 0.4400 - val_loss: 1.2228 - val_accuracy: 0.4782\n",
      "Epoch 3/250\n",
      "420/420 [==============================] - 1s 2ms/step - loss: 1.2067 - accuracy: 0.4686 - val_loss: 1.1719 - val_accuracy: 0.4762\n",
      "Epoch 4/250\n",
      "420/420 [==============================] - 1s 2ms/step - loss: 1.1703 - accuracy: 0.4821 - val_loss: 1.1500 - val_accuracy: 0.4985\n",
      "Epoch 5/250\n",
      "420/420 [==============================] - 1s 1ms/step - loss: 1.1487 - accuracy: 0.4856 - val_loss: 1.1288 - val_accuracy: 0.5032\n",
      "Epoch 6/250\n",
      "420/420 [==============================] - 1s 2ms/step - loss: 1.1357 - accuracy: 0.4959 - val_loss: 1.1012 - val_accuracy: 0.5169\n",
      "Epoch 7/250\n",
      "420/420 [==============================] - 2s 4ms/step - loss: 1.1239 - accuracy: 0.5001 - val_loss: 1.0979 - val_accuracy: 0.5068\n",
      "Epoch 8/250\n",
      "420/420 [==============================] - 1s 2ms/step - loss: 1.1144 - accuracy: 0.5066 - val_loss: 1.0845 - val_accuracy: 0.5208\n",
      "Epoch 9/250\n",
      "420/420 [==============================] - 1s 2ms/step - loss: 1.1036 - accuracy: 0.5088 - val_loss: 1.0895 - val_accuracy: 0.5064\n",
      "Epoch 10/250\n",
      "420/420 [==============================] - 1s 1ms/step - loss: 1.0965 - accuracy: 0.5126 - val_loss: 1.0827 - val_accuracy: 0.4931\n",
      "Epoch 11/250\n",
      "420/420 [==============================] - 1s 2ms/step - loss: 1.0902 - accuracy: 0.5129 - val_loss: 1.0651 - val_accuracy: 0.5133\n",
      "Epoch 12/250\n",
      "420/420 [==============================] - 1s 1ms/step - loss: 1.0814 - accuracy: 0.5182 - val_loss: 1.0598 - val_accuracy: 0.5236\n",
      "Epoch 13/250\n",
      "420/420 [==============================] - 1s 2ms/step - loss: 1.0730 - accuracy: 0.5165 - val_loss: 1.0547 - val_accuracy: 0.5360\n",
      "Epoch 14/250\n",
      "420/420 [==============================] - 1s 3ms/step - loss: 1.0661 - accuracy: 0.5218 - val_loss: 1.0631 - val_accuracy: 0.5181\n",
      "Epoch 15/250\n",
      "420/420 [==============================] - 1s 3ms/step - loss: 1.0594 - accuracy: 0.5246 - val_loss: 1.0412 - val_accuracy: 0.5353\n",
      "Epoch 16/250\n",
      "420/420 [==============================] - 1s 2ms/step - loss: 1.0523 - accuracy: 0.5251 - val_loss: 1.0420 - val_accuracy: 0.5202\n",
      "Epoch 17/250\n",
      "420/420 [==============================] - 1s 2ms/step - loss: 1.0472 - accuracy: 0.5259 - val_loss: 1.0380 - val_accuracy: 0.5359\n",
      "Epoch 18/250\n",
      "420/420 [==============================] - 1s 1ms/step - loss: 1.0385 - accuracy: 0.5283 - val_loss: 1.0210 - val_accuracy: 0.5433\n",
      "Epoch 19/250\n",
      "420/420 [==============================] - 1s 1ms/step - loss: 1.0339 - accuracy: 0.5310 - val_loss: 1.0260 - val_accuracy: 0.5299\n",
      "Epoch 20/250\n",
      "420/420 [==============================] - 1s 1ms/step - loss: 1.0274 - accuracy: 0.5355 - val_loss: 1.0124 - val_accuracy: 0.5472\n",
      "Epoch 21/250\n",
      "420/420 [==============================] - 1s 1ms/step - loss: 1.0218 - accuracy: 0.5355 - val_loss: 1.0254 - val_accuracy: 0.5254\n",
      "Epoch 22/250\n",
      "420/420 [==============================] - 1s 1ms/step - loss: 1.0168 - accuracy: 0.5357 - val_loss: 1.0122 - val_accuracy: 0.5355\n",
      "Epoch 23/250\n",
      "420/420 [==============================] - 1s 3ms/step - loss: 1.0128 - accuracy: 0.5371 - val_loss: 0.9959 - val_accuracy: 0.5495\n",
      "Epoch 24/250\n",
      "420/420 [==============================] - 2s 4ms/step - loss: 1.0071 - accuracy: 0.5379 - val_loss: 1.0068 - val_accuracy: 0.5428\n",
      "Epoch 25/250\n",
      "420/420 [==============================] - 2s 4ms/step - loss: 1.0041 - accuracy: 0.5390 - val_loss: 0.9945 - val_accuracy: 0.5452\n",
      "Epoch 26/250\n",
      "420/420 [==============================] - 1s 3ms/step - loss: 1.0003 - accuracy: 0.5390 - val_loss: 1.0173 - val_accuracy: 0.5309\n",
      "Epoch 27/250\n",
      "420/420 [==============================] - 1s 2ms/step - loss: 0.9983 - accuracy: 0.5424 - val_loss: 0.9923 - val_accuracy: 0.5493\n",
      "Epoch 28/250\n",
      "420/420 [==============================] - 1s 1ms/step - loss: 0.9958 - accuracy: 0.5432 - val_loss: 1.0039 - val_accuracy: 0.5294\n",
      "Epoch 29/250\n",
      "420/420 [==============================] - 1s 3ms/step - loss: 0.9926 - accuracy: 0.5452 - val_loss: 0.9894 - val_accuracy: 0.5365\n",
      "Epoch 30/250\n",
      "420/420 [==============================] - 1s 3ms/step - loss: 0.9897 - accuracy: 0.5424 - val_loss: 0.9733 - val_accuracy: 0.5533\n",
      "Epoch 31/250\n",
      "420/420 [==============================] - 1s 3ms/step - loss: 0.9861 - accuracy: 0.5458 - val_loss: 0.9813 - val_accuracy: 0.5398\n",
      "Epoch 32/250\n",
      "420/420 [==============================] - 1s 1ms/step - loss: 0.9852 - accuracy: 0.5466 - val_loss: 0.9747 - val_accuracy: 0.5539\n",
      "Epoch 33/250\n",
      "420/420 [==============================] - 1s 1ms/step - loss: 0.9847 - accuracy: 0.5483 - val_loss: 0.9662 - val_accuracy: 0.5572\n",
      "Epoch 34/250\n",
      "420/420 [==============================] - 1s 3ms/step - loss: 0.9811 - accuracy: 0.5480 - val_loss: 0.9819 - val_accuracy: 0.5547\n",
      "Epoch 35/250\n",
      "420/420 [==============================] - 1s 2ms/step - loss: 0.9778 - accuracy: 0.5499 - val_loss: 1.0718 - val_accuracy: 0.5285\n",
      "Epoch 36/250\n",
      "420/420 [==============================] - 1s 1ms/step - loss: 0.9782 - accuracy: 0.5476 - val_loss: 0.9689 - val_accuracy: 0.5448\n",
      "Epoch 37/250\n",
      "420/420 [==============================] - 1s 1ms/step - loss: 0.9749 - accuracy: 0.5500 - val_loss: 0.9644 - val_accuracy: 0.5578\n",
      "Epoch 38/250\n",
      "420/420 [==============================] - 1s 1ms/step - loss: 0.9741 - accuracy: 0.5481 - val_loss: 0.9685 - val_accuracy: 0.5589\n",
      "Epoch 39/250\n",
      "420/420 [==============================] - 1s 1ms/step - loss: 0.9740 - accuracy: 0.5501 - val_loss: 0.9668 - val_accuracy: 0.5552\n",
      "Epoch 40/250\n",
      "420/420 [==============================] - 1s 2ms/step - loss: 0.9724 - accuracy: 0.5525 - val_loss: 0.9679 - val_accuracy: 0.5462\n",
      "Epoch 41/250\n",
      "420/420 [==============================] - 1s 3ms/step - loss: 0.9716 - accuracy: 0.5504 - val_loss: 0.9626 - val_accuracy: 0.5553\n",
      "Epoch 42/250\n",
      "420/420 [==============================] - 1s 2ms/step - loss: 0.9696 - accuracy: 0.5515 - val_loss: 0.9697 - val_accuracy: 0.5581\n",
      "Epoch 43/250\n",
      "420/420 [==============================] - 1s 1ms/step - loss: 0.9690 - accuracy: 0.5503 - val_loss: 0.9563 - val_accuracy: 0.5556\n",
      "Epoch 44/250\n",
      "420/420 [==============================] - 1s 2ms/step - loss: 0.9665 - accuracy: 0.5542 - val_loss: 0.9828 - val_accuracy: 0.5482\n",
      "Epoch 45/250\n",
      "420/420 [==============================] - 1s 1ms/step - loss: 0.9637 - accuracy: 0.5548 - val_loss: 0.9773 - val_accuracy: 0.5508\n",
      "Epoch 46/250\n",
      "420/420 [==============================] - 1s 1ms/step - loss: 0.9648 - accuracy: 0.5534 - val_loss: 0.9578 - val_accuracy: 0.5493\n",
      "Epoch 47/250\n",
      "420/420 [==============================] - 1s 1ms/step - loss: 0.9624 - accuracy: 0.5557 - val_loss: 0.9537 - val_accuracy: 0.5575\n",
      "Epoch 48/250\n",
      "420/420 [==============================] - 1s 1ms/step - loss: 0.9632 - accuracy: 0.5545 - val_loss: 0.9550 - val_accuracy: 0.5607\n",
      "Epoch 49/250\n",
      "420/420 [==============================] - 1s 1ms/step - loss: 0.9615 - accuracy: 0.5544 - val_loss: 0.9646 - val_accuracy: 0.5553\n",
      "Epoch 50/250\n",
      "420/420 [==============================] - 1s 1ms/step - loss: 0.9599 - accuracy: 0.5565 - val_loss: 0.9615 - val_accuracy: 0.5540\n",
      "Epoch 51/250\n",
      "420/420 [==============================] - 1s 1ms/step - loss: 0.9601 - accuracy: 0.5563 - val_loss: 0.9593 - val_accuracy: 0.5598\n",
      "Epoch 52/250\n",
      "420/420 [==============================] - 1s 1ms/step - loss: 0.9597 - accuracy: 0.5548 - val_loss: 0.9610 - val_accuracy: 0.5618\n",
      "Epoch 53/250\n",
      "420/420 [==============================] - 1s 2ms/step - loss: 0.9579 - accuracy: 0.5584 - val_loss: 0.9641 - val_accuracy: 0.5477\n",
      "Epoch 54/250\n",
      "420/420 [==============================] - 1s 2ms/step - loss: 0.9571 - accuracy: 0.5544 - val_loss: 0.9629 - val_accuracy: 0.5438\n",
      "Epoch 55/250\n",
      "420/420 [==============================] - 1s 1ms/step - loss: 0.9571 - accuracy: 0.5570 - val_loss: 0.9569 - val_accuracy: 0.5524\n",
      "Epoch 56/250\n",
      "420/420 [==============================] - 1s 1ms/step - loss: 0.9556 - accuracy: 0.5571 - val_loss: 0.9491 - val_accuracy: 0.5491\n",
      "Epoch 57/250\n",
      "420/420 [==============================] - 1s 1ms/step - loss: 0.9560 - accuracy: 0.5574 - val_loss: 0.9505 - val_accuracy: 0.5619\n"
     ]
    },
    {
     "name": "stdout",
     "output_type": "stream",
     "text": [
      "Epoch 58/250\n",
      "420/420 [==============================] - 1s 1ms/step - loss: 0.9547 - accuracy: 0.5609 - val_loss: 0.9571 - val_accuracy: 0.5581\n",
      "Epoch 59/250\n",
      "420/420 [==============================] - 1s 3ms/step - loss: 0.9529 - accuracy: 0.5593 - val_loss: 0.9670 - val_accuracy: 0.5502\n",
      "Epoch 60/250\n",
      "420/420 [==============================] - 1s 2ms/step - loss: 0.9529 - accuracy: 0.5577 - val_loss: 0.9444 - val_accuracy: 0.5623\n",
      "Epoch 61/250\n",
      "420/420 [==============================] - 1s 2ms/step - loss: 0.9523 - accuracy: 0.5596 - val_loss: 0.9450 - val_accuracy: 0.5646\n",
      "Epoch 62/250\n",
      "420/420 [==============================] - 1s 2ms/step - loss: 0.9515 - accuracy: 0.5600 - val_loss: 0.9573 - val_accuracy: 0.5596\n",
      "Epoch 63/250\n",
      "420/420 [==============================] - 2s 4ms/step - loss: 0.9507 - accuracy: 0.5569 - val_loss: 0.9471 - val_accuracy: 0.5635\n",
      "Epoch 64/250\n",
      "420/420 [==============================] - 2s 4ms/step - loss: 0.9505 - accuracy: 0.5577 - val_loss: 0.9492 - val_accuracy: 0.5669\n",
      "Epoch 65/250\n",
      "420/420 [==============================] - 1s 3ms/step - loss: 0.9506 - accuracy: 0.5598 - val_loss: 0.9470 - val_accuracy: 0.5635\n",
      "Epoch 66/250\n",
      "420/420 [==============================] - 1s 2ms/step - loss: 0.9494 - accuracy: 0.5613 - val_loss: 0.9537 - val_accuracy: 0.5596\n",
      "Epoch 67/250\n",
      "420/420 [==============================] - 1s 2ms/step - loss: 0.9501 - accuracy: 0.5602 - val_loss: 0.9461 - val_accuracy: 0.5558\n",
      "Epoch 68/250\n",
      "420/420 [==============================] - 1s 1ms/step - loss: 0.9480 - accuracy: 0.5599 - val_loss: 0.9507 - val_accuracy: 0.5621\n",
      "Epoch 69/250\n",
      "420/420 [==============================] - 1s 1ms/step - loss: 0.9486 - accuracy: 0.5590 - val_loss: 0.9467 - val_accuracy: 0.5622\n",
      "Epoch 70/250\n",
      "420/420 [==============================] - 1s 2ms/step - loss: 0.9479 - accuracy: 0.5617 - val_loss: 0.9544 - val_accuracy: 0.5580\n"
     ]
    }
   ],
   "source": [
    "history_Power_Intensity = model_Power_Intensity.fit(Train_Intensity, Y_Intensity, validation_data=(Validation_Intensity, Y_Validation), epochs=250, batch_size=100,\n",
    "                    callbacks = [keras.callbacks.EarlyStopping(monitor='val_loss', patience=10, verbose=0, mode='auto')])"
   ]
  },
  {
   "cell_type": "code",
   "execution_count": null,
   "metadata": {},
   "outputs": [],
   "source": [
    "_, accuracy = model_Power_Intensity.evaluate(Validation_Intensity, Y_Validation)\n",
    "print('Accuracy: %.2f' % (accuracy*100))"
   ]
  },
  {
   "cell_type": "code",
   "execution_count": 53,
   "metadata": {},
   "outputs": [
    {
     "data": {
      "image/png": "[encoded data removed]",
      "text/plain": [
       "<Figure size 432x288 with 1 Axes>"
      ]
     },
     "metadata": {
      "needs_background": "light"
     },
     "output_type": "display_data"
    }
   ],
   "source": [
    "plt.figure()\n",
    "plt.title('Training performance')\n",
    "plt.plot(history_Power_Intensity.history['loss'], label='train_loss')\n",
    "plt.plot(history_Power_Intensity.history['val_loss'], label='Validation')\n",
    "plt.legend()\n",
    "plt.show()\n"
   ]
  },
  {
   "cell_type": "code",
   "execution_count": 40,
   "metadata": {},
   "outputs": [],
   "source": [
    "Train_Quadrature = X_Quadratue_Label_shuffled[0:length_of_X_train,0:128]\n",
    "Y_Quadrature = X_Quadratue_Label_shuffled[0:length_of_X_train,128:]\n",
    "\n",
    "Validation_Quadraturey = X_Quadratue_Label_shuffled[length_of_X_train:length_of_X_validation,0:128]\n",
    "Y_Validation_Quadrature = X_Quadratue_Label_shuffled[length_of_X_train:length_of_X_validation,128:]"
   ]
  },
  {
   "cell_type": "code",
   "execution_count": 41,
   "metadata": {},
   "outputs": [],
   "source": [
    "#callback = tf.keras.callbacks.EarlyStopping(monitor='loss', patience=6)\n",
    "\n",
    "model_Quadrature = Sequential()\n",
    "model_Quadrature.add(Dense(128, input_dim=128, activation='relu'))\n",
    "model_Quadrature.add(Dense(64, activation='relu'))\n",
    "model_Quadrature.add(Dense(32, activation='relu'))\n",
    "model_Quadrature.add(Dense(10, activation='softmax'))\n",
    "\n",
    "model_Quadrature.compile(optimizer='rmsprop',loss='categorical_crossentropy',metrics=['accuracy'])"
   ]
  },
  {
   "cell_type": "code",
   "execution_count": 42,
   "metadata": {},
   "outputs": [
    {
     "name": "stdout",
     "output_type": "stream",
     "text": [
      "Epoch 1/4000\n",
      "420/420 [==============================] - 1s 3ms/step - loss: 1.6170 - accuracy: 0.3470 - val_loss: 1.3410 - val_accuracy: 0.4213\n",
      "Epoch 2/4000\n",
      "420/420 [==============================] - 1s 2ms/step - loss: 1.2685 - accuracy: 0.4604 - val_loss: 1.2597 - val_accuracy: 0.4698\n",
      "Epoch 3/4000\n",
      "420/420 [==============================] - 1s 1ms/step - loss: 1.2191 - accuracy: 0.4771 - val_loss: 1.2125 - val_accuracy: 0.4795\n",
      "Epoch 4/4000\n",
      "420/420 [==============================] - 1s 1ms/step - loss: 1.1954 - accuracy: 0.4803 - val_loss: 1.1899 - val_accuracy: 0.4945\n",
      "Epoch 5/4000\n",
      "420/420 [==============================] - 1s 1ms/step - loss: 1.1733 - accuracy: 0.4898 - val_loss: 1.1604 - val_accuracy: 0.5057\n",
      "Epoch 6/4000\n",
      "420/420 [==============================] - 1s 1ms/step - loss: 1.1578 - accuracy: 0.4950 - val_loss: 1.1542 - val_accuracy: 0.4922\n",
      "Epoch 7/4000\n",
      "420/420 [==============================] - 1s 1ms/step - loss: 1.1422 - accuracy: 0.5001 - val_loss: 1.1536 - val_accuracy: 0.4893\n",
      "Epoch 8/4000\n",
      "420/420 [==============================] - 1s 1ms/step - loss: 1.1288 - accuracy: 0.5059 - val_loss: 1.1394 - val_accuracy: 0.5073\n",
      "Epoch 9/4000\n",
      "420/420 [==============================] - 1s 1ms/step - loss: 1.1183 - accuracy: 0.5084 - val_loss: 1.1251 - val_accuracy: 0.4972\n",
      "Epoch 10/4000\n",
      "420/420 [==============================] - 1s 1ms/step - loss: 1.1078 - accuracy: 0.5121 - val_loss: 1.1132 - val_accuracy: 0.5240\n",
      "Epoch 11/4000\n",
      "420/420 [==============================] - 1s 1ms/step - loss: 1.0969 - accuracy: 0.5145 - val_loss: 1.1031 - val_accuracy: 0.5218\n",
      "Epoch 12/4000\n",
      "420/420 [==============================] - 1s 1ms/step - loss: 1.0875 - accuracy: 0.5164 - val_loss: 1.0999 - val_accuracy: 0.5108\n",
      "Epoch 13/4000\n",
      "420/420 [==============================] - 1s 2ms/step - loss: 1.0783 - accuracy: 0.5238 - val_loss: 1.0700 - val_accuracy: 0.5132\n",
      "Epoch 14/4000\n",
      "420/420 [==============================] - 1s 4ms/step - loss: 1.0694 - accuracy: 0.5249 - val_loss: 1.0841 - val_accuracy: 0.5260\n",
      "Epoch 15/4000\n",
      "420/420 [==============================] - 1s 2ms/step - loss: 1.0606 - accuracy: 0.5281 - val_loss: 1.0681 - val_accuracy: 0.5301\n",
      "Epoch 16/4000\n",
      "420/420 [==============================] - 1s 2ms/step - loss: 1.0529 - accuracy: 0.5303 - val_loss: 1.0411 - val_accuracy: 0.5372\n",
      "Epoch 17/4000\n",
      "420/420 [==============================] - 1s 2ms/step - loss: 1.0452 - accuracy: 0.5309 - val_loss: 1.1124 - val_accuracy: 0.5042\n",
      "Epoch 18/4000\n",
      "420/420 [==============================] - 1s 2ms/step - loss: 1.0365 - accuracy: 0.5348 - val_loss: 1.0394 - val_accuracy: 0.5269\n",
      "Epoch 19/4000\n",
      "420/420 [==============================] - 1s 3ms/step - loss: 1.0305 - accuracy: 0.5360 - val_loss: 1.0124 - val_accuracy: 0.5477\n",
      "Epoch 20/4000\n",
      "420/420 [==============================] - 1s 1ms/step - loss: 1.0223 - accuracy: 0.5427 - val_loss: 1.0197 - val_accuracy: 0.5390\n",
      "Epoch 21/4000\n",
      "420/420 [==============================] - 1s 3ms/step - loss: 1.0158 - accuracy: 0.5405 - val_loss: 1.0195 - val_accuracy: 0.5413\n",
      "Epoch 22/4000\n",
      "420/420 [==============================] - 2s 4ms/step - loss: 1.0109 - accuracy: 0.5442 - val_loss: 1.0314 - val_accuracy: 0.5418\n",
      "Epoch 23/4000\n",
      "420/420 [==============================] - 1s 2ms/step - loss: 1.0062 - accuracy: 0.5435 - val_loss: 0.9895 - val_accuracy: 0.5580\n",
      "Epoch 24/4000\n",
      "420/420 [==============================] - 1s 1ms/step - loss: 1.0027 - accuracy: 0.5475 - val_loss: 0.9916 - val_accuracy: 0.5568\n",
      "Epoch 25/4000\n",
      "420/420 [==============================] - 1s 2ms/step - loss: 0.9960 - accuracy: 0.5492 - val_loss: 0.9868 - val_accuracy: 0.5489\n",
      "Epoch 26/4000\n",
      "420/420 [==============================] - 2s 4ms/step - loss: 0.9929 - accuracy: 0.5486 - val_loss: 0.9840 - val_accuracy: 0.5596\n",
      "Epoch 27/4000\n",
      "420/420 [==============================] - 1s 3ms/step - loss: 0.9906 - accuracy: 0.5496 - val_loss: 0.9862 - val_accuracy: 0.5550\n",
      "Epoch 28/4000\n",
      "420/420 [==============================] - 1s 2ms/step - loss: 0.9869 - accuracy: 0.5508 - val_loss: 0.9975 - val_accuracy: 0.5282\n",
      "Epoch 29/4000\n",
      "420/420 [==============================] - 1s 1ms/step - loss: 0.9834 - accuracy: 0.5515 - val_loss: 1.0004 - val_accuracy: 0.5447\n",
      "Epoch 30/4000\n",
      "420/420 [==============================] - 1s 1ms/step - loss: 0.9818 - accuracy: 0.5533 - val_loss: 0.9729 - val_accuracy: 0.5544\n",
      "Epoch 31/4000\n",
      "420/420 [==============================] - 1s 1ms/step - loss: 0.9777 - accuracy: 0.5532 - val_loss: 0.9659 - val_accuracy: 0.5607\n",
      "Epoch 32/4000\n",
      "420/420 [==============================] - 1s 1ms/step - loss: 0.9742 - accuracy: 0.5555 - val_loss: 0.9858 - val_accuracy: 0.5340\n",
      "Epoch 33/4000\n",
      "420/420 [==============================] - 1s 1ms/step - loss: 0.9735 - accuracy: 0.5566 - val_loss: 0.9763 - val_accuracy: 0.5640\n",
      "Epoch 34/4000\n",
      "420/420 [==============================] - 1s 1ms/step - loss: 0.9692 - accuracy: 0.5582 - val_loss: 0.9754 - val_accuracy: 0.5338\n",
      "Epoch 35/4000\n",
      "420/420 [==============================] - 1s 2ms/step - loss: 0.9681 - accuracy: 0.5581 - val_loss: 0.9708 - val_accuracy: 0.5655\n",
      "Epoch 36/4000\n",
      "420/420 [==============================] - 1s 2ms/step - loss: 0.9664 - accuracy: 0.5600 - val_loss: 0.9855 - val_accuracy: 0.5593\n",
      "Epoch 37/4000\n",
      "420/420 [==============================] - 1s 1ms/step - loss: 0.9642 - accuracy: 0.5596 - val_loss: 0.9574 - val_accuracy: 0.5459\n",
      "Epoch 38/4000\n",
      "420/420 [==============================] - 1s 2ms/step - loss: 0.9624 - accuracy: 0.5622 - val_loss: 0.9581 - val_accuracy: 0.5638\n",
      "Epoch 39/4000\n",
      "420/420 [==============================] - 1s 1ms/step - loss: 0.9615 - accuracy: 0.5618 - val_loss: 0.9750 - val_accuracy: 0.5472\n",
      "Epoch 40/4000\n",
      "420/420 [==============================] - 1s 3ms/step - loss: 0.9581 - accuracy: 0.5610 - val_loss: 0.9531 - val_accuracy: 0.5673\n",
      "Epoch 41/4000\n",
      "420/420 [==============================] - 1s 1ms/step - loss: 0.9582 - accuracy: 0.5638 - val_loss: 0.9664 - val_accuracy: 0.5658\n",
      "Epoch 42/4000\n",
      "420/420 [==============================] - 1s 1ms/step - loss: 0.9562 - accuracy: 0.5638 - val_loss: 0.9609 - val_accuracy: 0.5518\n",
      "Epoch 43/4000\n",
      "420/420 [==============================] - 1s 2ms/step - loss: 0.9553 - accuracy: 0.5639 - val_loss: 0.9627 - val_accuracy: 0.5636\n",
      "Epoch 44/4000\n",
      "420/420 [==============================] - 1s 1ms/step - loss: 0.9542 - accuracy: 0.5645 - val_loss: 0.9510 - val_accuracy: 0.5696\n",
      "Epoch 45/4000\n",
      "420/420 [==============================] - 1s 1ms/step - loss: 0.9522 - accuracy: 0.5657 - val_loss: 0.9489 - val_accuracy: 0.5710\n",
      "Epoch 46/4000\n",
      "420/420 [==============================] - 1s 2ms/step - loss: 0.9521 - accuracy: 0.5649 - val_loss: 0.9547 - val_accuracy: 0.5658\n",
      "Epoch 47/4000\n",
      "420/420 [==============================] - 2s 4ms/step - loss: 0.9486 - accuracy: 0.5650 - val_loss: 0.9557 - val_accuracy: 0.5455\n",
      "Epoch 48/4000\n",
      "420/420 [==============================] - 1s 2ms/step - loss: 0.9475 - accuracy: 0.5661 - val_loss: 0.9562 - val_accuracy: 0.5679\n",
      "Epoch 49/4000\n",
      "420/420 [==============================] - 1s 2ms/step - loss: 0.9473 - accuracy: 0.5689 - val_loss: 0.9658 - val_accuracy: 0.5655\n",
      "Epoch 50/4000\n",
      "420/420 [==============================] - 1s 1ms/step - loss: 0.9452 - accuracy: 0.5696 - val_loss: 0.9511 - val_accuracy: 0.5671\n",
      "Epoch 51/4000\n",
      "420/420 [==============================] - 1s 1ms/step - loss: 0.9456 - accuracy: 0.5670 - val_loss: 0.9491 - val_accuracy: 0.5721\n",
      "Epoch 52/4000\n",
      "420/420 [==============================] - 1s 1ms/step - loss: 0.9436 - accuracy: 0.5688 - val_loss: 0.9480 - val_accuracy: 0.5688\n",
      "Epoch 53/4000\n",
      "420/420 [==============================] - 1s 1ms/step - loss: 0.9432 - accuracy: 0.5692 - val_loss: 0.9631 - val_accuracy: 0.5642\n",
      "Epoch 54/4000\n",
      "420/420 [==============================] - 1s 2ms/step - loss: 0.9406 - accuracy: 0.5708 - val_loss: 0.9785 - val_accuracy: 0.5627\n",
      "Epoch 55/4000\n",
      "420/420 [==============================] - 1s 1ms/step - loss: 0.9412 - accuracy: 0.5696 - val_loss: 0.9527 - val_accuracy: 0.5663\n",
      "Epoch 56/4000\n",
      "420/420 [==============================] - 1s 1ms/step - loss: 0.9401 - accuracy: 0.5699 - val_loss: 0.9529 - val_accuracy: 0.5713\n",
      "Epoch 57/4000\n",
      "420/420 [==============================] - 1s 1ms/step - loss: 0.9386 - accuracy: 0.5720 - val_loss: 0.9377 - val_accuracy: 0.5703\n",
      "Epoch 58/4000\n",
      "420/420 [==============================] - 1s 1ms/step - loss: 0.9381 - accuracy: 0.5696 - val_loss: 0.9530 - val_accuracy: 0.5649\n",
      "Epoch 59/4000\n",
      "420/420 [==============================] - 1s 1ms/step - loss: 0.9368 - accuracy: 0.5701 - val_loss: 0.9596 - val_accuracy: 0.5631\n",
      "Epoch 60/4000\n",
      "420/420 [==============================] - 1s 1ms/step - loss: 0.9366 - accuracy: 0.5734 - val_loss: 0.9419 - val_accuracy: 0.5715\n",
      "Epoch 61/4000\n",
      "420/420 [==============================] - 1s 1ms/step - loss: 0.9352 - accuracy: 0.5723 - val_loss: 0.9406 - val_accuracy: 0.5663\n",
      "Epoch 62/4000\n",
      "420/420 [==============================] - 1s 1ms/step - loss: 0.9349 - accuracy: 0.5728 - val_loss: 0.9792 - val_accuracy: 0.5369\n",
      "Epoch 63/4000\n",
      "420/420 [==============================] - 1s 1ms/step - loss: 0.9330 - accuracy: 0.5735 - val_loss: 0.9487 - val_accuracy: 0.5713\n",
      "Epoch 64/4000\n",
      "420/420 [==============================] - 1s 1ms/step - loss: 0.9332 - accuracy: 0.5722 - val_loss: 0.9421 - val_accuracy: 0.5706\n",
      "Epoch 65/4000\n",
      "420/420 [==============================] - 1s 2ms/step - loss: 0.9305 - accuracy: 0.5738 - val_loss: 0.9564 - val_accuracy: 0.5660\n",
      "Epoch 66/4000\n",
      "420/420 [==============================] - 1s 2ms/step - loss: 0.9315 - accuracy: 0.5754 - val_loss: 0.9692 - val_accuracy: 0.5622\n",
      "Epoch 67/4000\n",
      "420/420 [==============================] - 1s 1ms/step - loss: 0.9302 - accuracy: 0.5743 - val_loss: 0.9363 - val_accuracy: 0.5738\n",
      "Epoch 68/4000\n",
      "420/420 [==============================] - 1s 1ms/step - loss: 0.9290 - accuracy: 0.5745 - val_loss: 0.9543 - val_accuracy: 0.5677\n",
      "Epoch 69/4000\n",
      "420/420 [==============================] - 1s 1ms/step - loss: 0.9301 - accuracy: 0.5750 - val_loss: 0.9398 - val_accuracy: 0.5716\n",
      "Epoch 70/4000\n",
      "420/420 [==============================] - 1s 1ms/step - loss: 0.9284 - accuracy: 0.5736 - val_loss: 0.9429 - val_accuracy: 0.5719\n",
      "Epoch 71/4000\n",
      "420/420 [==============================] - 1s 1ms/step - loss: 0.9274 - accuracy: 0.5761 - val_loss: 0.9461 - val_accuracy: 0.5693\n",
      "Epoch 72/4000\n",
      "420/420 [==============================] - 1s 2ms/step - loss: 0.9278 - accuracy: 0.5773 - val_loss: 0.9390 - val_accuracy: 0.5697\n",
      "Epoch 73/4000\n",
      "420/420 [==============================] - 1s 1ms/step - loss: 0.9271 - accuracy: 0.5785 - val_loss: 0.9380 - val_accuracy: 0.5750\n",
      "Epoch 74/4000\n",
      "420/420 [==============================] - 1s 1ms/step - loss: 0.9263 - accuracy: 0.5780 - val_loss: 0.9442 - val_accuracy: 0.5710\n",
      "Epoch 75/4000\n",
      "420/420 [==============================] - 1s 2ms/step - loss: 0.9256 - accuracy: 0.5774 - val_loss: 0.9434 - val_accuracy: 0.5717\n",
      "Epoch 76/4000\n",
      "420/420 [==============================] - 1s 1ms/step - loss: 0.9242 - accuracy: 0.5776 - val_loss: 0.9696 - val_accuracy: 0.5620\n",
      "Epoch 77/4000\n",
      "420/420 [==============================] - 1s 2ms/step - loss: 0.9247 - accuracy: 0.5787 - val_loss: 0.9507 - val_accuracy: 0.5707\n"
     ]
    }
   ],
   "source": [
    "history_Quadrature = model_Quadrature.fit(Train_Quadrature, Y_Quadrature, epochs=4000,validation_data=(Validation_Quadraturey, Y_Validation_Quadrature), batch_size=100,\n",
    "                     callbacks = [keras.callbacks.EarlyStopping(monitor='val_loss', patience=10, verbose=0, mode='auto')])"
   ]
  },
  {
   "cell_type": "code",
   "execution_count": 43,
   "metadata": {},
   "outputs": [
    {
     "name": "stdout",
     "output_type": "stream",
     "text": [
      "375/375 [==============================] - 0s 1ms/step - loss: 0.9507 - accuracy: 0.5707\n",
      "Accuracy: 57.07\n"
     ]
    }
   ],
   "source": [
    "_, accuracy = model_Quadrature.evaluate(Validation_Quadraturey, Y_Validation_Quadrature)\n",
    "print('Accuracy: %.2f' % (accuracy*100))\n"
   ]
  },
  {
   "cell_type": "code",
   "execution_count": 44,
   "metadata": {},
   "outputs": [
    {
     "data": {
      "image/png": "[encoded data removed]",
      "text/plain": [
       "<Figure size 432x288 with 1 Axes>"
      ]
     },
     "metadata": {
      "needs_background": "light"
     },
     "output_type": "display_data"
    }
   ],
   "source": [
    "plt.figure()\n",
    "plt.title('Training performance')\n",
    "#plt.plot(history3.epoch, history3.history['loss'], label='train loss+error')\n",
    "#plt.plot(history3.epoch, history3.history['val_loss'], label= 'val_loss')\n",
    "plt.plot(history_Quadrature.history['loss'], label='train_loss')\n",
    "plt.plot(history_Quadrature.history['val_loss'], label='Validation')\n",
    "plt.legend()\n",
    "plt.show()\n"
   ]
  },
  {
   "cell_type": "code",
   "execution_count": 54,
   "metadata": {},
   "outputs": [
    {
     "name": "stdout",
     "output_type": "stream",
     "text": [
      "(42000, 128)\n"
     ]
    }
   ],
   "source": [
    "Train_complex = X_complex_Label_shuffled[0:length_of_X_train,0:128]\n",
    "Y_complex = X_complex_Label_shuffled[0:length_of_X_train,128:]\n",
    "\n",
    "print(Train_complex.shape)\n",
    "Validation_complex = X_complex_Label_shuffled[length_of_X_train:length_of_X_validation,0:128]\n",
    "Y_validation_complex = X_complex_Label_shuffled[length_of_X_train:length_of_X_validation,128:]"
   ]
  },
  {
   "cell_type": "code",
   "execution_count": 55,
   "metadata": {},
   "outputs": [],
   "source": [
    "#callback = tf.keras.callbacks.EarlyStopping(monitor='loss', patience=10)\n",
    "\n",
    "model3 = Sequential()\n",
    "model3.add(Dense(128, input_dim=128, activation='relu'))\n",
    "model3.add(Dense(64, activation='relu'))\n",
    "model3.add(Dense(32, activation='relu'))\n",
    "model3.add(Dense(10, activation='softmax'))\n",
    "\n",
    "model3.compile(optimizer='rmsprop',loss='categorical_crossentropy',metrics=['accuracy'])"
   ]
  },
  {
   "cell_type": "code",
   "execution_count": 56,
   "metadata": {},
   "outputs": [
    {
     "name": "stdout",
     "output_type": "stream",
     "text": [
      "Epoch 1/6000\n",
      "420/420 [==============================] - 2s 4ms/step - loss: 1.5776 - accuracy: 0.3576 - val_loss: 1.3540 - val_accuracy: 0.4242\n",
      "Epoch 2/6000\n",
      "420/420 [==============================] - 1s 1ms/step - loss: 1.2389 - accuracy: 0.4826 - val_loss: 1.1056 - val_accuracy: 0.5807\n",
      "Epoch 3/6000\n",
      "420/420 [==============================] - 1s 2ms/step - loss: 1.0323 - accuracy: 0.5706 - val_loss: 0.9985 - val_accuracy: 0.5716\n",
      "Epoch 4/6000\n",
      "420/420 [==============================] - 1s 1ms/step - loss: 0.9392 - accuracy: 0.5952 - val_loss: 0.8964 - val_accuracy: 0.6097\n",
      "Epoch 5/6000\n",
      "420/420 [==============================] - 1s 1ms/step - loss: 0.8668 - accuracy: 0.6166 - val_loss: 0.8391 - val_accuracy: 0.6142\n",
      "Epoch 6/6000\n",
      "420/420 [==============================] - 1s 2ms/step - loss: 0.8057 - accuracy: 0.6334 - val_loss: 0.8051 - val_accuracy: 0.6267\n",
      "Epoch 7/6000\n",
      "420/420 [==============================] - 1s 1ms/step - loss: 0.7678 - accuracy: 0.6417 - val_loss: 0.7493 - val_accuracy: 0.6503\n",
      "Epoch 8/6000\n",
      "420/420 [==============================] - 1s 1ms/step - loss: 0.7399 - accuracy: 0.6512 - val_loss: 0.7458 - val_accuracy: 0.6343\n",
      "Epoch 9/6000\n",
      "420/420 [==============================] - 1s 1ms/step - loss: 0.7216 - accuracy: 0.6586 - val_loss: 0.7088 - val_accuracy: 0.6579\n",
      "Epoch 10/6000\n",
      "420/420 [==============================] - 1s 2ms/step - loss: 0.7037 - accuracy: 0.6631 - val_loss: 0.7052 - val_accuracy: 0.6681\n",
      "Epoch 11/6000\n",
      "420/420 [==============================] - 1s 2ms/step - loss: 0.6916 - accuracy: 0.6659 - val_loss: 0.6986 - val_accuracy: 0.6708\n",
      "Epoch 12/6000\n",
      "420/420 [==============================] - 1s 1ms/step - loss: 0.6798 - accuracy: 0.6715 - val_loss: 0.6873 - val_accuracy: 0.6624\n",
      "Epoch 13/6000\n",
      "420/420 [==============================] - 1s 1ms/step - loss: 0.6717 - accuracy: 0.6725 - val_loss: 0.6825 - val_accuracy: 0.6629\n",
      "Epoch 14/6000\n",
      "420/420 [==============================] - 1s 1ms/step - loss: 0.6617 - accuracy: 0.6755 - val_loss: 0.6737 - val_accuracy: 0.6728\n",
      "Epoch 15/6000\n",
      "420/420 [==============================] - 1s 2ms/step - loss: 0.6564 - accuracy: 0.6717 - val_loss: 0.6770 - val_accuracy: 0.6585\n",
      "Epoch 16/6000\n",
      "420/420 [==============================] - 1s 1ms/step - loss: 0.6482 - accuracy: 0.6797 - val_loss: 0.7355 - val_accuracy: 0.6475\n",
      "Epoch 17/6000\n",
      "420/420 [==============================] - 1s 1ms/step - loss: 0.6416 - accuracy: 0.6803 - val_loss: 0.6531 - val_accuracy: 0.6747\n",
      "Epoch 18/6000\n",
      "420/420 [==============================] - 1s 1ms/step - loss: 0.6346 - accuracy: 0.6814 - val_loss: 0.6466 - val_accuracy: 0.6603\n",
      "Epoch 19/6000\n",
      "420/420 [==============================] - 1s 1ms/step - loss: 0.6298 - accuracy: 0.6833 - val_loss: 0.6496 - val_accuracy: 0.6757\n",
      "Epoch 20/6000\n",
      "420/420 [==============================] - 1s 1ms/step - loss: 0.6245 - accuracy: 0.6856 - val_loss: 0.6351 - val_accuracy: 0.6734\n",
      "Epoch 21/6000\n",
      "420/420 [==============================] - 1s 1ms/step - loss: 0.6198 - accuracy: 0.6886 - val_loss: 0.6305 - val_accuracy: 0.6829\n",
      "Epoch 22/6000\n",
      "420/420 [==============================] - 1s 1ms/step - loss: 0.6154 - accuracy: 0.6873 - val_loss: 0.6299 - val_accuracy: 0.6761\n",
      "Epoch 23/6000\n",
      "420/420 [==============================] - 1s 1ms/step - loss: 0.6108 - accuracy: 0.6878 - val_loss: 0.6290 - val_accuracy: 0.6818\n",
      "Epoch 24/6000\n",
      "420/420 [==============================] - 1s 1ms/step - loss: 0.6083 - accuracy: 0.6882 - val_loss: 0.6310 - val_accuracy: 0.6790\n",
      "Epoch 25/6000\n",
      "420/420 [==============================] - 1s 1ms/step - loss: 0.6038 - accuracy: 0.6908 - val_loss: 0.6225 - val_accuracy: 0.6881\n",
      "Epoch 26/6000\n",
      "420/420 [==============================] - 1s 1ms/step - loss: 0.6021 - accuracy: 0.6926 - val_loss: 0.6505 - val_accuracy: 0.6742\n",
      "Epoch 27/6000\n",
      "420/420 [==============================] - 1s 1ms/step - loss: 0.5998 - accuracy: 0.6916 - val_loss: 0.6201 - val_accuracy: 0.6845\n",
      "Epoch 28/6000\n",
      "420/420 [==============================] - 1s 1ms/step - loss: 0.5950 - accuracy: 0.6954 - val_loss: 0.6307 - val_accuracy: 0.6819\n",
      "Epoch 29/6000\n",
      "420/420 [==============================] - 1s 2ms/step - loss: 0.5938 - accuracy: 0.6956 - val_loss: 0.6423 - val_accuracy: 0.6807\n",
      "Epoch 30/6000\n",
      "420/420 [==============================] - 1s 1ms/step - loss: 0.5915 - accuracy: 0.6976 - val_loss: 0.6220 - val_accuracy: 0.6827\n",
      "Epoch 31/6000\n",
      "420/420 [==============================] - 1s 1ms/step - loss: 0.5911 - accuracy: 0.6965 - val_loss: 0.6196 - val_accuracy: 0.6834\n",
      "Epoch 32/6000\n",
      "420/420 [==============================] - 1s 1ms/step - loss: 0.5887 - accuracy: 0.6973 - val_loss: 0.6347 - val_accuracy: 0.6838\n",
      "Epoch 33/6000\n",
      "420/420 [==============================] - 1s 3ms/step - loss: 0.5862 - accuracy: 0.7008 - val_loss: 0.6270 - val_accuracy: 0.6760\n",
      "Epoch 34/6000\n",
      "420/420 [==============================] - 1s 1ms/step - loss: 0.5845 - accuracy: 0.6997 - val_loss: 0.6119 - val_accuracy: 0.6863\n",
      "Epoch 35/6000\n",
      "420/420 [==============================] - 1s 1ms/step - loss: 0.5850 - accuracy: 0.6991 - val_loss: 0.6053 - val_accuracy: 0.6861\n",
      "Epoch 36/6000\n",
      "420/420 [==============================] - 1s 1ms/step - loss: 0.5817 - accuracy: 0.7016 - val_loss: 0.6200 - val_accuracy: 0.6633\n",
      "Epoch 37/6000\n",
      "420/420 [==============================] - 1s 2ms/step - loss: 0.5811 - accuracy: 0.6996 - val_loss: 0.6026 - val_accuracy: 0.6943\n",
      "Epoch 38/6000\n",
      "420/420 [==============================] - 1s 1ms/step - loss: 0.5792 - accuracy: 0.7034 - val_loss: 0.6171 - val_accuracy: 0.6935\n",
      "Epoch 39/6000\n",
      "420/420 [==============================] - 1s 1ms/step - loss: 0.5798 - accuracy: 0.7012 - val_loss: 0.5983 - val_accuracy: 0.6971\n",
      "Epoch 40/6000\n",
      "420/420 [==============================] - 1s 1ms/step - loss: 0.5776 - accuracy: 0.7042 - val_loss: 0.6051 - val_accuracy: 0.6896\n",
      "Epoch 41/6000\n",
      "420/420 [==============================] - 1s 1ms/step - loss: 0.5763 - accuracy: 0.7026 - val_loss: 0.6031 - val_accuracy: 0.6939\n",
      "Epoch 42/6000\n",
      "420/420 [==============================] - 1s 1ms/step - loss: 0.5744 - accuracy: 0.7066 - val_loss: 0.6261 - val_accuracy: 0.6707\n",
      "Epoch 43/6000\n",
      "420/420 [==============================] - 1s 1ms/step - loss: 0.5737 - accuracy: 0.7041 - val_loss: 0.6108 - val_accuracy: 0.6888\n",
      "Epoch 44/6000\n",
      "420/420 [==============================] - 1s 1ms/step - loss: 0.5731 - accuracy: 0.7048 - val_loss: 0.6004 - val_accuracy: 0.6923\n",
      "Epoch 45/6000\n",
      "420/420 [==============================] - 1s 1ms/step - loss: 0.5712 - accuracy: 0.7065 - val_loss: 0.6093 - val_accuracy: 0.6898\n",
      "Epoch 46/6000\n",
      "420/420 [==============================] - 1s 2ms/step - loss: 0.5701 - accuracy: 0.7084 - val_loss: 0.6044 - val_accuracy: 0.6945\n",
      "Epoch 47/6000\n",
      "420/420 [==============================] - 1s 3ms/step - loss: 0.5694 - accuracy: 0.7071 - val_loss: 0.6048 - val_accuracy: 0.6874\n",
      "Epoch 48/6000\n",
      "420/420 [==============================] - 2s 4ms/step - loss: 0.5680 - accuracy: 0.7067 - val_loss: 0.6100 - val_accuracy: 0.6945\n",
      "Epoch 49/6000\n",
      "420/420 [==============================] - 2s 4ms/step - loss: 0.5663 - accuracy: 0.7093 - val_loss: 0.5956 - val_accuracy: 0.6989\n",
      "Epoch 50/6000\n",
      "420/420 [==============================] - 1s 3ms/step - loss: 0.5657 - accuracy: 0.7096 - val_loss: 0.5997 - val_accuracy: 0.6974\n",
      "Epoch 51/6000\n",
      "420/420 [==============================] - 1s 2ms/step - loss: 0.5649 - accuracy: 0.7118 - val_loss: 0.6061 - val_accuracy: 0.6927\n",
      "Epoch 52/6000\n",
      "420/420 [==============================] - 1s 4ms/step - loss: 0.5641 - accuracy: 0.7113 - val_loss: 0.6191 - val_accuracy: 0.6915\n",
      "Epoch 53/6000\n",
      "420/420 [==============================] - 1s 1ms/step - loss: 0.5643 - accuracy: 0.7107 - val_loss: 0.6058 - val_accuracy: 0.6879\n",
      "Epoch 54/6000\n",
      "420/420 [==============================] - 1s 1ms/step - loss: 0.5632 - accuracy: 0.7093 - val_loss: 0.6180 - val_accuracy: 0.6848\n",
      "Epoch 55/6000\n",
      "420/420 [==============================] - 1s 1ms/step - loss: 0.5624 - accuracy: 0.7146 - val_loss: 0.6006 - val_accuracy: 0.6905\n",
      "Epoch 56/6000\n",
      "420/420 [==============================] - 1s 2ms/step - loss: 0.5611 - accuracy: 0.7129 - val_loss: 0.6109 - val_accuracy: 0.6905\n",
      "Epoch 57/6000\n",
      "420/420 [==============================] - 1s 3ms/step - loss: 0.5595 - accuracy: 0.7123 - val_loss: 0.5997 - val_accuracy: 0.6933\n",
      "Epoch 58/6000\n",
      "420/420 [==============================] - 1s 2ms/step - loss: 0.5584 - accuracy: 0.7126 - val_loss: 0.6023 - val_accuracy: 0.6944\n",
      "Epoch 59/6000\n",
      "420/420 [==============================] - 1s 2ms/step - loss: 0.5584 - accuracy: 0.7135 - val_loss: 0.6093 - val_accuracy: 0.6895\n"
     ]
    }
   ],
   "source": [
    "history3 = model3.fit(Train_complex, Y_complex, epochs=6000, batch_size=100,validation_data=(Validation_complex, Y_validation_complex),\n",
    "    callbacks = [keras.callbacks.EarlyStopping(monitor='val_loss', patience=10, verbose=0, mode='auto')])"
   ]
  },
  {
   "cell_type": "code",
   "execution_count": 57,
   "metadata": {},
   "outputs": [
    {
     "name": "stdout",
     "output_type": "stream",
     "text": [
      "375/375 [==============================] - 0s 1ms/step - loss: 0.6093 - accuracy: 0.6895\n",
      "Accuracy: 68.95\n"
     ]
    }
   ],
   "source": [
    "_, accuracy = model3.evaluate(Validation_complex, Y_validation_complex)\n",
    "print('Accuracy: %.2f' % (accuracy*100))"
   ]
  },
  {
   "cell_type": "code",
   "execution_count": 58,
   "metadata": {},
   "outputs": [
    {
     "data": {
      "image/png": "[encoded data removed]",
      "text/plain": [
       "<Figure size 432x288 with 1 Axes>"
      ]
     },
     "metadata": {
      "needs_background": "light"
     },
     "output_type": "display_data"
    }
   ],
   "source": [
    "plt.figure()\n",
    "plt.title('Training performance')\n",
    "#plt.plot(history3.epoch, history3.history['loss'], label='train loss+error')\n",
    "#plt.plot(history3.epoch, history3.history['val_loss'], label= 'val_loss')\n",
    "plt.plot(history3.history['loss'], label='train_loss')\n",
    "plt.plot(history3.history['val_loss'], label='Validation')\n",
    "plt.legend()\n",
    "plt.show()\n"
   ]
  },
  {
   "cell_type": "code",
   "execution_count": null,
   "metadata": {},
   "outputs": [],
   "source": []
  }
 ],
 "metadata": {
  "kernelspec": {
   "display_name": "Python 3",
   "language": "python",
   "name": "python3"
  },
  "language_info": {
   "codemirror_mode": {
    "name": "ipython",
    "version": 3
   },
   "file_extension": ".py",
   "mimetype": "text/x-python",
   "name": "python",
   "nbconvert_exporter": "python",
   "pygments_lexer": "ipython3",
   "version": "3.7.2"
  }
 },
 "nbformat": 4,
 "nbformat_minor": 4
}

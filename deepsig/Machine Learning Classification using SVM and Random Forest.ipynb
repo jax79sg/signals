{
 "cells": [
  {
   "cell_type": "code",
   "execution_count": 26,
   "metadata": {},
   "outputs": [],
   "source": [
    "%matplotlib inline\n",
    "import os,random\n",
    "import numpy as np\n",
    "import matplotlib.pyplot as plt\n",
    "import seaborn as sns\n",
    "import pickle as cPickle, random, sys, keras\n",
    "import scipy\n",
    "from sklearn import preprocessing\n",
    "import tensorflow as tf\n",
    "from numpy.fft import *\n",
    "\n",
    "\n",
    "from tensorflow import keras\n",
    "from tensorflow.keras import layers\n",
    "from keras.models import Sequential\n",
    "from keras.layers import Dense\n",
    "import tensorflow as tf\n",
    "\n",
    "Xd = cPickle.load(open(\"RML2016.10b.dat\",'rb'), encoding='latin1')"
   ]
  },
  {
   "cell_type": "code",
   "execution_count": 29,
   "metadata": {},
   "outputs": [],
   "source": [
    "INTENSITY_AXIS=0\n",
    "QUADRATURE_AXIS=1\n",
    "\n",
    "snrs,mods = map(lambda j: sorted(list(set(map(lambda x: x[j], Xd.keys())))), [1,0])\n",
    "\n",
    "X_Intensity = []  \n",
    "X_Quadrature = []\n",
    "Label_strings = []\n",
    "for mod in mods:\n",
    "    X_Intensity.append(Xd[(mod,18)][:,INTENSITY_AXIS,:])\n",
    "    X_Quadrature.append(Xd[(mod,18)][:,QUADRATURE_AXIS,:])\n",
    "    for label in range(len(Xd[(mod,18)][:,INTENSITY_AXIS,:])):\n",
    "        Label_strings.append(mod)\n",
    "X_Intensity = np.vstack(X_Intensity) # Quick way to create stacked dataset\n",
    "X_Quadrature = np.vstack(X_Quadrature)\n",
    "\n",
    "Label_strings=np.vstack(Label_strings)\n",
    "complex_num = X_Intensity + 1j*X_Quadrature\n"
   ]
  },
  {
   "cell_type": "code",
   "execution_count": 30,
   "metadata": {},
   "outputs": [],
   "source": [
    "X_Intensity_FFT = abs(np.fft.fftshift(fft(X_Intensity[:]-np.mean(X_Intensity[:]))))\n",
    "X_Quadrature_FFT = abs(np.fft.fftshift(fft(X_Quadrature[:]-np.mean(X_Quadrature[:]))))\n",
    "X_complex_FFT = abs(np.fft.fftshift(fft(complex_num[:]-np.mean(complex_num[:]))))\n",
    "\n",
    "X_Power_Intensity_FFT = X_Intensity_FFT**2\n",
    "X_Power_Quadrature_FFT = X_Quadrature_FFT**2\n",
    "X_Power_complex_FFT = X_complex_FFT**2\n",
    "\n",
    "le= preprocessing.LabelEncoder()\n",
    "le.fit(Label_strings)\n",
    "Label_Y_numbers = le.transform(Label_strings)\n",
    "#depth = 10\n",
    "#Label = tf.one_hot(Label_Y_numbers,depth)"
   ]
  },
  {
   "cell_type": "code",
   "execution_count": 31,
   "metadata": {},
   "outputs": [
    {
     "data": {
      "text/plain": [
       "array([0, 0, 0, ..., 9, 9, 9])"
      ]
     },
     "execution_count": 31,
     "metadata": {},
     "output_type": "execute_result"
    }
   ],
   "source": [
    "Label_Y_numbers"
   ]
  },
  {
   "cell_type": "code",
   "execution_count": 32,
   "metadata": {},
   "outputs": [
    {
     "data": {
      "text/plain": [
       "(60000, 129)"
      ]
     },
     "execution_count": 32,
     "metadata": {},
     "output_type": "execute_result"
    }
   ],
   "source": [
    "X_Intensity_Label = np.c_[X_Intensity_FFT, Label_Y_numbers]\n",
    "X_Quadrature_Label = np.c_[X_Quadrature_FFT,Label_Y_numbers]\n",
    "X_complex_Label = np.c_[X_complex_FFT,Label_Y_numbers]\n",
    "\n",
    "X_Intensity_Label.shape"
   ]
  },
  {
   "cell_type": "code",
   "execution_count": 33,
   "metadata": {},
   "outputs": [
    {
     "data": {
      "text/plain": [
       "42000"
      ]
     },
     "execution_count": 33,
     "metadata": {},
     "output_type": "execute_result"
    }
   ],
   "source": [
    "import copy\n",
    "X_Intensity_Label_shuffled = copy.copy(X_Intensity_Label) # Create another copy to shuffle\n",
    "X_Quadratue_Label_shuffled = copy.copy(X_Quadrature_Label)\n",
    "X_complex_Label_shuffled = copy.copy(X_complex_Label)\n",
    "\n",
    "np.random.shuffle(X_Intensity_Label_shuffled)\n",
    "np.random.shuffle(X_Quadratue_Label_shuffled)\n",
    "np.random.shuffle(X_complex_Label_shuffled)\n",
    "\n",
    "length_of_X_train = int(0.7*X_Intensity_Label_shuffled.shape[0]) #42000\n",
    "length_of_X_validation = (int(0.2*X_Intensity_Label_shuffled.shape[0]))+length_of_X_train #12000\n",
    "length_of_X_train"
   ]
  },
  {
   "cell_type": "markdown",
   "metadata": {},
   "source": [
    "# Support Vector Machine "
   ]
  },
  {
   "cell_type": "code",
   "execution_count": 38,
   "metadata": {},
   "outputs": [],
   "source": [
    "Train_Intensity = X_Intensity_Label_shuffled[0:length_of_X_train,0:128]\n",
    "Y_Intensity = X_Intensity_Label_shuffled[0:length_of_X_train,128:]\n",
    "\n",
    "Validation_Intensity = X_Intensity_Label_shuffled[length_of_X_train:length_of_X_validation,0:128]\n",
    "Y_Validation = X_Intensity_Label_shuffled[length_of_X_train:length_of_X_validation,128:]\n"
   ]
  },
  {
   "cell_type": "code",
   "execution_count": 36,
   "metadata": {},
   "outputs": [
    {
     "data": {
      "text/plain": [
       "array([1., 4., 1., ..., 6., 8., 2.])"
      ]
     },
     "execution_count": 36,
     "metadata": {},
     "output_type": "execute_result"
    }
   ],
   "source": [
    "Y_Intensity_1D = np.ravel(Y_Intensity,order = 'C')\n",
    "Y_Intensity_1D"
   ]
  },
  {
   "cell_type": "code",
   "execution_count": 39,
   "metadata": {},
   "outputs": [
    {
     "data": {
      "text/plain": [
       "SVC()"
      ]
     },
     "execution_count": 39,
     "metadata": {},
     "output_type": "execute_result"
    }
   ],
   "source": [
    "from sklearn import svm\n",
    "# Creating a SVM Classifier \n",
    "svm_classifier_rbf = svm.SVC(kernel='rbf')\n",
    "svm_classifier_rbf.fit(Train_Intensity,Y_Intensity_1D)"
   ]
  },
  {
   "cell_type": "code",
   "execution_count": null,
   "metadata": {},
   "outputs": [],
   "source": []
  },
  {
   "cell_type": "code",
   "execution_count": 40,
   "metadata": {},
   "outputs": [
    {
     "data": {
      "text/plain": [
       "array([3., 8., 3., ..., 5., 6., 8.])"
      ]
     },
     "execution_count": 40,
     "metadata": {},
     "output_type": "execute_result"
    }
   ],
   "source": [
    "y_pred_rbf=svm_classifier_rbf.predict(Validation_Intensity)#using Radial Base Function Kernal\n",
    "y_pred_rbf"
   ]
  },
  {
   "cell_type": "code",
   "execution_count": 41,
   "metadata": {},
   "outputs": [
    {
     "name": "stdout",
     "output_type": "stream",
     "text": [
      "Accuracy: 0.52275\n"
     ]
    }
   ],
   "source": [
    "from sklearn import metrics\n",
    "print(\"Accuracy:\",metrics.accuracy_score(Y_Validation, y_pred_rbf))"
   ]
  },
  {
   "cell_type": "code",
   "execution_count": 42,
   "metadata": {},
   "outputs": [
    {
     "name": "stdout",
     "output_type": "stream",
     "text": [
      "(42000, 128)\n"
     ]
    }
   ],
   "source": [
    "Train_complex = X_complex_Label_shuffled[0:length_of_X_train,0:128]\n",
    "Y_complex = X_complex_Label_shuffled[0:length_of_X_train,128:]\n",
    "\n",
    "print(Train_complex.shape)\n",
    "Validation_complex = X_complex_Label_shuffled[length_of_X_train:length_of_X_validation,0:128]\n",
    "Y_validation_complex = X_complex_Label_shuffled[length_of_X_train:length_of_X_validation,128:]"
   ]
  },
  {
   "cell_type": "code",
   "execution_count": 43,
   "metadata": {},
   "outputs": [],
   "source": [
    "Y_complex_1D = np.ravel(Y_complex,order='C')"
   ]
  },
  {
   "cell_type": "code",
   "execution_count": 44,
   "metadata": {},
   "outputs": [
    {
     "data": {
      "text/plain": [
       "SVC()"
      ]
     },
     "execution_count": 44,
     "metadata": {},
     "output_type": "execute_result"
    }
   ],
   "source": [
    "from sklearn import svm\n",
    "# Creating a SVM Classifier \n",
    "svm_classifier_rbf_Complex = svm.SVC(kernel='rbf')\n",
    "svm_classifier_rbf_Complex.fit(Train_complex,Y_complex_1D)"
   ]
  },
  {
   "cell_type": "code",
   "execution_count": 47,
   "metadata": {},
   "outputs": [],
   "source": [
    "from sklearn import metrics\n",
    "y_pred_rbf_complex=svm_classifier_rbf_Complex.predict(Validation_complex)"
   ]
  },
  {
   "cell_type": "code",
   "execution_count": 49,
   "metadata": {},
   "outputs": [
    {
     "data": {
      "text/plain": [
       "array([6., 2., 6., ..., 0., 3., 5.])"
      ]
     },
     "execution_count": 49,
     "metadata": {},
     "output_type": "execute_result"
    }
   ],
   "source": [
    "Y_validation_complex_1D = np.ravel(Y_validation_complex,order= 'C')\n",
    "y_pred_rbf_complex"
   ]
  },
  {
   "cell_type": "code",
   "execution_count": 50,
   "metadata": {},
   "outputs": [
    {
     "name": "stdout",
     "output_type": "stream",
     "text": [
      "Accuracy: 0.6760833333333334\n"
     ]
    }
   ],
   "source": [
    "print(\"Accuracy:\",metrics.accuracy_score(Y_validation_complex_1D, y_pred_rbf_complex))"
   ]
  },
  {
   "cell_type": "markdown",
   "metadata": {},
   "source": [
    "# Random Forest Classifier"
   ]
  },
  {
   "cell_type": "code",
   "execution_count": 72,
   "metadata": {},
   "outputs": [
    {
     "data": {
      "text/plain": [
       "RandomForestClassifier(criterion='entropy', n_estimators=500, random_state=150)"
      ]
     },
     "execution_count": 72,
     "metadata": {},
     "output_type": "execute_result"
    }
   ],
   "source": [
    "from sklearn.ensemble import RandomForestClassifier\n",
    "classifier = RandomForestClassifier(n_estimators = 500, criterion = 'entropy', random_state = 150)\n",
    "classifier.fit(Train_complex, Y_complex_1D)"
   ]
  },
  {
   "cell_type": "code",
   "execution_count": 73,
   "metadata": {},
   "outputs": [],
   "source": [
    "y_pred = classifier.predict(Validation_complex)"
   ]
  },
  {
   "cell_type": "code",
   "execution_count": 74,
   "metadata": {},
   "outputs": [
    {
     "name": "stdout",
     "output_type": "stream",
     "text": [
      "Accuracy: 0.6859166666666666\n"
     ]
    }
   ],
   "source": [
    "print(\"Accuracy:\",metrics.accuracy_score(Y_validation_complex_1D, y_pred))"
   ]
  },
  {
   "cell_type": "code",
   "execution_count": null,
   "metadata": {},
   "outputs": [],
   "source": [
    "dual=[True,False]\n",
    "max_iter=[100,110,120,130,140]\n",
    "param_grid = dict(dual=dual,max_iter=max_iter)\n",
    "\n",
    "lr = LogisticRegression(penalty='l2')\n",
    "grid = GridSearchCV(estimator=lr, param_grid=param_grid, cv = 3, n_jobs=-1)\n",
    "grid_result = grid.fit(X, y)"
   ]
  }
 ],
 "metadata": {
  "kernelspec": {
   "display_name": "emil",
   "language": "python",
   "name": "emil"
  },
  "language_info": {
   "codemirror_mode": {
    "name": "ipython",
    "version": 3
   },
   "file_extension": ".py",
   "mimetype": "text/x-python",
   "name": "python",
   "nbconvert_exporter": "python",
   "pygments_lexer": "ipython3",
   "version": "3.7.2"
  }
 },
 "nbformat": 4,
 "nbformat_minor": 4
}

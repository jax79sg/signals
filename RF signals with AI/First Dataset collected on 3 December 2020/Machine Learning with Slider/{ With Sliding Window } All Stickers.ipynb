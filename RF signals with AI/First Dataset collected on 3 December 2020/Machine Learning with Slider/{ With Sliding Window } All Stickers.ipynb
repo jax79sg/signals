{
 "cells": [
  {
   "cell_type": "code",
   "execution_count": 1,
   "metadata": {},
   "outputs": [],
   "source": [
    "%matplotlib inline\n",
    "import matplotlib.pyplot as plt\n",
    "import numpy as np\n",
    "import pandas as pd\n",
    "\n",
    "import scipy\n",
    "from sklearn import preprocessing\n",
    "import tensorflow as tf\n",
    "from numpy.fft import *\n",
    "\n",
    "import os\n",
    "from os import listdir\n",
    "import tensorflow.keras\n",
    "from tensorflow.keras import layers\n",
    "from tensorflow.keras.models import Sequential\n",
    "from tensorflow.keras.layers import Dense\n",
    "\n",
    "from tensorflow.keras.layers import Reshape,Dense,Dropout,Activation,Flatten\n",
    "from tensorflow.keras.layers import GlobalMaxPooling1D,Conv1D,MaxPooling1D\n",
    "from tensorflow.keras.callbacks import EarlyStopping"
   ]
  },
  {
   "cell_type": "code",
   "execution_count": 2,
   "metadata": {},
   "outputs": [],
   "source": [
    "path_First_sticker= '../../First Dataset collected on 3 December 2020/Data_to_be_process/First_Sticker'\n",
    "path_Second_sticker= '../../First Dataset collected on 3 December 2020/Data_to_be_process/Second_Sticker'\n",
    "path_Third_sticker= '../../First Dataset collected on 3 December 2020/Data_to_be_process/Third_Sticker'\n",
    "path_Fourth_sticker= '../../First Dataset collected on 3 December 2020/Data_to_be_process/Fourth_Sticker'\n",
    "path_Fifth_sticker= '../../First Dataset collected on 3 December 2020/Data_to_be_process/Fifth_Sticker'\n"
   ]
  },
  {
   "cell_type": "code",
   "execution_count": 3,
   "metadata": {},
   "outputs": [],
   "source": [
    "First_Sticker_BackgroundRFactivities = pd.read_csv(path_First_sticker+'/BackgroundRFactivities.csv')\n",
    "First_Sticker_Connected = pd.read_csv(path_First_sticker+'/Connected.csv')\n",
    "First_Sticker_Searching = pd.read_csv(path_First_sticker+'/Searching.csv')\n",
    "First_Sticker_Searching_without_connected = pd.read_csv(path_First_sticker+'/Searching_without_connecting_to_app.csv')\n",
    "\n",
    "Third_Sticker_BackgroundRFactivities = pd.read_csv(path_Third_sticker+'/BackgroundRFactivities.csv')\n",
    "Third_Sticker_Connected = pd.read_csv(path_Third_sticker+'/Connected.csv')\n",
    "Third_Sticker_Searching = pd.read_csv(path_Third_sticker+'/Searching.csv')\n",
    "Third_Sticker_Searching_without_connected = pd.read_csv(path_Third_sticker+'/Searching_without_connecting_to_app.csv')\n",
    "\n",
    "Fourth_Sticker_BackgroundRFactivities = pd.read_csv(path_Fourth_sticker+'/BackgroundRFactivities.csv')\n",
    "Fourth_Sticker_Connected = pd.read_csv(path_Fourth_sticker+'/Connected.csv')\n",
    "Fourth_Sticker_Searching = pd.read_csv(path_Fourth_sticker+'/Searching.csv')\n",
    "Fourth_Sticker_Searching_without_connected = pd.read_csv(path_Fourth_sticker+'/Searching_without_connecting_to_app.csv')\n",
    "\n",
    "\n",
    "Fifth_Sticker_BackgroundRFactivities = pd.read_csv(path_Fifth_sticker+'/BackgroundRFactivities.csv')\n",
    "Fifth_Sticker_Connected = pd.read_csv(path_Fifth_sticker+'/Connected.csv')\n",
    "Fifth_Sticker_Searching = pd.read_csv(path_Fifth_sticker+'/Searching.csv')\n",
    "Fifth_Sticker_Searching_without_connected = pd.read_csv(path_Fifth_sticker+'/Searching_without_connecting_to_app.csv')\n",
    "\n",
    "#Stacking changes the pandas to numpy array\n",
    "\n",
    "Stacked_BackgroundRFactivities = np.vstack((First_Sticker_BackgroundRFactivities,Third_Sticker_BackgroundRFactivities,\n",
    "                                            Fourth_Sticker_BackgroundRFactivities,Fifth_Sticker_BackgroundRFactivities))\n",
    "Stacked_Connected = np.vstack((First_Sticker_Connected,Third_Sticker_Connected,Fourth_Sticker_Connected,Fifth_Sticker_Connected))\n",
    "\n",
    "Stacked_Searching = np.vstack((First_Sticker_Searching,Third_Sticker_Searching,Fourth_Sticker_Searching,Fifth_Sticker_Searching))\n",
    "\n",
    "Stacked_Searching_WIFI_Established = np.vstack((First_Sticker_Searching_without_connected,\n",
    "                                                Third_Sticker_Searching_without_connected,\n",
    "                                                Fourth_Sticker_Searching_without_connected,\n",
    "                                                Fifth_Sticker_Searching_without_connected))"
   ]
  },
  {
   "cell_type": "code",
   "execution_count": null,
   "metadata": {},
   "outputs": [],
   "source": []
  },
  {
   "cell_type": "code",
   "execution_count": 4,
   "metadata": {},
   "outputs": [],
   "source": [
    "\n",
    "I_Data_ALL_BackgroundRFactivities = Stacked_BackgroundRFactivities[0:,0]\n",
    "Q_Data_ALL_BackgroundRFactivities= Stacked_BackgroundRFactivities[0:,1]\n",
    "\n",
    "I_Data_ALL_Connected = Stacked_Connected[0:,0]\n",
    "Q_Data_ALL_Connected = Stacked_Connected[0:,1]\n",
    "\n",
    "I_Data_ALL_Searching = Stacked_Searching[0:,0]\n",
    "Q_Data_ALL_Searching = Stacked_Searching[0:,1]\n",
    "\n",
    "I_Data_ALL_Searching_WIFI_established = Stacked_Searching_WIFI_Established[0:,0]\n",
    "Q_Data_ALL_Searching_WIFI_established = Stacked_Searching_WIFI_Established[0:,1]\n",
    "\n"
   ]
  },
  {
   "cell_type": "code",
   "execution_count": 5,
   "metadata": {},
   "outputs": [],
   "source": [
    "# Sliding window\n",
    "\n",
    "def sliding_window(Data, window_size, overlap, copy = False):\n",
    "    sh = (Data.size - window_size + 1, window_size)\n",
    "    st = Data.strides * 2\n",
    "    view = np.lib.stride_tricks.as_strided(Data, strides = st, shape = sh)[0::overlap]\n",
    "    if copy:\n",
    "        return view.copy()\n",
    "    else:\n",
    "        return view\n"
   ]
  },
  {
   "cell_type": "code",
   "execution_count": 6,
   "metadata": {},
   "outputs": [
    {
     "name": "stdout",
     "output_type": "stream",
     "text": [
      "Background I(7129, 3800)\n",
      "Background Q(7129, 3800)\n",
      "Connected I(7129, 3800)\n",
      "Connected Q(7129, 3800)\n",
      "Searching I(7129, 3800)\n",
      "Searching Q(7129, 3800)\n",
      "Searching_WIFI_Established I(7129, 3800)\n",
      "Searching_WIFI_Established Q(7129, 3800)\n"
     ]
    }
   ],
   "source": [
    "# Creating sliding window Dataset\n",
    "\n",
    "# 50% Over lapping \n",
    "window = 3800\n",
    "overlap = 1900\n",
    "\n",
    "I_Background_50_overlap = sliding_window(I_Data_ALL_BackgroundRFactivities,window,overlap)\n",
    "Q_Background_50_overlap = sliding_window(Q_Data_ALL_BackgroundRFactivities,window,overlap)\n",
    "\n",
    "I_Connected_50_overlap = sliding_window(I_Data_ALL_Connected,window,overlap)\n",
    "Q_Connected_50_overlap = sliding_window(Q_Data_ALL_Connected,window,overlap)\n",
    "\n",
    "I_Searching_50_overlap = sliding_window(I_Data_ALL_Searching,window,overlap)\n",
    "Q_Searching_50_overlap = sliding_window(Q_Data_ALL_Searching,window,overlap)\n",
    "\n",
    "I_Searching_WIFI_established_50_overlap = sliding_window(I_Data_ALL_Searching_WIFI_established,window,overlap)\n",
    "Q_Searching_WIFI_established_50_overlap = sliding_window(Q_Data_ALL_Searching_WIFI_established,window,overlap)\n",
    "\n",
    "\n",
    "# Concatenating the I Q overlap into a new variable for scaling\n",
    "\n",
    "Concatenate_IQ_First_BackgroundRFactivities_2Dim = np.concatenate((I_Background_50_overlap,Q_Background_50_overlap),axis=1)\n",
    "\n",
    "Concatenate_IQ_First_Connected_2Dim = np.concatenate((I_Connected_50_overlap,Q_Connected_50_overlap),axis=1)\n",
    "\n",
    "Concatenate_IQ_First_Searching_2Dim = np.concatenate((I_Searching_50_overlap,Q_Searching_50_overlap),axis=1)\n",
    "\n",
    "Concatenate_IQ_First_Searching_WIFI_established_2Dim = np.concatenate((I_Searching_WIFI_established_50_overlap,\n",
    "                                                                       Q_Searching_WIFI_established_50_overlap),axis=1)\n",
    "\n",
    "print((\"Background I\" ) + str(I_Background_50_overlap.shape))\n",
    "print((\"Background Q\" ) + str(Q_Background_50_overlap.shape))\n",
    "\n",
    "print((\"Connected I\" ) + str(I_Connected_50_overlap.shape))\n",
    "print((\"Connected Q\" ) + str(Q_Connected_50_overlap.shape))\n",
    "\n",
    "print((\"Searching I\" ) + str(I_Searching_50_overlap.shape))\n",
    "print((\"Searching Q\" ) + str(Q_Searching_50_overlap.shape))\n",
    "\n",
    "print((\"Searching_WIFI_Established I\" ) + str(I_Searching_WIFI_established_50_overlap.shape))\n",
    "print((\"Searching_WIFI_Established Q\" ) + str(Q_Searching_WIFI_established_50_overlap.shape))\n"
   ]
  },
  {
   "cell_type": "code",
   "execution_count": 7,
   "metadata": {},
   "outputs": [
    {
     "name": "stdout",
     "output_type": "stream",
     "text": [
      "BackGround I & Q (7129, 7600)\n",
      "Connected I & Q (7129, 7600)\n",
      "Searching I & Q (7129, 7600)\n",
      "Searching WIFI established I & Q (7129, 7600)\n"
     ]
    }
   ],
   "source": [
    "print(\"BackGround I & Q \" + str(Concatenate_IQ_First_BackgroundRFactivities_2Dim.shape))\n",
    "print(\"Connected I & Q \" + str(Concatenate_IQ_First_Connected_2Dim.shape))\n",
    "print(\"Searching I & Q \" + str(Concatenate_IQ_First_Searching_2Dim.shape))\n",
    "print(\"Searching WIFI established I & Q \" + str(Concatenate_IQ_First_Searching_WIFI_established_2Dim.shape))"
   ]
  },
  {
   "cell_type": "code",
   "execution_count": 8,
   "metadata": {},
   "outputs": [],
   "source": [
    "from sklearn.preprocessing import RobustScaler,StandardScaler\n",
    "\n",
    "scaler_backgroundRFactivites = StandardScaler()\n",
    "scaler_backgroundRFactivites_scaled = scaler_backgroundRFactivites.fit(Concatenate_IQ_First_BackgroundRFactivities_2Dim)\n",
    "IQ_BackgroundRFactivites_numpy_scaled= scaler_backgroundRFactivites_scaled.transform(Concatenate_IQ_First_BackgroundRFactivities_2Dim)\n",
    "\n",
    "scaler_connected = StandardScaler()\n",
    "scaler_connected_scaled = scaler_connected.fit(Concatenate_IQ_First_Connected_2Dim)\n",
    "IQ_connected_numpy_scaled= scaler_connected_scaled.transform(Concatenate_IQ_First_Connected_2Dim)\n",
    "\n",
    "\n",
    "scaler_searching = StandardScaler()\n",
    "scaler_searching_scaled = scaler_searching.fit(Concatenate_IQ_First_Searching_2Dim)\n",
    "IQ_searching_numpy_scaled= scaler_backgroundRFactivites_scaled.transform(Concatenate_IQ_First_Searching_2Dim)\n",
    "\n",
    "scaler_searching_WIFI_established = StandardScaler()\n",
    "scaler_searching_WIFI_established_scaled = scaler_searching_WIFI_established.fit(Concatenate_IQ_First_Searching_WIFI_established_2Dim)\n",
    "IQ_searching_WIFI_established_numpy_scaled= scaler_searching_WIFI_established_scaled.transform(Concatenate_IQ_First_Searching_WIFI_established_2Dim)"
   ]
  },
  {
   "cell_type": "code",
   "execution_count": 9,
   "metadata": {},
   "outputs": [
    {
     "data": {
      "text/plain": [
       "array([[1., 0., 0., 0.],\n",
       "       [0., 1., 0., 0.],\n",
       "       [0., 0., 1., 0.],\n",
       "       [0., 0., 0., 1.]])"
      ]
     },
     "execution_count": 9,
     "metadata": {},
     "output_type": "execute_result"
    }
   ],
   "source": [
    "from sklearn.preprocessing import OneHotEncoder\n",
    "\n",
    "Label =[['BackgroundRFactivities'],['Connected'],['Searching'],['Searching_WIFI_Establised']]\n",
    "\n",
    "enc = OneHotEncoder(handle_unknown='ignore', sparse=False)\n",
    "\n",
    "enc = enc.fit(Label)\n",
    "\n",
    "Labelled = enc.transform(Label)\n",
    "\n",
    "Labelled"
   ]
  },
  {
   "cell_type": "code",
   "execution_count": 10,
   "metadata": {},
   "outputs": [
    {
     "name": "stdout",
     "output_type": "stream",
     "text": [
      "Connected dataset shape : (7129, 7604)\n",
      "Connected dataset shape : (7129, 7604)\n",
      "Connected dataset shape : (7129, 7604)\n",
      "Connected dataset shape : (7129, 7604)\n",
      "\n",
      "\n",
      "[[ 0.68404579 -1.09419687 -0.44452592 ...  0.          0.\n",
      "   0.        ]\n",
      " [-0.98419512 -0.62252453  0.77085669 ...  0.          0.\n",
      "   0.        ]\n",
      " [ 0.69361766 -0.45614696 -0.99340839 ...  0.          0.\n",
      "   0.        ]\n",
      " [ 1.11122485 -1.06808259 -0.26138232 ...  0.          0.\n",
      "   0.        ]\n",
      " [ 1.68827212  0.74214845 -0.86948488 ...  0.          0.\n",
      "   0.        ]]\n",
      "\n",
      "\n",
      "[[-0.01370079 -0.01752334 -0.0390753  ...  1.          0.\n",
      "   0.        ]\n",
      " [ 0.07714812  0.09397287  0.07960054 ...  1.          0.\n",
      "   0.        ]\n",
      " [-0.03300409 -0.03250051 -0.01802052 ...  1.          0.\n",
      "   0.        ]\n",
      " [ 0.102956    0.10610156  0.05193305 ...  1.          0.\n",
      "   0.        ]\n",
      " [-0.00760275  0.00264026 -0.02681362 ...  1.          0.\n",
      "   0.        ]]\n",
      "\n",
      "\n",
      "[[-5.78074174e-01 -6.79868257e-01  1.03296040e+00 ...  0.00000000e+00\n",
      "   1.00000000e+00  0.00000000e+00]\n",
      " [-2.27395390e+02 -3.29035422e+01  1.40950559e+02 ...  0.00000000e+00\n",
      "   1.00000000e+00  0.00000000e+00]\n",
      " [-3.68586874e-01 -2.77654519e-01 -6.87986278e-01 ...  0.00000000e+00\n",
      "   1.00000000e+00  0.00000000e+00]\n",
      " [ 2.88010373e+02  3.44136300e+02  4.09726679e+02 ...  0.00000000e+00\n",
      "   1.00000000e+00  0.00000000e+00]\n",
      " [ 1.03601727e+00  4.47084023e-01 -2.51238140e-01 ...  0.00000000e+00\n",
      "   1.00000000e+00  0.00000000e+00]]\n",
      "\n",
      "\n",
      "[[ 1.99310644e-02 -3.22158377e-02 -6.30491877e-02 ...  0.00000000e+00\n",
      "   0.00000000e+00  1.00000000e+00]\n",
      " [ 2.46463999e-02  2.88686898e-02 -7.59040935e-02 ...  0.00000000e+00\n",
      "   0.00000000e+00  1.00000000e+00]\n",
      " [ 2.87830804e+00 -5.52564066e+00  2.83205298e+01 ...  0.00000000e+00\n",
      "   0.00000000e+00  1.00000000e+00]\n",
      " [ 8.73304809e-03 -3.88141297e-02  1.48529049e-02 ...  0.00000000e+00\n",
      "   0.00000000e+00  1.00000000e+00]\n",
      " [ 1.58603754e-02  8.08966159e-03  1.34212153e-02 ...  0.00000000e+00\n",
      "   0.00000000e+00  1.00000000e+00]]\n"
     ]
    }
   ],
   "source": [
    "np.random.seed(2016)\n",
    "\n",
    "IQ_backgroundRFactivites_concatenate = np.tile(Labelled[0][np.newaxis,:],(IQ_BackgroundRFactivites_numpy_scaled.shape[0],1))\n",
    "IQ_BackgroundRFactivites_dataset=np.concatenate((IQ_BackgroundRFactivites_numpy_scaled,IQ_backgroundRFactivites_concatenate),axis=1)\n",
    "print(\"Connected dataset shape : \" + str(IQ_BackgroundRFactivites_dataset.shape))\n",
    "\n",
    "IQ_connected_concatenate = np.tile(Labelled[1][np.newaxis,:],(IQ_connected_numpy_scaled.shape[0],1))\n",
    "IQ_connected_dataset=np.concatenate((IQ_connected_numpy_scaled,IQ_connected_concatenate),axis=1)\n",
    "print(\"Connected dataset shape : \" + str(IQ_connected_dataset.shape))\n",
    "\n",
    "IQ_searching_concatenate = np.tile(Labelled[2][np.newaxis,:],(IQ_searching_numpy_scaled.shape[0],1))\n",
    "IQ_searching_dataset=np.concatenate((IQ_searching_numpy_scaled,IQ_searching_concatenate),axis=1)\n",
    "print(\"Connected dataset shape : \" + str(IQ_searching_dataset.shape))\n",
    "\n",
    "IQ_searching_wifi_established_concatenate = np.tile(Labelled[3][np.newaxis,:],(IQ_searching_WIFI_established_numpy_scaled.shape[0],1))\n",
    "IQ_searching_wifi_established_dataset=np.concatenate((IQ_searching_WIFI_established_numpy_scaled,IQ_searching_wifi_established_concatenate),axis=1)\n",
    "print(\"Connected dataset shape : \" + str(IQ_searching_wifi_established_dataset.shape))\n",
    "\n",
    "print('\\n')\n",
    "print(IQ_BackgroundRFactivites_dataset[0:5])\n",
    "print('\\n')\n",
    "print(IQ_connected_dataset[0:5])\n",
    "print('\\n')\n",
    "print(IQ_searching_dataset[0:5])\n",
    "print('\\n')\n",
    "print(IQ_searching_wifi_established_dataset[0:5])"
   ]
  },
  {
   "cell_type": "code",
   "execution_count": 11,
   "metadata": {},
   "outputs": [
    {
     "name": "stdout",
     "output_type": "stream",
     "text": [
      "25664\n",
      "Training Data Set shape (19961, 7600)\n",
      "[[1. 0. 0. 0.]\n",
      " [0. 1. 0. 0.]\n",
      " [0. 0. 1. 0.]\n",
      " ...\n",
      " [1. 0. 0. 0.]\n",
      " [0. 0. 1. 0.]\n",
      " [0. 0. 1. 0.]]\n"
     ]
    }
   ],
   "source": [
    "import copy\n",
    "\n",
    "stacked_data=np.vstack((IQ_BackgroundRFactivites_dataset,IQ_connected_dataset,IQ_searching_dataset,IQ_searching_wifi_established_dataset))\n",
    "Dataset_Label_shuffled = copy.copy(stacked_data)\n",
    "np.random.shuffle(Dataset_Label_shuffled)\n",
    "\n",
    "length_of_X_train = int(0.7*Dataset_Label_shuffled.shape[0]) #94836\n",
    "length_of_X_validation = (int(0.2*Dataset_Label_shuffled.shape[0]))+length_of_X_train #27096 #121932\n",
    "print(length_of_X_validation)\n",
    "\n",
    "\n",
    "Train_Dataset = Dataset_Label_shuffled[0:length_of_X_train,0:7600]\n",
    "print(\"Training Data Set shape \" + str(Train_Dataset.shape))\n",
    "Y_Train_Dataset = Dataset_Label_shuffled[0:length_of_X_train,7600:]\n",
    "print(Y_Train_Dataset)"
   ]
  },
  {
   "cell_type": "code",
   "execution_count": 12,
   "metadata": {},
   "outputs": [
    {
     "name": "stdout",
     "output_type": "stream",
     "text": [
      "(5703, 7600)\n"
     ]
    }
   ],
   "source": [
    "Validation_Dataset = Dataset_Label_shuffled[length_of_X_train:length_of_X_validation,0:7600]\n",
    "Y_Validation_Dataset = Dataset_Label_shuffled[length_of_X_train:length_of_X_validation,7600:]\n",
    "print(Validation_Dataset.shape)"
   ]
  },
  {
   "cell_type": "code",
   "execution_count": 14,
   "metadata": {},
   "outputs": [
    {
     "name": "stdout",
     "output_type": "stream",
     "text": [
      "(5703, 7600, 1)\n"
     ]
    }
   ],
   "source": [
    "Train_Dataset=Train_Dataset.reshape(19961,7600,1)\n",
    "Validation_Dataset=Validation_Dataset.reshape(5703,7600,1)\n",
    "print(Validation_Dataset.shape)"
   ]
  },
  {
   "cell_type": "code",
   "execution_count": 16,
   "metadata": {},
   "outputs": [
    {
     "name": "stdout",
     "output_type": "stream",
     "text": [
      "Model: \"sequential_1\"\n",
      "_________________________________________________________________\n",
      "Layer (type)                 Output Shape              Param #   \n",
      "=================================================================\n",
      "conv1d (Conv1D)              (None, 7591, 100)         1100      \n",
      "_________________________________________________________________\n",
      "conv1d_1 (Conv1D)            (None, 7582, 100)         100100    \n",
      "_________________________________________________________________\n",
      "max_pooling1d (MaxPooling1D) (None, 2527, 100)         0         \n",
      "_________________________________________________________________\n",
      "conv1d_2 (Conv1D)            (None, 2518, 160)         160160    \n",
      "_________________________________________________________________\n",
      "conv1d_3 (Conv1D)            (None, 2509, 160)         256160    \n",
      "_________________________________________________________________\n",
      "global_max_pooling1d (Global (None, 160)               0         \n",
      "_________________________________________________________________\n",
      "dropout (Dropout)            (None, 160)               0         \n",
      "_________________________________________________________________\n",
      "dense (Dense)                (None, 4)                 644       \n",
      "=================================================================\n",
      "Total params: 518,164\n",
      "Trainable params: 518,164\n",
      "Non-trainable params: 0\n",
      "_________________________________________________________________\n",
      "Epoch 1/100\n",
      "  2/200 [..............................] - ETA: 31s - loss: 4.7648 - accuracy: 0.2450WARNING:tensorflow:Callbacks method `on_train_batch_end` is slow compared to the batch time (batch time: 0.0792s vs `on_train_batch_end` time: 0.2114s). Check your callbacks.\n",
      "200/200 [==============================] - 64s 318ms/step - loss: 0.5334 - accuracy: 0.7911 - val_loss: 0.1823 - val_accuracy: 0.9428\n",
      "Epoch 2/100\n",
      "200/200 [==============================] - 64s 318ms/step - loss: 0.1963 - accuracy: 0.9372 - val_loss: 0.1942 - val_accuracy: 0.9355\n",
      "Epoch 3/100\n",
      "200/200 [==============================] - 64s 321ms/step - loss: 0.1908 - accuracy: 0.9381 - val_loss: 0.1695 - val_accuracy: 0.9493\n",
      "Epoch 4/100\n",
      "200/200 [==============================] - 65s 323ms/step - loss: 0.1704 - accuracy: 0.9464 - val_loss: 0.1603 - val_accuracy: 0.9525\n",
      "Epoch 5/100\n",
      "200/200 [==============================] - 65s 324ms/step - loss: 0.1640 - accuracy: 0.9490 - val_loss: 0.1647 - val_accuracy: 0.9493\n",
      "Epoch 6/100\n",
      "200/200 [==============================] - 65s 325ms/step - loss: 0.1669 - accuracy: 0.9472 - val_loss: 0.1490 - val_accuracy: 0.9530\n",
      "Epoch 7/100\n",
      "200/200 [==============================] - 65s 326ms/step - loss: 0.1556 - accuracy: 0.9504 - val_loss: 0.1456 - val_accuracy: 0.9528\n",
      "Epoch 8/100\n",
      "200/200 [==============================] - 65s 327ms/step - loss: 0.1565 - accuracy: 0.9513 - val_loss: 0.1392 - val_accuracy: 0.9563\n",
      "Epoch 9/100\n",
      "200/200 [==============================] - 66s 328ms/step - loss: 0.1484 - accuracy: 0.9507 - val_loss: 0.1464 - val_accuracy: 0.9546\n",
      "Epoch 10/100\n",
      "200/200 [==============================] - 66s 328ms/step - loss: 0.1326 - accuracy: 0.9566 - val_loss: 0.1273 - val_accuracy: 0.9581\n",
      "Epoch 11/100\n",
      "200/200 [==============================] - 66s 328ms/step - loss: 0.1601 - accuracy: 0.9514 - val_loss: 0.1338 - val_accuracy: 0.9597\n",
      "Epoch 12/100\n",
      "200/200 [==============================] - 65s 327ms/step - loss: 0.1265 - accuracy: 0.9596 - val_loss: 0.1357 - val_accuracy: 0.9591\n",
      "Epoch 13/100\n",
      "200/200 [==============================] - 66s 328ms/step - loss: 0.1111 - accuracy: 0.9637 - val_loss: 0.1232 - val_accuracy: 0.9581\n",
      "Epoch 14/100\n",
      "200/200 [==============================] - 66s 328ms/step - loss: 0.0983 - accuracy: 0.9681 - val_loss: 0.1002 - val_accuracy: 0.9704\n",
      "Epoch 15/100\n",
      "200/200 [==============================] - 66s 328ms/step - loss: 0.0781 - accuracy: 0.9746 - val_loss: 0.0688 - val_accuracy: 0.9765\n",
      "Epoch 16/100\n",
      "200/200 [==============================] - 66s 328ms/step - loss: 0.0592 - accuracy: 0.9808 - val_loss: 0.0539 - val_accuracy: 0.9849\n",
      "Epoch 17/100\n",
      "200/200 [==============================] - 65s 327ms/step - loss: 0.0413 - accuracy: 0.9869 - val_loss: 0.0366 - val_accuracy: 0.9883\n",
      "Epoch 18/100\n",
      "200/200 [==============================] - 66s 328ms/step - loss: 0.0298 - accuracy: 0.9919 - val_loss: 0.0311 - val_accuracy: 0.9911\n",
      "Epoch 19/100\n",
      "200/200 [==============================] - 66s 329ms/step - loss: 0.0348 - accuracy: 0.9887 - val_loss: 0.0306 - val_accuracy: 0.9916\n",
      "Epoch 20/100\n",
      "200/200 [==============================] - 66s 328ms/step - loss: 0.0272 - accuracy: 0.9920 - val_loss: 0.0502 - val_accuracy: 0.9819\n",
      "Epoch 21/100\n",
      "200/200 [==============================] - 66s 328ms/step - loss: 0.0222 - accuracy: 0.9931 - val_loss: 0.0339 - val_accuracy: 0.9907\n",
      "Epoch 22/100\n",
      "200/200 [==============================] - 66s 329ms/step - loss: 0.0233 - accuracy: 0.9933 - val_loss: 0.0384 - val_accuracy: 0.9884\n",
      "Epoch 00022: early stopping\n",
      "179/179 [==============================] - 6s 36ms/step - loss: 0.0384 - accuracy: 0.9884\n",
      "Accuracy_validation: 98.84\n",
      "624/624 [==============================] - 23s 37ms/step - loss: 0.0254 - accuracy: 0.9916\n",
      "Accuracy_Training: 99.16\n"
     ]
    }
   ],
   "source": [
    "Filterone = 100\n",
    "Filtertwo = 160\n",
    "KernalSize = 10\n",
    "BATCH_SIZE = 100\n",
    "epoch = 100\n",
    "dropout = 0.2\n",
    "\n",
    "model_m = Sequential()\n",
    "model_m.add(Conv1D(filters=Filterone, kernel_size=KernalSize, activation='relu', input_shape=(7600,1)))\n",
    "model_m.add(Conv1D(filters=Filterone, kernel_size=KernalSize, activation='relu'))\n",
    "model_m.add(MaxPooling1D(3))\n",
    "model_m.add(Conv1D(filters=Filtertwo, kernel_size=KernalSize, activation='relu'))\n",
    "model_m.add(Conv1D(filters=Filtertwo, kernel_size=KernalSize, activation='relu'))\n",
    "model_m.add(GlobalMaxPooling1D())\n",
    "model_m.add(Dropout(dropout))\n",
    "model_m.add(Dense(4, activation='softmax'))\n",
    "\n",
    "model_m.compile(loss='categorical_crossentropy',optimizer='adam', metrics=['accuracy'])\n",
    "model_m.summary()\n",
    "\n",
    "\n",
    "history=model_m.fit(Train_Dataset,Y_Train_Dataset, epochs=epoch, batch_size=BATCH_SIZE,shuffle=True, verbose=1, validation_data=(Validation_Dataset,Y_Validation_Dataset), callbacks=[EarlyStopping(monitor='val_loss', mode='min', verbose=1, patience=3)])\n",
    "\n",
    "_, accuracy_validation = model_m.evaluate(Validation_Dataset, Y_Validation_Dataset)\n",
    "print('Accuracy_validation: %.2f' % (accuracy_validation*100))\n",
    "\n",
    "_, accuracy_Train = model_m.evaluate(Train_Dataset, Y_Train_Dataset)\n",
    "print('Accuracy_Training: %.2f' % (accuracy_Train*100))"
   ]
  },
  {
   "cell_type": "code",
   "execution_count": 17,
   "metadata": {},
   "outputs": [
    {
     "data": {
      "image/png": "[encoded data removed]",
      "text/plain": [
       "<Figure size 432x288 with 1 Axes>"
      ]
     },
     "metadata": {
      "needs_background": "light"
     },
     "output_type": "display_data"
    }
   ],
   "source": [
    "plt.figure()\n",
    "plt.title('Training performance')\n",
    "plt.plot(history.history['loss'], label='train_loss')\n",
    "plt.plot(history.history['val_loss'], label='Validation')\n",
    "plt.legend()\n",
    "plt.show()"
   ]
  },
  {
   "cell_type": "code",
   "execution_count": 19,
   "metadata": {},
   "outputs": [
    {
     "name": "stdout",
     "output_type": "stream",
     "text": [
      "INFO:tensorflow:Assets written to: {Slider_50_Model} ALL_Sticker_TRAINED/assets\n"
     ]
    }
   ],
   "source": [
    "model_m.save(\"{Slider_50_Model} ALL_Sticker_TRAINED\")"
   ]
  },
  {
   "cell_type": "code",
   "execution_count": null,
   "metadata": {},
   "outputs": [],
   "source": []
  }
 ],
 "metadata": {
  "kernelspec": {
   "display_name": "Python 3",
   "language": "python",
   "name": "python3"
  },
  "language_info": {
   "codemirror_mode": {
    "name": "ipython",
    "version": 3
   },
   "file_extension": ".py",
   "mimetype": "text/x-python",
   "name": "python",
   "nbconvert_exporter": "python",
   "pygments_lexer": "ipython3",
   "version": "3.7.2"
  }
 },
 "nbformat": 4,
 "nbformat_minor": 4
}
